{
 "cells": [
  {
   "cell_type": "code",
   "execution_count": 1,
   "id": "bound-freedom",
   "metadata": {
    "_cell_guid": "b1076dfc-b9ad-4769-8c92-a6c4dae69d19",
    "_uuid": "8f2839f25d086af736a60e9eeb907d3b93b6e0e5",
    "execution": {
     "iopub.execute_input": "2021-04-29T16:03:18.828874Z",
     "iopub.status.busy": "2021-04-29T16:03:18.825912Z",
     "iopub.status.idle": "2021-04-29T16:03:20.151125Z",
     "shell.execute_reply": "2021-04-29T16:03:20.150443Z"
    },
    "papermill": {
     "duration": 1.365672,
     "end_time": "2021-04-29T16:03:20.151320",
     "exception": false,
     "start_time": "2021-04-29T16:03:18.785648",
     "status": "completed"
    },
    "tags": []
   },
   "outputs": [],
   "source": [
    "# import the libraries\n",
    "import pandas as pd\n",
    "import numpy as np\n",
    "import matplotlib.pyplot as plt\n",
    "from sklearn.model_selection import train_test_split\n",
    "from sklearn import tree\n",
    "from sklearn.tree import DecisionTreeClassifier"
   ]
  },
  {
   "cell_type": "code",
   "execution_count": 2,
   "id": "substantial-commons",
   "metadata": {
    "execution": {
     "iopub.execute_input": "2021-04-29T16:03:20.218176Z",
     "iopub.status.busy": "2021-04-29T16:03:20.217319Z",
     "iopub.status.idle": "2021-04-29T16:03:20.269929Z",
     "shell.execute_reply": "2021-04-29T16:03:20.270418Z"
    },
    "papermill": {
     "duration": 0.087277,
     "end_time": "2021-04-29T16:03:20.270591",
     "exception": false,
     "start_time": "2021-04-29T16:03:20.183314",
     "status": "completed"
    },
    "tags": []
   },
   "outputs": [
    {
     "data": {
      "text/html": [
       "<div>\n",
       "<style scoped>\n",
       "    .dataframe tbody tr th:only-of-type {\n",
       "        vertical-align: middle;\n",
       "    }\n",
       "\n",
       "    .dataframe tbody tr th {\n",
       "        vertical-align: top;\n",
       "    }\n",
       "\n",
       "    .dataframe thead th {\n",
       "        text-align: right;\n",
       "    }\n",
       "</style>\n",
       "<table border=\"1\" class=\"dataframe\">\n",
       "  <thead>\n",
       "    <tr style=\"text-align: right;\">\n",
       "      <th></th>\n",
       "      <th>PassengerId</th>\n",
       "      <th>Survived</th>\n",
       "      <th>Pclass</th>\n",
       "      <th>Name</th>\n",
       "      <th>Sex</th>\n",
       "      <th>Age</th>\n",
       "      <th>SibSp</th>\n",
       "      <th>Parch</th>\n",
       "      <th>Ticket</th>\n",
       "      <th>Fare</th>\n",
       "      <th>Cabin</th>\n",
       "      <th>Embarked</th>\n",
       "    </tr>\n",
       "  </thead>\n",
       "  <tbody>\n",
       "    <tr>\n",
       "      <th>0</th>\n",
       "      <td>1</td>\n",
       "      <td>0</td>\n",
       "      <td>3</td>\n",
       "      <td>Braund, Mr. Owen Harris</td>\n",
       "      <td>male</td>\n",
       "      <td>22.0</td>\n",
       "      <td>1</td>\n",
       "      <td>0</td>\n",
       "      <td>A/5 21171</td>\n",
       "      <td>7.2500</td>\n",
       "      <td>NaN</td>\n",
       "      <td>S</td>\n",
       "    </tr>\n",
       "    <tr>\n",
       "      <th>1</th>\n",
       "      <td>2</td>\n",
       "      <td>1</td>\n",
       "      <td>1</td>\n",
       "      <td>Cumings, Mrs. John Bradley (Florence Briggs Th...</td>\n",
       "      <td>female</td>\n",
       "      <td>38.0</td>\n",
       "      <td>1</td>\n",
       "      <td>0</td>\n",
       "      <td>PC 17599</td>\n",
       "      <td>71.2833</td>\n",
       "      <td>C85</td>\n",
       "      <td>C</td>\n",
       "    </tr>\n",
       "    <tr>\n",
       "      <th>2</th>\n",
       "      <td>3</td>\n",
       "      <td>1</td>\n",
       "      <td>3</td>\n",
       "      <td>Heikkinen, Miss. Laina</td>\n",
       "      <td>female</td>\n",
       "      <td>26.0</td>\n",
       "      <td>0</td>\n",
       "      <td>0</td>\n",
       "      <td>STON/O2. 3101282</td>\n",
       "      <td>7.9250</td>\n",
       "      <td>NaN</td>\n",
       "      <td>S</td>\n",
       "    </tr>\n",
       "    <tr>\n",
       "      <th>3</th>\n",
       "      <td>4</td>\n",
       "      <td>1</td>\n",
       "      <td>1</td>\n",
       "      <td>Futrelle, Mrs. Jacques Heath (Lily May Peel)</td>\n",
       "      <td>female</td>\n",
       "      <td>35.0</td>\n",
       "      <td>1</td>\n",
       "      <td>0</td>\n",
       "      <td>113803</td>\n",
       "      <td>53.1000</td>\n",
       "      <td>C123</td>\n",
       "      <td>S</td>\n",
       "    </tr>\n",
       "    <tr>\n",
       "      <th>4</th>\n",
       "      <td>5</td>\n",
       "      <td>0</td>\n",
       "      <td>3</td>\n",
       "      <td>Allen, Mr. William Henry</td>\n",
       "      <td>male</td>\n",
       "      <td>35.0</td>\n",
       "      <td>0</td>\n",
       "      <td>0</td>\n",
       "      <td>373450</td>\n",
       "      <td>8.0500</td>\n",
       "      <td>NaN</td>\n",
       "      <td>S</td>\n",
       "    </tr>\n",
       "    <tr>\n",
       "      <th>...</th>\n",
       "      <td>...</td>\n",
       "      <td>...</td>\n",
       "      <td>...</td>\n",
       "      <td>...</td>\n",
       "      <td>...</td>\n",
       "      <td>...</td>\n",
       "      <td>...</td>\n",
       "      <td>...</td>\n",
       "      <td>...</td>\n",
       "      <td>...</td>\n",
       "      <td>...</td>\n",
       "      <td>...</td>\n",
       "    </tr>\n",
       "    <tr>\n",
       "      <th>886</th>\n",
       "      <td>887</td>\n",
       "      <td>0</td>\n",
       "      <td>2</td>\n",
       "      <td>Montvila, Rev. Juozas</td>\n",
       "      <td>male</td>\n",
       "      <td>27.0</td>\n",
       "      <td>0</td>\n",
       "      <td>0</td>\n",
       "      <td>211536</td>\n",
       "      <td>13.0000</td>\n",
       "      <td>NaN</td>\n",
       "      <td>S</td>\n",
       "    </tr>\n",
       "    <tr>\n",
       "      <th>887</th>\n",
       "      <td>888</td>\n",
       "      <td>1</td>\n",
       "      <td>1</td>\n",
       "      <td>Graham, Miss. Margaret Edith</td>\n",
       "      <td>female</td>\n",
       "      <td>19.0</td>\n",
       "      <td>0</td>\n",
       "      <td>0</td>\n",
       "      <td>112053</td>\n",
       "      <td>30.0000</td>\n",
       "      <td>B42</td>\n",
       "      <td>S</td>\n",
       "    </tr>\n",
       "    <tr>\n",
       "      <th>888</th>\n",
       "      <td>889</td>\n",
       "      <td>0</td>\n",
       "      <td>3</td>\n",
       "      <td>Johnston, Miss. Catherine Helen \"Carrie\"</td>\n",
       "      <td>female</td>\n",
       "      <td>NaN</td>\n",
       "      <td>1</td>\n",
       "      <td>2</td>\n",
       "      <td>W./C. 6607</td>\n",
       "      <td>23.4500</td>\n",
       "      <td>NaN</td>\n",
       "      <td>S</td>\n",
       "    </tr>\n",
       "    <tr>\n",
       "      <th>889</th>\n",
       "      <td>890</td>\n",
       "      <td>1</td>\n",
       "      <td>1</td>\n",
       "      <td>Behr, Mr. Karl Howell</td>\n",
       "      <td>male</td>\n",
       "      <td>26.0</td>\n",
       "      <td>0</td>\n",
       "      <td>0</td>\n",
       "      <td>111369</td>\n",
       "      <td>30.0000</td>\n",
       "      <td>C148</td>\n",
       "      <td>C</td>\n",
       "    </tr>\n",
       "    <tr>\n",
       "      <th>890</th>\n",
       "      <td>891</td>\n",
       "      <td>0</td>\n",
       "      <td>3</td>\n",
       "      <td>Dooley, Mr. Patrick</td>\n",
       "      <td>male</td>\n",
       "      <td>32.0</td>\n",
       "      <td>0</td>\n",
       "      <td>0</td>\n",
       "      <td>370376</td>\n",
       "      <td>7.7500</td>\n",
       "      <td>NaN</td>\n",
       "      <td>Q</td>\n",
       "    </tr>\n",
       "  </tbody>\n",
       "</table>\n",
       "<p>891 rows × 12 columns</p>\n",
       "</div>"
      ],
      "text/plain": [
       "     PassengerId  Survived  Pclass  \\\n",
       "0              1         0       3   \n",
       "1              2         1       1   \n",
       "2              3         1       3   \n",
       "3              4         1       1   \n",
       "4              5         0       3   \n",
       "..           ...       ...     ...   \n",
       "886          887         0       2   \n",
       "887          888         1       1   \n",
       "888          889         0       3   \n",
       "889          890         1       1   \n",
       "890          891         0       3   \n",
       "\n",
       "                                                  Name     Sex   Age  SibSp  \\\n",
       "0                              Braund, Mr. Owen Harris    male  22.0      1   \n",
       "1    Cumings, Mrs. John Bradley (Florence Briggs Th...  female  38.0      1   \n",
       "2                               Heikkinen, Miss. Laina  female  26.0      0   \n",
       "3         Futrelle, Mrs. Jacques Heath (Lily May Peel)  female  35.0      1   \n",
       "4                             Allen, Mr. William Henry    male  35.0      0   \n",
       "..                                                 ...     ...   ...    ...   \n",
       "886                              Montvila, Rev. Juozas    male  27.0      0   \n",
       "887                       Graham, Miss. Margaret Edith  female  19.0      0   \n",
       "888           Johnston, Miss. Catherine Helen \"Carrie\"  female   NaN      1   \n",
       "889                              Behr, Mr. Karl Howell    male  26.0      0   \n",
       "890                                Dooley, Mr. Patrick    male  32.0      0   \n",
       "\n",
       "     Parch            Ticket     Fare Cabin Embarked  \n",
       "0        0         A/5 21171   7.2500   NaN        S  \n",
       "1        0          PC 17599  71.2833   C85        C  \n",
       "2        0  STON/O2. 3101282   7.9250   NaN        S  \n",
       "3        0            113803  53.1000  C123        S  \n",
       "4        0            373450   8.0500   NaN        S  \n",
       "..     ...               ...      ...   ...      ...  \n",
       "886      0            211536  13.0000   NaN        S  \n",
       "887      0            112053  30.0000   B42        S  \n",
       "888      2        W./C. 6607  23.4500   NaN        S  \n",
       "889      0            111369  30.0000  C148        C  \n",
       "890      0            370376   7.7500   NaN        Q  \n",
       "\n",
       "[891 rows x 12 columns]"
      ]
     },
     "execution_count": 2,
     "metadata": {},
     "output_type": "execute_result"
    }
   ],
   "source": [
    "# import the data\n",
    "df = pd.read_csv('../input/titanic/train.csv')\n",
    "df"
   ]
  },
  {
   "cell_type": "code",
   "execution_count": 3,
   "id": "unauthorized-orchestra",
   "metadata": {
    "execution": {
     "iopub.execute_input": "2021-04-29T16:03:20.354578Z",
     "iopub.status.busy": "2021-04-29T16:03:20.353812Z",
     "iopub.status.idle": "2021-04-29T16:03:20.358489Z",
     "shell.execute_reply": "2021-04-29T16:03:20.357854Z"
    },
    "papermill": {
     "duration": 0.056972,
     "end_time": "2021-04-29T16:03:20.358636",
     "exception": false,
     "start_time": "2021-04-29T16:03:20.301664",
     "status": "completed"
    },
    "tags": []
   },
   "outputs": [
    {
     "name": "stdout",
     "output_type": "stream",
     "text": [
      "<class 'pandas.core.frame.DataFrame'>\n",
      "RangeIndex: 891 entries, 0 to 890\n",
      "Data columns (total 12 columns):\n",
      " #   Column       Non-Null Count  Dtype  \n",
      "---  ------       --------------  -----  \n",
      " 0   PassengerId  891 non-null    int64  \n",
      " 1   Survived     891 non-null    int64  \n",
      " 2   Pclass       891 non-null    int64  \n",
      " 3   Name         891 non-null    object \n",
      " 4   Sex          891 non-null    object \n",
      " 5   Age          714 non-null    float64\n",
      " 6   SibSp        891 non-null    int64  \n",
      " 7   Parch        891 non-null    int64  \n",
      " 8   Ticket       891 non-null    object \n",
      " 9   Fare         891 non-null    float64\n",
      " 10  Cabin        204 non-null    object \n",
      " 11  Embarked     889 non-null    object \n",
      "dtypes: float64(2), int64(5), object(5)\n",
      "memory usage: 83.7+ KB\n"
     ]
    }
   ],
   "source": [
    "df.info()"
   ]
  },
  {
   "cell_type": "markdown",
   "id": "alleged-marathon",
   "metadata": {
    "papermill": {
     "duration": 0.03018,
     "end_time": "2021-04-29T16:03:20.419342",
     "exception": false,
     "start_time": "2021-04-29T16:03:20.389162",
     "status": "completed"
    },
    "tags": []
   },
   "source": [
    "We can see that there are three features namely Age, Cabin, Embarked having null values ."
   ]
  },
  {
   "cell_type": "code",
   "execution_count": 4,
   "id": "twenty-bulletin",
   "metadata": {
    "execution": {
     "iopub.execute_input": "2021-04-29T16:03:20.490211Z",
     "iopub.status.busy": "2021-04-29T16:03:20.486082Z",
     "iopub.status.idle": "2021-04-29T16:03:20.520564Z",
     "shell.execute_reply": "2021-04-29T16:03:20.519919Z"
    },
    "papermill": {
     "duration": 0.06942,
     "end_time": "2021-04-29T16:03:20.520708",
     "exception": false,
     "start_time": "2021-04-29T16:03:20.451288",
     "status": "completed"
    },
    "tags": []
   },
   "outputs": [
    {
     "data": {
      "text/html": [
       "<div>\n",
       "<style scoped>\n",
       "    .dataframe tbody tr th:only-of-type {\n",
       "        vertical-align: middle;\n",
       "    }\n",
       "\n",
       "    .dataframe tbody tr th {\n",
       "        vertical-align: top;\n",
       "    }\n",
       "\n",
       "    .dataframe thead th {\n",
       "        text-align: right;\n",
       "    }\n",
       "</style>\n",
       "<table border=\"1\" class=\"dataframe\">\n",
       "  <thead>\n",
       "    <tr style=\"text-align: right;\">\n",
       "      <th></th>\n",
       "      <th>PassengerId</th>\n",
       "      <th>Survived</th>\n",
       "      <th>Pclass</th>\n",
       "      <th>Age</th>\n",
       "      <th>SibSp</th>\n",
       "      <th>Parch</th>\n",
       "      <th>Fare</th>\n",
       "    </tr>\n",
       "  </thead>\n",
       "  <tbody>\n",
       "    <tr>\n",
       "      <th>count</th>\n",
       "      <td>891.000000</td>\n",
       "      <td>891.000000</td>\n",
       "      <td>891.000000</td>\n",
       "      <td>714.000000</td>\n",
       "      <td>891.000000</td>\n",
       "      <td>891.000000</td>\n",
       "      <td>891.000000</td>\n",
       "    </tr>\n",
       "    <tr>\n",
       "      <th>mean</th>\n",
       "      <td>446.000000</td>\n",
       "      <td>0.383838</td>\n",
       "      <td>2.308642</td>\n",
       "      <td>29.699118</td>\n",
       "      <td>0.523008</td>\n",
       "      <td>0.381594</td>\n",
       "      <td>32.204208</td>\n",
       "    </tr>\n",
       "    <tr>\n",
       "      <th>std</th>\n",
       "      <td>257.353842</td>\n",
       "      <td>0.486592</td>\n",
       "      <td>0.836071</td>\n",
       "      <td>14.526497</td>\n",
       "      <td>1.102743</td>\n",
       "      <td>0.806057</td>\n",
       "      <td>49.693429</td>\n",
       "    </tr>\n",
       "    <tr>\n",
       "      <th>min</th>\n",
       "      <td>1.000000</td>\n",
       "      <td>0.000000</td>\n",
       "      <td>1.000000</td>\n",
       "      <td>0.420000</td>\n",
       "      <td>0.000000</td>\n",
       "      <td>0.000000</td>\n",
       "      <td>0.000000</td>\n",
       "    </tr>\n",
       "    <tr>\n",
       "      <th>25%</th>\n",
       "      <td>223.500000</td>\n",
       "      <td>0.000000</td>\n",
       "      <td>2.000000</td>\n",
       "      <td>20.125000</td>\n",
       "      <td>0.000000</td>\n",
       "      <td>0.000000</td>\n",
       "      <td>7.910400</td>\n",
       "    </tr>\n",
       "    <tr>\n",
       "      <th>50%</th>\n",
       "      <td>446.000000</td>\n",
       "      <td>0.000000</td>\n",
       "      <td>3.000000</td>\n",
       "      <td>28.000000</td>\n",
       "      <td>0.000000</td>\n",
       "      <td>0.000000</td>\n",
       "      <td>14.454200</td>\n",
       "    </tr>\n",
       "    <tr>\n",
       "      <th>75%</th>\n",
       "      <td>668.500000</td>\n",
       "      <td>1.000000</td>\n",
       "      <td>3.000000</td>\n",
       "      <td>38.000000</td>\n",
       "      <td>1.000000</td>\n",
       "      <td>0.000000</td>\n",
       "      <td>31.000000</td>\n",
       "    </tr>\n",
       "    <tr>\n",
       "      <th>max</th>\n",
       "      <td>891.000000</td>\n",
       "      <td>1.000000</td>\n",
       "      <td>3.000000</td>\n",
       "      <td>80.000000</td>\n",
       "      <td>8.000000</td>\n",
       "      <td>6.000000</td>\n",
       "      <td>512.329200</td>\n",
       "    </tr>\n",
       "  </tbody>\n",
       "</table>\n",
       "</div>"
      ],
      "text/plain": [
       "       PassengerId    Survived      Pclass         Age       SibSp  \\\n",
       "count   891.000000  891.000000  891.000000  714.000000  891.000000   \n",
       "mean    446.000000    0.383838    2.308642   29.699118    0.523008   \n",
       "std     257.353842    0.486592    0.836071   14.526497    1.102743   \n",
       "min       1.000000    0.000000    1.000000    0.420000    0.000000   \n",
       "25%     223.500000    0.000000    2.000000   20.125000    0.000000   \n",
       "50%     446.000000    0.000000    3.000000   28.000000    0.000000   \n",
       "75%     668.500000    1.000000    3.000000   38.000000    1.000000   \n",
       "max     891.000000    1.000000    3.000000   80.000000    8.000000   \n",
       "\n",
       "            Parch        Fare  \n",
       "count  891.000000  891.000000  \n",
       "mean     0.381594   32.204208  \n",
       "std      0.806057   49.693429  \n",
       "min      0.000000    0.000000  \n",
       "25%      0.000000    7.910400  \n",
       "50%      0.000000   14.454200  \n",
       "75%      0.000000   31.000000  \n",
       "max      6.000000  512.329200  "
      ]
     },
     "execution_count": 4,
     "metadata": {},
     "output_type": "execute_result"
    }
   ],
   "source": [
    "df.describe()"
   ]
  },
  {
   "cell_type": "markdown",
   "id": "historical-paragraph",
   "metadata": {
    "papermill": {
     "duration": 0.030468,
     "end_time": "2021-04-29T16:03:20.583425",
     "exception": false,
     "start_time": "2021-04-29T16:03:20.552957",
     "status": "completed"
    },
    "tags": []
   },
   "source": [
    "## Analysing Data\n",
    "\n",
    "We will create different plots"
   ]
  },
  {
   "cell_type": "code",
   "execution_count": 5,
   "id": "pointed-specific",
   "metadata": {
    "execution": {
     "iopub.execute_input": "2021-04-29T16:03:20.651499Z",
     "iopub.status.busy": "2021-04-29T16:03:20.650860Z",
     "iopub.status.idle": "2021-04-29T16:03:20.742116Z",
     "shell.execute_reply": "2021-04-29T16:03:20.741459Z"
    },
    "papermill": {
     "duration": 0.128135,
     "end_time": "2021-04-29T16:03:20.742264",
     "exception": false,
     "start_time": "2021-04-29T16:03:20.614129",
     "status": "completed"
    },
    "tags": []
   },
   "outputs": [],
   "source": [
    "import seaborn as sns"
   ]
  },
  {
   "cell_type": "code",
   "execution_count": 6,
   "id": "sufficient-annotation",
   "metadata": {
    "execution": {
     "iopub.execute_input": "2021-04-29T16:03:20.816203Z",
     "iopub.status.busy": "2021-04-29T16:03:20.813563Z",
     "iopub.status.idle": "2021-04-29T16:03:20.956197Z",
     "shell.execute_reply": "2021-04-29T16:03:20.955661Z"
    },
    "papermill": {
     "duration": 0.183085,
     "end_time": "2021-04-29T16:03:20.956337",
     "exception": false,
     "start_time": "2021-04-29T16:03:20.773252",
     "status": "completed"
    },
    "tags": []
   },
   "outputs": [
    {
     "data": {
      "text/plain": [
       "<AxesSubplot:xlabel='Survived', ylabel='count'>"
      ]
     },
     "execution_count": 6,
     "metadata": {},
     "output_type": "execute_result"
    },
    {
     "data": {
      "image/png": "[encoded data removed]",
      "text/plain": [
       "<Figure size 432x288 with 1 Axes>"
      ]
     },
     "metadata": {
      "needs_background": "light"
     },
     "output_type": "display_data"
    }
   ],
   "source": [
    "sns.countplot(x='Survived', data=df)"
   ]
  },
  {
   "cell_type": "markdown",
   "id": "focal-wisconsin",
   "metadata": {
    "papermill": {
     "duration": 0.031273,
     "end_time": "2021-04-29T16:03:21.019380",
     "exception": false,
     "start_time": "2021-04-29T16:03:20.988107",
     "status": "completed"
    },
    "tags": []
   },
   "source": [
    "We can see that the no of passangers who survived is very less than the no of passangers who lost their life."
   ]
  },
  {
   "cell_type": "code",
   "execution_count": 7,
   "id": "basic-retreat",
   "metadata": {
    "execution": {
     "iopub.execute_input": "2021-04-29T16:03:21.095696Z",
     "iopub.status.busy": "2021-04-29T16:03:21.094683Z",
     "iopub.status.idle": "2021-04-29T16:03:21.220518Z",
     "shell.execute_reply": "2021-04-29T16:03:21.221112Z"
    },
    "papermill": {
     "duration": 0.166561,
     "end_time": "2021-04-29T16:03:21.221303",
     "exception": false,
     "start_time": "2021-04-29T16:03:21.054742",
     "status": "completed"
    },
    "tags": []
   },
   "outputs": [
    {
     "data": {
      "text/plain": [
       "<AxesSubplot:xlabel='Survived', ylabel='count'>"
      ]
     },
     "execution_count": 7,
     "metadata": {},
     "output_type": "execute_result"
    },
    {
     "data": {
      "image/png": "[encoded data removed]",
      "text/plain": [
       "<Figure size 432x288 with 1 Axes>"
      ]
     },
     "metadata": {
      "needs_background": "light"
     },
     "output_type": "display_data"
    }
   ],
   "source": [
    "sns.countplot(x='Survived', hue='Sex', data=df)"
   ]
  },
  {
   "cell_type": "markdown",
   "id": "disturbed-malaysia",
   "metadata": {
    "papermill": {
     "duration": 0.034017,
     "end_time": "2021-04-29T16:03:21.290492",
     "exception": false,
     "start_time": "2021-04-29T16:03:21.256475",
     "status": "completed"
    },
    "tags": []
   },
   "source": [
    "From the data we can see the most no of females survived compared to the males, where most of males died compared to the females."
   ]
  },
  {
   "cell_type": "code",
   "execution_count": 8,
   "id": "attempted-russell",
   "metadata": {
    "execution": {
     "iopub.execute_input": "2021-04-29T16:03:21.365263Z",
     "iopub.status.busy": "2021-04-29T16:03:21.364270Z",
     "iopub.status.idle": "2021-04-29T16:03:21.540114Z",
     "shell.execute_reply": "2021-04-29T16:03:21.538888Z"
    },
    "papermill": {
     "duration": 0.21444,
     "end_time": "2021-04-29T16:03:21.540279",
     "exception": false,
     "start_time": "2021-04-29T16:03:21.325839",
     "status": "completed"
    },
    "tags": []
   },
   "outputs": [
    {
     "data": {
      "text/plain": [
       "<AxesSubplot:xlabel='Survived', ylabel='count'>"
      ]
     },
     "execution_count": 8,
     "metadata": {},
     "output_type": "execute_result"
    },
    {
     "data": {
      "image/png": "[encoded data removed]",
      "text/plain": [
       "<Figure size 432x288 with 1 Axes>"
      ]
     },
     "metadata": {
      "needs_background": "light"
     },
     "output_type": "display_data"
    }
   ],
   "source": [
    "sns.countplot(x='Survived',hue='Pclass', data=df)"
   ]
  },
  {
   "cell_type": "markdown",
   "id": "simplified-plymouth",
   "metadata": {
    "papermill": {
     "duration": 0.035637,
     "end_time": "2021-04-29T16:03:21.612821",
     "exception": false,
     "start_time": "2021-04-29T16:03:21.577184",
     "status": "completed"
    },
    "tags": []
   },
   "source": [
    "We can see that the majority of the people who did not survived were of 3rd class"
   ]
  },
  {
   "cell_type": "code",
   "execution_count": 9,
   "id": "hydraulic-reservoir",
   "metadata": {
    "execution": {
     "iopub.execute_input": "2021-04-29T16:03:21.690281Z",
     "iopub.status.busy": "2021-04-29T16:03:21.689593Z",
     "iopub.status.idle": "2021-04-29T16:03:21.987179Z",
     "shell.execute_reply": "2021-04-29T16:03:21.987613Z"
    },
    "papermill": {
     "duration": 0.340606,
     "end_time": "2021-04-29T16:03:21.987792",
     "exception": false,
     "start_time": "2021-04-29T16:03:21.647186",
     "status": "completed"
    },
    "tags": []
   },
   "outputs": [
    {
     "data": {
      "text/plain": [
       "<AxesSubplot:ylabel='Frequency'>"
      ]
     },
     "execution_count": 9,
     "metadata": {},
     "output_type": "execute_result"
    },
    {
     "data": {
      "image/png": "[encoded data removed]",
      "text/plain": [
       "<Figure size 432x288 with 1 Axes>"
      ]
     },
     "metadata": {
      "needs_background": "light"
     },
     "output_type": "display_data"
    }
   ],
   "source": [
    "df['Age'].plot.hist()"
   ]
  },
  {
   "cell_type": "markdown",
   "id": "found-nightmare",
   "metadata": {
    "papermill": {
     "duration": 0.034274,
     "end_time": "2021-04-29T16:03:22.057576",
     "exception": false,
     "start_time": "2021-04-29T16:03:22.023302",
     "status": "completed"
    },
    "tags": []
   },
   "source": [
    "We can see that the majority of people who were traveling were mostly in the age group of 20 to 50."
   ]
  },
  {
   "cell_type": "code",
   "execution_count": 10,
   "id": "bizarre-setup",
   "metadata": {
    "execution": {
     "iopub.execute_input": "2021-04-29T16:03:22.135941Z",
     "iopub.status.busy": "2021-04-29T16:03:22.134754Z",
     "iopub.status.idle": "2021-04-29T16:03:22.307716Z",
     "shell.execute_reply": "2021-04-29T16:03:22.308250Z"
    },
    "papermill": {
     "duration": 0.214066,
     "end_time": "2021-04-29T16:03:22.308514",
     "exception": false,
     "start_time": "2021-04-29T16:03:22.094448",
     "status": "completed"
    },
    "tags": []
   },
   "outputs": [
    {
     "data": {
      "text/plain": [
       "<AxesSubplot:ylabel='Frequency'>"
      ]
     },
     "execution_count": 10,
     "metadata": {},
     "output_type": "execute_result"
    },
    {
     "data": {
      "image/png": "[encoded data removed]",
      "text/plain": [
       "<Figure size 720x360 with 1 Axes>"
      ]
     },
     "metadata": {
      "needs_background": "light"
     },
     "output_type": "display_data"
    }
   ],
   "source": [
    "df['Fare'].plot.hist(bins=20, figsize=(10,5))"
   ]
  },
  {
   "cell_type": "code",
   "execution_count": 11,
   "id": "waiting-original",
   "metadata": {
    "execution": {
     "iopub.execute_input": "2021-04-29T16:03:22.387153Z",
     "iopub.status.busy": "2021-04-29T16:03:22.386175Z",
     "iopub.status.idle": "2021-04-29T16:03:22.520653Z",
     "shell.execute_reply": "2021-04-29T16:03:22.520034Z"
    },
    "papermill": {
     "duration": 0.17295,
     "end_time": "2021-04-29T16:03:22.520802",
     "exception": false,
     "start_time": "2021-04-29T16:03:22.347852",
     "status": "completed"
    },
    "tags": []
   },
   "outputs": [
    {
     "data": {
      "text/plain": [
       "<AxesSubplot:xlabel='SibSp', ylabel='count'>"
      ]
     },
     "execution_count": 11,
     "metadata": {},
     "output_type": "execute_result"
    },
    {
     "data": {
      "image/png": "[encoded data removed]",
      "text/plain": [
       "<Figure size 432x288 with 1 Axes>"
      ]
     },
     "metadata": {
      "needs_background": "light"
     },
     "output_type": "display_data"
    }
   ],
   "source": [
    "sns.countplot(x='SibSp', data=df)"
   ]
  },
  {
   "cell_type": "code",
   "execution_count": 12,
   "id": "metric-leather",
   "metadata": {
    "execution": {
     "iopub.execute_input": "2021-04-29T16:03:22.602294Z",
     "iopub.status.busy": "2021-04-29T16:03:22.601317Z",
     "iopub.status.idle": "2021-04-29T16:03:22.744532Z",
     "shell.execute_reply": "2021-04-29T16:03:22.743853Z"
    },
    "papermill": {
     "duration": 0.187188,
     "end_time": "2021-04-29T16:03:22.744682",
     "exception": false,
     "start_time": "2021-04-29T16:03:22.557494",
     "status": "completed"
    },
    "tags": []
   },
   "outputs": [
    {
     "data": {
      "text/plain": [
       "<AxesSubplot:xlabel='Parch', ylabel='count'>"
      ]
     },
     "execution_count": 12,
     "metadata": {},
     "output_type": "execute_result"
    },
    {
     "data": {
      "image/png": "[encoded data removed]",
      "text/plain": [
       "<Figure size 432x288 with 1 Axes>"
      ]
     },
     "metadata": {
      "needs_background": "light"
     },
     "output_type": "display_data"
    }
   ],
   "source": [
    "sns.countplot(x='Parch', data=df)"
   ]
  },
  {
   "cell_type": "markdown",
   "id": "separated-opportunity",
   "metadata": {
    "papermill": {
     "duration": 0.036756,
     "end_time": "2021-04-29T16:03:22.820382",
     "exception": false,
     "start_time": "2021-04-29T16:03:22.783626",
     "status": "completed"
    },
    "tags": []
   },
   "source": [
    "## Data Wrangling\n",
    "\n",
    "We will check the null values and remove them"
   ]
  },
  {
   "cell_type": "code",
   "execution_count": 13,
   "id": "pending-construction",
   "metadata": {
    "execution": {
     "iopub.execute_input": "2021-04-29T16:03:22.921421Z",
     "iopub.status.busy": "2021-04-29T16:03:22.919680Z",
     "iopub.status.idle": "2021-04-29T16:03:22.926092Z",
     "shell.execute_reply": "2021-04-29T16:03:22.926610Z"
    },
    "papermill": {
     "duration": 0.067198,
     "end_time": "2021-04-29T16:03:22.926792",
     "exception": false,
     "start_time": "2021-04-29T16:03:22.859594",
     "status": "completed"
    },
    "tags": []
   },
   "outputs": [
    {
     "data": {
      "text/html": [
       "<div>\n",
       "<style scoped>\n",
       "    .dataframe tbody tr th:only-of-type {\n",
       "        vertical-align: middle;\n",
       "    }\n",
       "\n",
       "    .dataframe tbody tr th {\n",
       "        vertical-align: top;\n",
       "    }\n",
       "\n",
       "    .dataframe thead th {\n",
       "        text-align: right;\n",
       "    }\n",
       "</style>\n",
       "<table border=\"1\" class=\"dataframe\">\n",
       "  <thead>\n",
       "    <tr style=\"text-align: right;\">\n",
       "      <th></th>\n",
       "      <th>PassengerId</th>\n",
       "      <th>Survived</th>\n",
       "      <th>Pclass</th>\n",
       "      <th>Name</th>\n",
       "      <th>Sex</th>\n",
       "      <th>Age</th>\n",
       "      <th>SibSp</th>\n",
       "      <th>Parch</th>\n",
       "      <th>Ticket</th>\n",
       "      <th>Fare</th>\n",
       "      <th>Cabin</th>\n",
       "      <th>Embarked</th>\n",
       "    </tr>\n",
       "  </thead>\n",
       "  <tbody>\n",
       "    <tr>\n",
       "      <th>0</th>\n",
       "      <td>False</td>\n",
       "      <td>False</td>\n",
       "      <td>False</td>\n",
       "      <td>False</td>\n",
       "      <td>False</td>\n",
       "      <td>False</td>\n",
       "      <td>False</td>\n",
       "      <td>False</td>\n",
       "      <td>False</td>\n",
       "      <td>False</td>\n",
       "      <td>True</td>\n",
       "      <td>False</td>\n",
       "    </tr>\n",
       "    <tr>\n",
       "      <th>1</th>\n",
       "      <td>False</td>\n",
       "      <td>False</td>\n",
       "      <td>False</td>\n",
       "      <td>False</td>\n",
       "      <td>False</td>\n",
       "      <td>False</td>\n",
       "      <td>False</td>\n",
       "      <td>False</td>\n",
       "      <td>False</td>\n",
       "      <td>False</td>\n",
       "      <td>False</td>\n",
       "      <td>False</td>\n",
       "    </tr>\n",
       "    <tr>\n",
       "      <th>2</th>\n",
       "      <td>False</td>\n",
       "      <td>False</td>\n",
       "      <td>False</td>\n",
       "      <td>False</td>\n",
       "      <td>False</td>\n",
       "      <td>False</td>\n",
       "      <td>False</td>\n",
       "      <td>False</td>\n",
       "      <td>False</td>\n",
       "      <td>False</td>\n",
       "      <td>True</td>\n",
       "      <td>False</td>\n",
       "    </tr>\n",
       "    <tr>\n",
       "      <th>3</th>\n",
       "      <td>False</td>\n",
       "      <td>False</td>\n",
       "      <td>False</td>\n",
       "      <td>False</td>\n",
       "      <td>False</td>\n",
       "      <td>False</td>\n",
       "      <td>False</td>\n",
       "      <td>False</td>\n",
       "      <td>False</td>\n",
       "      <td>False</td>\n",
       "      <td>False</td>\n",
       "      <td>False</td>\n",
       "    </tr>\n",
       "    <tr>\n",
       "      <th>4</th>\n",
       "      <td>False</td>\n",
       "      <td>False</td>\n",
       "      <td>False</td>\n",
       "      <td>False</td>\n",
       "      <td>False</td>\n",
       "      <td>False</td>\n",
       "      <td>False</td>\n",
       "      <td>False</td>\n",
       "      <td>False</td>\n",
       "      <td>False</td>\n",
       "      <td>True</td>\n",
       "      <td>False</td>\n",
       "    </tr>\n",
       "    <tr>\n",
       "      <th>...</th>\n",
       "      <td>...</td>\n",
       "      <td>...</td>\n",
       "      <td>...</td>\n",
       "      <td>...</td>\n",
       "      <td>...</td>\n",
       "      <td>...</td>\n",
       "      <td>...</td>\n",
       "      <td>...</td>\n",
       "      <td>...</td>\n",
       "      <td>...</td>\n",
       "      <td>...</td>\n",
       "      <td>...</td>\n",
       "    </tr>\n",
       "    <tr>\n",
       "      <th>886</th>\n",
       "      <td>False</td>\n",
       "      <td>False</td>\n",
       "      <td>False</td>\n",
       "      <td>False</td>\n",
       "      <td>False</td>\n",
       "      <td>False</td>\n",
       "      <td>False</td>\n",
       "      <td>False</td>\n",
       "      <td>False</td>\n",
       "      <td>False</td>\n",
       "      <td>True</td>\n",
       "      <td>False</td>\n",
       "    </tr>\n",
       "    <tr>\n",
       "      <th>887</th>\n",
       "      <td>False</td>\n",
       "      <td>False</td>\n",
       "      <td>False</td>\n",
       "      <td>False</td>\n",
       "      <td>False</td>\n",
       "      <td>False</td>\n",
       "      <td>False</td>\n",
       "      <td>False</td>\n",
       "      <td>False</td>\n",
       "      <td>False</td>\n",
       "      <td>False</td>\n",
       "      <td>False</td>\n",
       "    </tr>\n",
       "    <tr>\n",
       "      <th>888</th>\n",
       "      <td>False</td>\n",
       "      <td>False</td>\n",
       "      <td>False</td>\n",
       "      <td>False</td>\n",
       "      <td>False</td>\n",
       "      <td>True</td>\n",
       "      <td>False</td>\n",
       "      <td>False</td>\n",
       "      <td>False</td>\n",
       "      <td>False</td>\n",
       "      <td>True</td>\n",
       "      <td>False</td>\n",
       "    </tr>\n",
       "    <tr>\n",
       "      <th>889</th>\n",
       "      <td>False</td>\n",
       "      <td>False</td>\n",
       "      <td>False</td>\n",
       "      <td>False</td>\n",
       "      <td>False</td>\n",
       "      <td>False</td>\n",
       "      <td>False</td>\n",
       "      <td>False</td>\n",
       "      <td>False</td>\n",
       "      <td>False</td>\n",
       "      <td>False</td>\n",
       "      <td>False</td>\n",
       "    </tr>\n",
       "    <tr>\n",
       "      <th>890</th>\n",
       "      <td>False</td>\n",
       "      <td>False</td>\n",
       "      <td>False</td>\n",
       "      <td>False</td>\n",
       "      <td>False</td>\n",
       "      <td>False</td>\n",
       "      <td>False</td>\n",
       "      <td>False</td>\n",
       "      <td>False</td>\n",
       "      <td>False</td>\n",
       "      <td>True</td>\n",
       "      <td>False</td>\n",
       "    </tr>\n",
       "  </tbody>\n",
       "</table>\n",
       "<p>891 rows × 12 columns</p>\n",
       "</div>"
      ],
      "text/plain": [
       "     PassengerId  Survived  Pclass   Name    Sex    Age  SibSp  Parch  Ticket  \\\n",
       "0          False     False   False  False  False  False  False  False   False   \n",
       "1          False     False   False  False  False  False  False  False   False   \n",
       "2          False     False   False  False  False  False  False  False   False   \n",
       "3          False     False   False  False  False  False  False  False   False   \n",
       "4          False     False   False  False  False  False  False  False   False   \n",
       "..           ...       ...     ...    ...    ...    ...    ...    ...     ...   \n",
       "886        False     False   False  False  False  False  False  False   False   \n",
       "887        False     False   False  False  False  False  False  False   False   \n",
       "888        False     False   False  False  False   True  False  False   False   \n",
       "889        False     False   False  False  False  False  False  False   False   \n",
       "890        False     False   False  False  False  False  False  False   False   \n",
       "\n",
       "      Fare  Cabin  Embarked  \n",
       "0    False   True     False  \n",
       "1    False  False     False  \n",
       "2    False   True     False  \n",
       "3    False  False     False  \n",
       "4    False   True     False  \n",
       "..     ...    ...       ...  \n",
       "886  False   True     False  \n",
       "887  False  False     False  \n",
       "888  False   True     False  \n",
       "889  False  False     False  \n",
       "890  False   True     False  \n",
       "\n",
       "[891 rows x 12 columns]"
      ]
     },
     "execution_count": 13,
     "metadata": {},
     "output_type": "execute_result"
    }
   ],
   "source": [
    "df.isnull()"
   ]
  },
  {
   "cell_type": "code",
   "execution_count": 14,
   "id": "difficult-adjustment",
   "metadata": {
    "execution": {
     "iopub.execute_input": "2021-04-29T16:03:23.014491Z",
     "iopub.status.busy": "2021-04-29T16:03:23.013616Z",
     "iopub.status.idle": "2021-04-29T16:03:23.019286Z",
     "shell.execute_reply": "2021-04-29T16:03:23.018707Z"
    },
    "papermill": {
     "duration": 0.053073,
     "end_time": "2021-04-29T16:03:23.019425",
     "exception": false,
     "start_time": "2021-04-29T16:03:22.966352",
     "status": "completed"
    },
    "tags": []
   },
   "outputs": [
    {
     "data": {
      "text/plain": [
       "PassengerId      0\n",
       "Survived         0\n",
       "Pclass           0\n",
       "Name             0\n",
       "Sex              0\n",
       "Age            177\n",
       "SibSp            0\n",
       "Parch            0\n",
       "Ticket           0\n",
       "Fare             0\n",
       "Cabin          687\n",
       "Embarked         2\n",
       "dtype: int64"
      ]
     },
     "execution_count": 14,
     "metadata": {},
     "output_type": "execute_result"
    }
   ],
   "source": [
    "df.isnull().sum()"
   ]
  },
  {
   "cell_type": "markdown",
   "id": "vocal-average",
   "metadata": {
    "papermill": {
     "duration": 0.038511,
     "end_time": "2021-04-29T16:03:23.100537",
     "exception": false,
     "start_time": "2021-04-29T16:03:23.062026",
     "status": "completed"
    },
    "tags": []
   },
   "source": [
    "We have missing values in Age Column and Cabin Column, maximum being in the Cabin Column\n",
    "\n"
   ]
  },
  {
   "cell_type": "code",
   "execution_count": 15,
   "id": "several-template",
   "metadata": {
    "execution": {
     "iopub.execute_input": "2021-04-29T16:03:23.189713Z",
     "iopub.status.busy": "2021-04-29T16:03:23.188898Z",
     "iopub.status.idle": "2021-04-29T16:03:23.469730Z",
     "shell.execute_reply": "2021-04-29T16:03:23.470231Z"
    },
    "papermill": {
     "duration": 0.324288,
     "end_time": "2021-04-29T16:03:23.470399",
     "exception": false,
     "start_time": "2021-04-29T16:03:23.146111",
     "status": "completed"
    },
    "tags": []
   },
   "outputs": [
    {
     "data": {
      "text/plain": [
       "<AxesSubplot:>"
      ]
     },
     "execution_count": 15,
     "metadata": {},
     "output_type": "execute_result"
    },
    {
     "data": {
      "image/png": "[encoded data removed]",
      "text/plain": [
       "<Figure size 432x288 with 2 Axes>"
      ]
     },
     "metadata": {
      "needs_background": "light"
     },
     "output_type": "display_data"
    }
   ],
   "source": [
    "sns.heatmap(df.isnull(),yticklabels=False, cmap='viridis')"
   ]
  },
  {
   "cell_type": "code",
   "execution_count": 16,
   "id": "smaller-heater",
   "metadata": {
    "execution": {
     "iopub.execute_input": "2021-04-29T16:03:23.556570Z",
     "iopub.status.busy": "2021-04-29T16:03:23.555880Z",
     "iopub.status.idle": "2021-04-29T16:03:23.719962Z",
     "shell.execute_reply": "2021-04-29T16:03:23.719192Z"
    },
    "papermill": {
     "duration": 0.209527,
     "end_time": "2021-04-29T16:03:23.720495",
     "exception": false,
     "start_time": "2021-04-29T16:03:23.510968",
     "status": "completed"
    },
    "tags": []
   },
   "outputs": [
    {
     "data": {
      "text/plain": [
       "<AxesSubplot:xlabel='Pclass', ylabel='Age'>"
      ]
     },
     "execution_count": 16,
     "metadata": {},
     "output_type": "execute_result"
    },
    {
     "data": {
      "image/png": "[encoded data removed]",
      "text/plain": [
       "<Figure size 432x288 with 1 Axes>"
      ]
     },
     "metadata": {
      "needs_background": "light"
     },
     "output_type": "display_data"
    }
   ],
   "source": [
    "sns.boxplot(x='Pclass', y='Age', data=df)"
   ]
  },
  {
   "cell_type": "code",
   "execution_count": 17,
   "id": "german-induction",
   "metadata": {
    "execution": {
     "iopub.execute_input": "2021-04-29T16:03:23.815560Z",
     "iopub.status.busy": "2021-04-29T16:03:23.814932Z",
     "iopub.status.idle": "2021-04-29T16:03:23.819828Z",
     "shell.execute_reply": "2021-04-29T16:03:23.819359Z"
    },
    "papermill": {
     "duration": 0.05947,
     "end_time": "2021-04-29T16:03:23.819963",
     "exception": false,
     "start_time": "2021-04-29T16:03:23.760493",
     "status": "completed"
    },
    "tags": []
   },
   "outputs": [
    {
     "data": {
      "text/html": [
       "<div>\n",
       "<style scoped>\n",
       "    .dataframe tbody tr th:only-of-type {\n",
       "        vertical-align: middle;\n",
       "    }\n",
       "\n",
       "    .dataframe tbody tr th {\n",
       "        vertical-align: top;\n",
       "    }\n",
       "\n",
       "    .dataframe thead th {\n",
       "        text-align: right;\n",
       "    }\n",
       "</style>\n",
       "<table border=\"1\" class=\"dataframe\">\n",
       "  <thead>\n",
       "    <tr style=\"text-align: right;\">\n",
       "      <th></th>\n",
       "      <th>PassengerId</th>\n",
       "      <th>Survived</th>\n",
       "      <th>Pclass</th>\n",
       "      <th>Name</th>\n",
       "      <th>Sex</th>\n",
       "      <th>Age</th>\n",
       "      <th>SibSp</th>\n",
       "      <th>Parch</th>\n",
       "      <th>Ticket</th>\n",
       "      <th>Fare</th>\n",
       "      <th>Cabin</th>\n",
       "      <th>Embarked</th>\n",
       "    </tr>\n",
       "  </thead>\n",
       "  <tbody>\n",
       "    <tr>\n",
       "      <th>0</th>\n",
       "      <td>1</td>\n",
       "      <td>0</td>\n",
       "      <td>3</td>\n",
       "      <td>Braund, Mr. Owen Harris</td>\n",
       "      <td>male</td>\n",
       "      <td>22.0</td>\n",
       "      <td>1</td>\n",
       "      <td>0</td>\n",
       "      <td>A/5 21171</td>\n",
       "      <td>7.2500</td>\n",
       "      <td>NaN</td>\n",
       "      <td>S</td>\n",
       "    </tr>\n",
       "    <tr>\n",
       "      <th>1</th>\n",
       "      <td>2</td>\n",
       "      <td>1</td>\n",
       "      <td>1</td>\n",
       "      <td>Cumings, Mrs. John Bradley (Florence Briggs Th...</td>\n",
       "      <td>female</td>\n",
       "      <td>38.0</td>\n",
       "      <td>1</td>\n",
       "      <td>0</td>\n",
       "      <td>PC 17599</td>\n",
       "      <td>71.2833</td>\n",
       "      <td>C85</td>\n",
       "      <td>C</td>\n",
       "    </tr>\n",
       "    <tr>\n",
       "      <th>2</th>\n",
       "      <td>3</td>\n",
       "      <td>1</td>\n",
       "      <td>3</td>\n",
       "      <td>Heikkinen, Miss. Laina</td>\n",
       "      <td>female</td>\n",
       "      <td>26.0</td>\n",
       "      <td>0</td>\n",
       "      <td>0</td>\n",
       "      <td>STON/O2. 3101282</td>\n",
       "      <td>7.9250</td>\n",
       "      <td>NaN</td>\n",
       "      <td>S</td>\n",
       "    </tr>\n",
       "    <tr>\n",
       "      <th>3</th>\n",
       "      <td>4</td>\n",
       "      <td>1</td>\n",
       "      <td>1</td>\n",
       "      <td>Futrelle, Mrs. Jacques Heath (Lily May Peel)</td>\n",
       "      <td>female</td>\n",
       "      <td>35.0</td>\n",
       "      <td>1</td>\n",
       "      <td>0</td>\n",
       "      <td>113803</td>\n",
       "      <td>53.1000</td>\n",
       "      <td>C123</td>\n",
       "      <td>S</td>\n",
       "    </tr>\n",
       "    <tr>\n",
       "      <th>4</th>\n",
       "      <td>5</td>\n",
       "      <td>0</td>\n",
       "      <td>3</td>\n",
       "      <td>Allen, Mr. William Henry</td>\n",
       "      <td>male</td>\n",
       "      <td>35.0</td>\n",
       "      <td>0</td>\n",
       "      <td>0</td>\n",
       "      <td>373450</td>\n",
       "      <td>8.0500</td>\n",
       "      <td>NaN</td>\n",
       "      <td>S</td>\n",
       "    </tr>\n",
       "  </tbody>\n",
       "</table>\n",
       "</div>"
      ],
      "text/plain": [
       "   PassengerId  Survived  Pclass  \\\n",
       "0            1         0       3   \n",
       "1            2         1       1   \n",
       "2            3         1       3   \n",
       "3            4         1       1   \n",
       "4            5         0       3   \n",
       "\n",
       "                                                Name     Sex   Age  SibSp  \\\n",
       "0                            Braund, Mr. Owen Harris    male  22.0      1   \n",
       "1  Cumings, Mrs. John Bradley (Florence Briggs Th...  female  38.0      1   \n",
       "2                             Heikkinen, Miss. Laina  female  26.0      0   \n",
       "3       Futrelle, Mrs. Jacques Heath (Lily May Peel)  female  35.0      1   \n",
       "4                           Allen, Mr. William Henry    male  35.0      0   \n",
       "\n",
       "   Parch            Ticket     Fare Cabin Embarked  \n",
       "0      0         A/5 21171   7.2500   NaN        S  \n",
       "1      0          PC 17599  71.2833   C85        C  \n",
       "2      0  STON/O2. 3101282   7.9250   NaN        S  \n",
       "3      0            113803  53.1000  C123        S  \n",
       "4      0            373450   8.0500   NaN        S  "
      ]
     },
     "execution_count": 17,
     "metadata": {},
     "output_type": "execute_result"
    }
   ],
   "source": [
    "df.head()"
   ]
  },
  {
   "cell_type": "markdown",
   "id": "framed-cradle",
   "metadata": {
    "papermill": {
     "duration": 0.040667,
     "end_time": "2021-04-29T16:03:23.904584",
     "exception": false,
     "start_time": "2021-04-29T16:03:23.863917",
     "status": "completed"
    },
    "tags": []
   },
   "source": [
    "We can see that in Cabin column there are a lot of Null values, and we will drop that column."
   ]
  },
  {
   "cell_type": "code",
   "execution_count": 18,
   "id": "offshore-facing",
   "metadata": {
    "execution": {
     "iopub.execute_input": "2021-04-29T16:03:23.993526Z",
     "iopub.status.busy": "2021-04-29T16:03:23.992826Z",
     "iopub.status.idle": "2021-04-29T16:03:23.996908Z",
     "shell.execute_reply": "2021-04-29T16:03:23.997405Z"
    },
    "papermill": {
     "duration": 0.052134,
     "end_time": "2021-04-29T16:03:23.997645",
     "exception": false,
     "start_time": "2021-04-29T16:03:23.945511",
     "status": "completed"
    },
    "tags": []
   },
   "outputs": [],
   "source": [
    "df.drop('Cabin', axis=1, inplace=True)"
   ]
  },
  {
   "cell_type": "code",
   "execution_count": 19,
   "id": "protected-speaking",
   "metadata": {
    "execution": {
     "iopub.execute_input": "2021-04-29T16:03:24.094904Z",
     "iopub.status.busy": "2021-04-29T16:03:24.094254Z",
     "iopub.status.idle": "2021-04-29T16:03:24.100799Z",
     "shell.execute_reply": "2021-04-29T16:03:24.100181Z"
    },
    "papermill": {
     "duration": 0.061765,
     "end_time": "2021-04-29T16:03:24.100959",
     "exception": false,
     "start_time": "2021-04-29T16:03:24.039194",
     "status": "completed"
    },
    "tags": []
   },
   "outputs": [
    {
     "data": {
      "text/html": [
       "<div>\n",
       "<style scoped>\n",
       "    .dataframe tbody tr th:only-of-type {\n",
       "        vertical-align: middle;\n",
       "    }\n",
       "\n",
       "    .dataframe tbody tr th {\n",
       "        vertical-align: top;\n",
       "    }\n",
       "\n",
       "    .dataframe thead th {\n",
       "        text-align: right;\n",
       "    }\n",
       "</style>\n",
       "<table border=\"1\" class=\"dataframe\">\n",
       "  <thead>\n",
       "    <tr style=\"text-align: right;\">\n",
       "      <th></th>\n",
       "      <th>PassengerId</th>\n",
       "      <th>Survived</th>\n",
       "      <th>Pclass</th>\n",
       "      <th>Name</th>\n",
       "      <th>Sex</th>\n",
       "      <th>Age</th>\n",
       "      <th>SibSp</th>\n",
       "      <th>Parch</th>\n",
       "      <th>Ticket</th>\n",
       "      <th>Fare</th>\n",
       "      <th>Embarked</th>\n",
       "    </tr>\n",
       "  </thead>\n",
       "  <tbody>\n",
       "    <tr>\n",
       "      <th>0</th>\n",
       "      <td>1</td>\n",
       "      <td>0</td>\n",
       "      <td>3</td>\n",
       "      <td>Braund, Mr. Owen Harris</td>\n",
       "      <td>male</td>\n",
       "      <td>22.0</td>\n",
       "      <td>1</td>\n",
       "      <td>0</td>\n",
       "      <td>A/5 21171</td>\n",
       "      <td>7.2500</td>\n",
       "      <td>S</td>\n",
       "    </tr>\n",
       "    <tr>\n",
       "      <th>1</th>\n",
       "      <td>2</td>\n",
       "      <td>1</td>\n",
       "      <td>1</td>\n",
       "      <td>Cumings, Mrs. John Bradley (Florence Briggs Th...</td>\n",
       "      <td>female</td>\n",
       "      <td>38.0</td>\n",
       "      <td>1</td>\n",
       "      <td>0</td>\n",
       "      <td>PC 17599</td>\n",
       "      <td>71.2833</td>\n",
       "      <td>C</td>\n",
       "    </tr>\n",
       "    <tr>\n",
       "      <th>2</th>\n",
       "      <td>3</td>\n",
       "      <td>1</td>\n",
       "      <td>3</td>\n",
       "      <td>Heikkinen, Miss. Laina</td>\n",
       "      <td>female</td>\n",
       "      <td>26.0</td>\n",
       "      <td>0</td>\n",
       "      <td>0</td>\n",
       "      <td>STON/O2. 3101282</td>\n",
       "      <td>7.9250</td>\n",
       "      <td>S</td>\n",
       "    </tr>\n",
       "    <tr>\n",
       "      <th>3</th>\n",
       "      <td>4</td>\n",
       "      <td>1</td>\n",
       "      <td>1</td>\n",
       "      <td>Futrelle, Mrs. Jacques Heath (Lily May Peel)</td>\n",
       "      <td>female</td>\n",
       "      <td>35.0</td>\n",
       "      <td>1</td>\n",
       "      <td>0</td>\n",
       "      <td>113803</td>\n",
       "      <td>53.1000</td>\n",
       "      <td>S</td>\n",
       "    </tr>\n",
       "    <tr>\n",
       "      <th>4</th>\n",
       "      <td>5</td>\n",
       "      <td>0</td>\n",
       "      <td>3</td>\n",
       "      <td>Allen, Mr. William Henry</td>\n",
       "      <td>male</td>\n",
       "      <td>35.0</td>\n",
       "      <td>0</td>\n",
       "      <td>0</td>\n",
       "      <td>373450</td>\n",
       "      <td>8.0500</td>\n",
       "      <td>S</td>\n",
       "    </tr>\n",
       "  </tbody>\n",
       "</table>\n",
       "</div>"
      ],
      "text/plain": [
       "   PassengerId  Survived  Pclass  \\\n",
       "0            1         0       3   \n",
       "1            2         1       1   \n",
       "2            3         1       3   \n",
       "3            4         1       1   \n",
       "4            5         0       3   \n",
       "\n",
       "                                                Name     Sex   Age  SibSp  \\\n",
       "0                            Braund, Mr. Owen Harris    male  22.0      1   \n",
       "1  Cumings, Mrs. John Bradley (Florence Briggs Th...  female  38.0      1   \n",
       "2                             Heikkinen, Miss. Laina  female  26.0      0   \n",
       "3       Futrelle, Mrs. Jacques Heath (Lily May Peel)  female  35.0      1   \n",
       "4                           Allen, Mr. William Henry    male  35.0      0   \n",
       "\n",
       "   Parch            Ticket     Fare Embarked  \n",
       "0      0         A/5 21171   7.2500        S  \n",
       "1      0          PC 17599  71.2833        C  \n",
       "2      0  STON/O2. 3101282   7.9250        S  \n",
       "3      0            113803  53.1000        S  \n",
       "4      0            373450   8.0500        S  "
      ]
     },
     "execution_count": 19,
     "metadata": {},
     "output_type": "execute_result"
    }
   ],
   "source": [
    "df.head()"
   ]
  },
  {
   "cell_type": "markdown",
   "id": "clean-behavior",
   "metadata": {
    "papermill": {
     "duration": 0.041533,
     "end_time": "2021-04-29T16:03:24.186429",
     "exception": false,
     "start_time": "2021-04-29T16:03:24.144896",
     "status": "completed"
    },
    "tags": []
   },
   "source": [
    "Now we will drop the na values."
   ]
  },
  {
   "cell_type": "code",
   "execution_count": 20,
   "id": "solved-termination",
   "metadata": {
    "execution": {
     "iopub.execute_input": "2021-04-29T16:03:24.275306Z",
     "iopub.status.busy": "2021-04-29T16:03:24.274334Z",
     "iopub.status.idle": "2021-04-29T16:03:24.279921Z",
     "shell.execute_reply": "2021-04-29T16:03:24.279025Z"
    },
    "papermill": {
     "duration": 0.051886,
     "end_time": "2021-04-29T16:03:24.280105",
     "exception": false,
     "start_time": "2021-04-29T16:03:24.228219",
     "status": "completed"
    },
    "tags": []
   },
   "outputs": [
    {
     "data": {
      "text/plain": [
       "(891, 11)"
      ]
     },
     "execution_count": 20,
     "metadata": {},
     "output_type": "execute_result"
    }
   ],
   "source": [
    "df.shape"
   ]
  },
  {
   "cell_type": "code",
   "execution_count": 21,
   "id": "ecological-result",
   "metadata": {
    "execution": {
     "iopub.execute_input": "2021-04-29T16:03:24.376159Z",
     "iopub.status.busy": "2021-04-29T16:03:24.375244Z",
     "iopub.status.idle": "2021-04-29T16:03:24.378605Z",
     "shell.execute_reply": "2021-04-29T16:03:24.377899Z"
    },
    "papermill": {
     "duration": 0.054315,
     "end_time": "2021-04-29T16:03:24.378755",
     "exception": false,
     "start_time": "2021-04-29T16:03:24.324440",
     "status": "completed"
    },
    "tags": []
   },
   "outputs": [],
   "source": [
    "df.dropna(inplace=True)"
   ]
  },
  {
   "cell_type": "code",
   "execution_count": 22,
   "id": "martial-velvet",
   "metadata": {
    "execution": {
     "iopub.execute_input": "2021-04-29T16:03:24.470877Z",
     "iopub.status.busy": "2021-04-29T16:03:24.470016Z",
     "iopub.status.idle": "2021-04-29T16:03:24.475499Z",
     "shell.execute_reply": "2021-04-29T16:03:24.474873Z"
    },
    "papermill": {
     "duration": 0.055242,
     "end_time": "2021-04-29T16:03:24.475641",
     "exception": false,
     "start_time": "2021-04-29T16:03:24.420399",
     "status": "completed"
    },
    "tags": []
   },
   "outputs": [
    {
     "data": {
      "text/plain": [
       "(712, 11)"
      ]
     },
     "execution_count": 22,
     "metadata": {},
     "output_type": "execute_result"
    }
   ],
   "source": [
    "df.shape"
   ]
  },
  {
   "cell_type": "code",
   "execution_count": 23,
   "id": "occupied-galaxy",
   "metadata": {
    "execution": {
     "iopub.execute_input": "2021-04-29T16:03:24.584582Z",
     "iopub.status.busy": "2021-04-29T16:03:24.567488Z",
     "iopub.status.idle": "2021-04-29T16:03:24.857846Z",
     "shell.execute_reply": "2021-04-29T16:03:24.857257Z"
    },
    "papermill": {
     "duration": 0.339429,
     "end_time": "2021-04-29T16:03:24.858012",
     "exception": false,
     "start_time": "2021-04-29T16:03:24.518583",
     "status": "completed"
    },
    "tags": []
   },
   "outputs": [
    {
     "data": {
      "text/plain": [
       "<AxesSubplot:>"
      ]
     },
     "execution_count": 23,
     "metadata": {},
     "output_type": "execute_result"
    },
    {
     "data": {
      "image/png": "[encoded data removed]",
      "text/plain": [
       "<Figure size 432x288 with 2 Axes>"
      ]
     },
     "metadata": {
      "needs_background": "light"
     },
     "output_type": "display_data"
    }
   ],
   "source": [
    "sns.heatmap(df.isnull(), yticklabels=False, cmap='viridis')"
   ]
  },
  {
   "cell_type": "code",
   "execution_count": 24,
   "id": "emotional-organization",
   "metadata": {
    "execution": {
     "iopub.execute_input": "2021-04-29T16:03:24.952772Z",
     "iopub.status.busy": "2021-04-29T16:03:24.951916Z",
     "iopub.status.idle": "2021-04-29T16:03:24.957261Z",
     "shell.execute_reply": "2021-04-29T16:03:24.956686Z"
    },
    "papermill": {
     "duration": 0.055956,
     "end_time": "2021-04-29T16:03:24.957406",
     "exception": false,
     "start_time": "2021-04-29T16:03:24.901450",
     "status": "completed"
    },
    "tags": []
   },
   "outputs": [
    {
     "data": {
      "text/plain": [
       "PassengerId    0\n",
       "Survived       0\n",
       "Pclass         0\n",
       "Name           0\n",
       "Sex            0\n",
       "Age            0\n",
       "SibSp          0\n",
       "Parch          0\n",
       "Ticket         0\n",
       "Fare           0\n",
       "Embarked       0\n",
       "dtype: int64"
      ]
     },
     "execution_count": 24,
     "metadata": {},
     "output_type": "execute_result"
    }
   ],
   "source": [
    "df.isnull().sum()"
   ]
  },
  {
   "cell_type": "code",
   "execution_count": 25,
   "id": "likely-guest",
   "metadata": {
    "execution": {
     "iopub.execute_input": "2021-04-29T16:03:25.058924Z",
     "iopub.status.busy": "2021-04-29T16:03:25.058087Z",
     "iopub.status.idle": "2021-04-29T16:03:25.063179Z",
     "shell.execute_reply": "2021-04-29T16:03:25.063588Z"
    },
    "papermill": {
     "duration": 0.062635,
     "end_time": "2021-04-29T16:03:25.063759",
     "exception": false,
     "start_time": "2021-04-29T16:03:25.001124",
     "status": "completed"
    },
    "tags": []
   },
   "outputs": [
    {
     "data": {
      "text/html": [
       "<div>\n",
       "<style scoped>\n",
       "    .dataframe tbody tr th:only-of-type {\n",
       "        vertical-align: middle;\n",
       "    }\n",
       "\n",
       "    .dataframe tbody tr th {\n",
       "        vertical-align: top;\n",
       "    }\n",
       "\n",
       "    .dataframe thead th {\n",
       "        text-align: right;\n",
       "    }\n",
       "</style>\n",
       "<table border=\"1\" class=\"dataframe\">\n",
       "  <thead>\n",
       "    <tr style=\"text-align: right;\">\n",
       "      <th></th>\n",
       "      <th>PassengerId</th>\n",
       "      <th>Survived</th>\n",
       "      <th>Pclass</th>\n",
       "      <th>Name</th>\n",
       "      <th>Sex</th>\n",
       "      <th>Age</th>\n",
       "      <th>SibSp</th>\n",
       "      <th>Parch</th>\n",
       "      <th>Ticket</th>\n",
       "      <th>Fare</th>\n",
       "      <th>Embarked</th>\n",
       "    </tr>\n",
       "  </thead>\n",
       "  <tbody>\n",
       "    <tr>\n",
       "      <th>0</th>\n",
       "      <td>1</td>\n",
       "      <td>0</td>\n",
       "      <td>3</td>\n",
       "      <td>Braund, Mr. Owen Harris</td>\n",
       "      <td>male</td>\n",
       "      <td>22.0</td>\n",
       "      <td>1</td>\n",
       "      <td>0</td>\n",
       "      <td>A/5 21171</td>\n",
       "      <td>7.2500</td>\n",
       "      <td>S</td>\n",
       "    </tr>\n",
       "    <tr>\n",
       "      <th>1</th>\n",
       "      <td>2</td>\n",
       "      <td>1</td>\n",
       "      <td>1</td>\n",
       "      <td>Cumings, Mrs. John Bradley (Florence Briggs Th...</td>\n",
       "      <td>female</td>\n",
       "      <td>38.0</td>\n",
       "      <td>1</td>\n",
       "      <td>0</td>\n",
       "      <td>PC 17599</td>\n",
       "      <td>71.2833</td>\n",
       "      <td>C</td>\n",
       "    </tr>\n",
       "    <tr>\n",
       "      <th>2</th>\n",
       "      <td>3</td>\n",
       "      <td>1</td>\n",
       "      <td>3</td>\n",
       "      <td>Heikkinen, Miss. Laina</td>\n",
       "      <td>female</td>\n",
       "      <td>26.0</td>\n",
       "      <td>0</td>\n",
       "      <td>0</td>\n",
       "      <td>STON/O2. 3101282</td>\n",
       "      <td>7.9250</td>\n",
       "      <td>S</td>\n",
       "    </tr>\n",
       "    <tr>\n",
       "      <th>3</th>\n",
       "      <td>4</td>\n",
       "      <td>1</td>\n",
       "      <td>1</td>\n",
       "      <td>Futrelle, Mrs. Jacques Heath (Lily May Peel)</td>\n",
       "      <td>female</td>\n",
       "      <td>35.0</td>\n",
       "      <td>1</td>\n",
       "      <td>0</td>\n",
       "      <td>113803</td>\n",
       "      <td>53.1000</td>\n",
       "      <td>S</td>\n",
       "    </tr>\n",
       "    <tr>\n",
       "      <th>4</th>\n",
       "      <td>5</td>\n",
       "      <td>0</td>\n",
       "      <td>3</td>\n",
       "      <td>Allen, Mr. William Henry</td>\n",
       "      <td>male</td>\n",
       "      <td>35.0</td>\n",
       "      <td>0</td>\n",
       "      <td>0</td>\n",
       "      <td>373450</td>\n",
       "      <td>8.0500</td>\n",
       "      <td>S</td>\n",
       "    </tr>\n",
       "  </tbody>\n",
       "</table>\n",
       "</div>"
      ],
      "text/plain": [
       "   PassengerId  Survived  Pclass  \\\n",
       "0            1         0       3   \n",
       "1            2         1       1   \n",
       "2            3         1       3   \n",
       "3            4         1       1   \n",
       "4            5         0       3   \n",
       "\n",
       "                                                Name     Sex   Age  SibSp  \\\n",
       "0                            Braund, Mr. Owen Harris    male  22.0      1   \n",
       "1  Cumings, Mrs. John Bradley (Florence Briggs Th...  female  38.0      1   \n",
       "2                             Heikkinen, Miss. Laina  female  26.0      0   \n",
       "3       Futrelle, Mrs. Jacques Heath (Lily May Peel)  female  35.0      1   \n",
       "4                           Allen, Mr. William Henry    male  35.0      0   \n",
       "\n",
       "   Parch            Ticket     Fare Embarked  \n",
       "0      0         A/5 21171   7.2500        S  \n",
       "1      0          PC 17599  71.2833        C  \n",
       "2      0  STON/O2. 3101282   7.9250        S  \n",
       "3      0            113803  53.1000        S  \n",
       "4      0            373450   8.0500        S  "
      ]
     },
     "execution_count": 25,
     "metadata": {},
     "output_type": "execute_result"
    }
   ],
   "source": [
    "df.head()"
   ]
  },
  {
   "cell_type": "markdown",
   "id": "original-eagle",
   "metadata": {
    "papermill": {
     "duration": 0.04781,
     "end_time": "2021-04-29T16:03:25.155702",
     "exception": false,
     "start_time": "2021-04-29T16:03:25.107892",
     "status": "completed"
    },
    "tags": []
   },
   "source": [
    "From the dataset we can see that we have 'Sex','Embarked','Pclass', column as categorical columm etc. We will convert all the categorical values into numerical values using labelencoding and onehotencoding on top of it, or we can simply use pd.get_dummies function here."
   ]
  },
  {
   "cell_type": "code",
   "execution_count": 26,
   "id": "developing-norwegian",
   "metadata": {
    "execution": {
     "iopub.execute_input": "2021-04-29T16:03:25.250378Z",
     "iopub.status.busy": "2021-04-29T16:03:25.249747Z",
     "iopub.status.idle": "2021-04-29T16:03:25.263816Z",
     "shell.execute_reply": "2021-04-29T16:03:25.263347Z"
    },
    "papermill": {
     "duration": 0.063238,
     "end_time": "2021-04-29T16:03:25.263971",
     "exception": false,
     "start_time": "2021-04-29T16:03:25.200733",
     "status": "completed"
    },
    "tags": []
   },
   "outputs": [
    {
     "data": {
      "text/html": [
       "<div>\n",
       "<style scoped>\n",
       "    .dataframe tbody tr th:only-of-type {\n",
       "        vertical-align: middle;\n",
       "    }\n",
       "\n",
       "    .dataframe tbody tr th {\n",
       "        vertical-align: top;\n",
       "    }\n",
       "\n",
       "    .dataframe thead th {\n",
       "        text-align: right;\n",
       "    }\n",
       "</style>\n",
       "<table border=\"1\" class=\"dataframe\">\n",
       "  <thead>\n",
       "    <tr style=\"text-align: right;\">\n",
       "      <th></th>\n",
       "      <th>female</th>\n",
       "      <th>male</th>\n",
       "    </tr>\n",
       "  </thead>\n",
       "  <tbody>\n",
       "    <tr>\n",
       "      <th>0</th>\n",
       "      <td>0</td>\n",
       "      <td>1</td>\n",
       "    </tr>\n",
       "    <tr>\n",
       "      <th>1</th>\n",
       "      <td>1</td>\n",
       "      <td>0</td>\n",
       "    </tr>\n",
       "    <tr>\n",
       "      <th>2</th>\n",
       "      <td>1</td>\n",
       "      <td>0</td>\n",
       "    </tr>\n",
       "    <tr>\n",
       "      <th>3</th>\n",
       "      <td>1</td>\n",
       "      <td>0</td>\n",
       "    </tr>\n",
       "    <tr>\n",
       "      <th>4</th>\n",
       "      <td>0</td>\n",
       "      <td>1</td>\n",
       "    </tr>\n",
       "    <tr>\n",
       "      <th>...</th>\n",
       "      <td>...</td>\n",
       "      <td>...</td>\n",
       "    </tr>\n",
       "    <tr>\n",
       "      <th>885</th>\n",
       "      <td>1</td>\n",
       "      <td>0</td>\n",
       "    </tr>\n",
       "    <tr>\n",
       "      <th>886</th>\n",
       "      <td>0</td>\n",
       "      <td>1</td>\n",
       "    </tr>\n",
       "    <tr>\n",
       "      <th>887</th>\n",
       "      <td>1</td>\n",
       "      <td>0</td>\n",
       "    </tr>\n",
       "    <tr>\n",
       "      <th>889</th>\n",
       "      <td>0</td>\n",
       "      <td>1</td>\n",
       "    </tr>\n",
       "    <tr>\n",
       "      <th>890</th>\n",
       "      <td>0</td>\n",
       "      <td>1</td>\n",
       "    </tr>\n",
       "  </tbody>\n",
       "</table>\n",
       "<p>712 rows × 2 columns</p>\n",
       "</div>"
      ],
      "text/plain": [
       "     female  male\n",
       "0         0     1\n",
       "1         1     0\n",
       "2         1     0\n",
       "3         1     0\n",
       "4         0     1\n",
       "..      ...   ...\n",
       "885       1     0\n",
       "886       0     1\n",
       "887       1     0\n",
       "889       0     1\n",
       "890       0     1\n",
       "\n",
       "[712 rows x 2 columns]"
      ]
     },
     "execution_count": 26,
     "metadata": {},
     "output_type": "execute_result"
    }
   ],
   "source": [
    "sex = pd.get_dummies(df['Sex'])\n",
    "sex"
   ]
  },
  {
   "cell_type": "markdown",
   "id": "failing-joyce",
   "metadata": {
    "papermill": {
     "duration": 0.044794,
     "end_time": "2021-04-29T16:03:25.356760",
     "exception": false,
     "start_time": "2021-04-29T16:03:25.311966",
     "status": "completed"
    },
    "tags": []
   },
   "source": [
    "From the above we can say that the sex column has been divided into two subcolumns into Female and Male, here instead of both the column we can drop one of the column, as we can identify the details of which female survied or died or which male survived or died from either of the columns.\n",
    "\n"
   ]
  },
  {
   "cell_type": "code",
   "execution_count": 27,
   "id": "curious-story",
   "metadata": {
    "execution": {
     "iopub.execute_input": "2021-04-29T16:03:25.456418Z",
     "iopub.status.busy": "2021-04-29T16:03:25.450644Z",
     "iopub.status.idle": "2021-04-29T16:03:25.461514Z",
     "shell.execute_reply": "2021-04-29T16:03:25.461027Z"
    },
    "papermill": {
     "duration": 0.060879,
     "end_time": "2021-04-29T16:03:25.461679",
     "exception": false,
     "start_time": "2021-04-29T16:03:25.400800",
     "status": "completed"
    },
    "tags": []
   },
   "outputs": [
    {
     "data": {
      "text/html": [
       "<div>\n",
       "<style scoped>\n",
       "    .dataframe tbody tr th:only-of-type {\n",
       "        vertical-align: middle;\n",
       "    }\n",
       "\n",
       "    .dataframe tbody tr th {\n",
       "        vertical-align: top;\n",
       "    }\n",
       "\n",
       "    .dataframe thead th {\n",
       "        text-align: right;\n",
       "    }\n",
       "</style>\n",
       "<table border=\"1\" class=\"dataframe\">\n",
       "  <thead>\n",
       "    <tr style=\"text-align: right;\">\n",
       "      <th></th>\n",
       "      <th>male</th>\n",
       "    </tr>\n",
       "  </thead>\n",
       "  <tbody>\n",
       "    <tr>\n",
       "      <th>0</th>\n",
       "      <td>1</td>\n",
       "    </tr>\n",
       "    <tr>\n",
       "      <th>1</th>\n",
       "      <td>0</td>\n",
       "    </tr>\n",
       "    <tr>\n",
       "      <th>2</th>\n",
       "      <td>0</td>\n",
       "    </tr>\n",
       "    <tr>\n",
       "      <th>3</th>\n",
       "      <td>0</td>\n",
       "    </tr>\n",
       "    <tr>\n",
       "      <th>4</th>\n",
       "      <td>1</td>\n",
       "    </tr>\n",
       "    <tr>\n",
       "      <th>...</th>\n",
       "      <td>...</td>\n",
       "    </tr>\n",
       "    <tr>\n",
       "      <th>885</th>\n",
       "      <td>0</td>\n",
       "    </tr>\n",
       "    <tr>\n",
       "      <th>886</th>\n",
       "      <td>1</td>\n",
       "    </tr>\n",
       "    <tr>\n",
       "      <th>887</th>\n",
       "      <td>0</td>\n",
       "    </tr>\n",
       "    <tr>\n",
       "      <th>889</th>\n",
       "      <td>1</td>\n",
       "    </tr>\n",
       "    <tr>\n",
       "      <th>890</th>\n",
       "      <td>1</td>\n",
       "    </tr>\n",
       "  </tbody>\n",
       "</table>\n",
       "<p>712 rows × 1 columns</p>\n",
       "</div>"
      ],
      "text/plain": [
       "     male\n",
       "0       1\n",
       "1       0\n",
       "2       0\n",
       "3       0\n",
       "4       1\n",
       "..    ...\n",
       "885     0\n",
       "886     1\n",
       "887     0\n",
       "889     1\n",
       "890     1\n",
       "\n",
       "[712 rows x 1 columns]"
      ]
     },
     "execution_count": 27,
     "metadata": {},
     "output_type": "execute_result"
    }
   ],
   "source": [
    "sex = pd.get_dummies(df['Sex'], drop_first=True)\n",
    "sex"
   ]
  },
  {
   "cell_type": "markdown",
   "id": "federal-territory",
   "metadata": {
    "papermill": {
     "duration": 0.046142,
     "end_time": "2021-04-29T16:03:25.555875",
     "exception": false,
     "start_time": "2021-04-29T16:03:25.509733",
     "status": "completed"
    },
    "tags": []
   },
   "source": [
    "We will perform the same dummies function on the Embarked column as well"
   ]
  },
  {
   "cell_type": "code",
   "execution_count": 28,
   "id": "forbidden-trash",
   "metadata": {
    "execution": {
     "iopub.execute_input": "2021-04-29T16:03:25.661463Z",
     "iopub.status.busy": "2021-04-29T16:03:25.654613Z",
     "iopub.status.idle": "2021-04-29T16:03:25.666262Z",
     "shell.execute_reply": "2021-04-29T16:03:25.665630Z"
    },
    "papermill": {
     "duration": 0.064236,
     "end_time": "2021-04-29T16:03:25.666432",
     "exception": false,
     "start_time": "2021-04-29T16:03:25.602196",
     "status": "completed"
    },
    "tags": []
   },
   "outputs": [
    {
     "data": {
      "text/html": [
       "<div>\n",
       "<style scoped>\n",
       "    .dataframe tbody tr th:only-of-type {\n",
       "        vertical-align: middle;\n",
       "    }\n",
       "\n",
       "    .dataframe tbody tr th {\n",
       "        vertical-align: top;\n",
       "    }\n",
       "\n",
       "    .dataframe thead th {\n",
       "        text-align: right;\n",
       "    }\n",
       "</style>\n",
       "<table border=\"1\" class=\"dataframe\">\n",
       "  <thead>\n",
       "    <tr style=\"text-align: right;\">\n",
       "      <th></th>\n",
       "      <th>Q</th>\n",
       "      <th>S</th>\n",
       "    </tr>\n",
       "  </thead>\n",
       "  <tbody>\n",
       "    <tr>\n",
       "      <th>0</th>\n",
       "      <td>0</td>\n",
       "      <td>1</td>\n",
       "    </tr>\n",
       "    <tr>\n",
       "      <th>1</th>\n",
       "      <td>0</td>\n",
       "      <td>0</td>\n",
       "    </tr>\n",
       "    <tr>\n",
       "      <th>2</th>\n",
       "      <td>0</td>\n",
       "      <td>1</td>\n",
       "    </tr>\n",
       "    <tr>\n",
       "      <th>3</th>\n",
       "      <td>0</td>\n",
       "      <td>1</td>\n",
       "    </tr>\n",
       "    <tr>\n",
       "      <th>4</th>\n",
       "      <td>0</td>\n",
       "      <td>1</td>\n",
       "    </tr>\n",
       "    <tr>\n",
       "      <th>...</th>\n",
       "      <td>...</td>\n",
       "      <td>...</td>\n",
       "    </tr>\n",
       "    <tr>\n",
       "      <th>885</th>\n",
       "      <td>1</td>\n",
       "      <td>0</td>\n",
       "    </tr>\n",
       "    <tr>\n",
       "      <th>886</th>\n",
       "      <td>0</td>\n",
       "      <td>1</td>\n",
       "    </tr>\n",
       "    <tr>\n",
       "      <th>887</th>\n",
       "      <td>0</td>\n",
       "      <td>1</td>\n",
       "    </tr>\n",
       "    <tr>\n",
       "      <th>889</th>\n",
       "      <td>0</td>\n",
       "      <td>0</td>\n",
       "    </tr>\n",
       "    <tr>\n",
       "      <th>890</th>\n",
       "      <td>1</td>\n",
       "      <td>0</td>\n",
       "    </tr>\n",
       "  </tbody>\n",
       "</table>\n",
       "<p>712 rows × 2 columns</p>\n",
       "</div>"
      ],
      "text/plain": [
       "     Q  S\n",
       "0    0  1\n",
       "1    0  0\n",
       "2    0  1\n",
       "3    0  1\n",
       "4    0  1\n",
       "..  .. ..\n",
       "885  1  0\n",
       "886  0  1\n",
       "887  0  1\n",
       "889  0  0\n",
       "890  1  0\n",
       "\n",
       "[712 rows x 2 columns]"
      ]
     },
     "execution_count": 28,
     "metadata": {},
     "output_type": "execute_result"
    }
   ],
   "source": [
    "embarked = pd.get_dummies(df['Embarked'], drop_first=True)\n",
    "embarked"
   ]
  },
  {
   "cell_type": "markdown",
   "id": "moving-aquarium",
   "metadata": {
    "papermill": {
     "duration": 0.046682,
     "end_time": "2021-04-29T16:03:25.759417",
     "exception": false,
     "start_time": "2021-04-29T16:03:25.712735",
     "status": "completed"
    },
    "tags": []
   },
   "source": [
    "We will perform the same function on Pclass column as well"
   ]
  },
  {
   "cell_type": "code",
   "execution_count": 29,
   "id": "auburn-sphere",
   "metadata": {
    "execution": {
     "iopub.execute_input": "2021-04-29T16:03:25.863364Z",
     "iopub.status.busy": "2021-04-29T16:03:25.856834Z",
     "iopub.status.idle": "2021-04-29T16:03:25.867370Z",
     "shell.execute_reply": "2021-04-29T16:03:25.866805Z"
    },
    "papermill": {
     "duration": 0.06194,
     "end_time": "2021-04-29T16:03:25.867511",
     "exception": false,
     "start_time": "2021-04-29T16:03:25.805571",
     "status": "completed"
    },
    "tags": []
   },
   "outputs": [
    {
     "data": {
      "text/html": [
       "<div>\n",
       "<style scoped>\n",
       "    .dataframe tbody tr th:only-of-type {\n",
       "        vertical-align: middle;\n",
       "    }\n",
       "\n",
       "    .dataframe tbody tr th {\n",
       "        vertical-align: top;\n",
       "    }\n",
       "\n",
       "    .dataframe thead th {\n",
       "        text-align: right;\n",
       "    }\n",
       "</style>\n",
       "<table border=\"1\" class=\"dataframe\">\n",
       "  <thead>\n",
       "    <tr style=\"text-align: right;\">\n",
       "      <th></th>\n",
       "      <th>2</th>\n",
       "      <th>3</th>\n",
       "    </tr>\n",
       "  </thead>\n",
       "  <tbody>\n",
       "    <tr>\n",
       "      <th>0</th>\n",
       "      <td>0</td>\n",
       "      <td>1</td>\n",
       "    </tr>\n",
       "    <tr>\n",
       "      <th>1</th>\n",
       "      <td>0</td>\n",
       "      <td>0</td>\n",
       "    </tr>\n",
       "    <tr>\n",
       "      <th>2</th>\n",
       "      <td>0</td>\n",
       "      <td>1</td>\n",
       "    </tr>\n",
       "    <tr>\n",
       "      <th>3</th>\n",
       "      <td>0</td>\n",
       "      <td>0</td>\n",
       "    </tr>\n",
       "    <tr>\n",
       "      <th>4</th>\n",
       "      <td>0</td>\n",
       "      <td>1</td>\n",
       "    </tr>\n",
       "    <tr>\n",
       "      <th>...</th>\n",
       "      <td>...</td>\n",
       "      <td>...</td>\n",
       "    </tr>\n",
       "    <tr>\n",
       "      <th>885</th>\n",
       "      <td>0</td>\n",
       "      <td>1</td>\n",
       "    </tr>\n",
       "    <tr>\n",
       "      <th>886</th>\n",
       "      <td>1</td>\n",
       "      <td>0</td>\n",
       "    </tr>\n",
       "    <tr>\n",
       "      <th>887</th>\n",
       "      <td>0</td>\n",
       "      <td>0</td>\n",
       "    </tr>\n",
       "    <tr>\n",
       "      <th>889</th>\n",
       "      <td>0</td>\n",
       "      <td>0</td>\n",
       "    </tr>\n",
       "    <tr>\n",
       "      <th>890</th>\n",
       "      <td>0</td>\n",
       "      <td>1</td>\n",
       "    </tr>\n",
       "  </tbody>\n",
       "</table>\n",
       "<p>712 rows × 2 columns</p>\n",
       "</div>"
      ],
      "text/plain": [
       "     2  3\n",
       "0    0  1\n",
       "1    0  0\n",
       "2    0  1\n",
       "3    0  0\n",
       "4    0  1\n",
       "..  .. ..\n",
       "885  0  1\n",
       "886  1  0\n",
       "887  0  0\n",
       "889  0  0\n",
       "890  0  1\n",
       "\n",
       "[712 rows x 2 columns]"
      ]
     },
     "execution_count": 29,
     "metadata": {},
     "output_type": "execute_result"
    }
   ],
   "source": [
    "Pclass = pd.get_dummies(df['Pclass'], drop_first=True)\n",
    "Pclass"
   ]
  },
  {
   "cell_type": "code",
   "execution_count": 30,
   "id": "jewish-upset",
   "metadata": {
    "execution": {
     "iopub.execute_input": "2021-04-29T16:03:25.972791Z",
     "iopub.status.busy": "2021-04-29T16:03:25.966670Z",
     "iopub.status.idle": "2021-04-29T16:03:25.995879Z",
     "shell.execute_reply": "2021-04-29T16:03:25.995237Z"
    },
    "papermill": {
     "duration": 0.081645,
     "end_time": "2021-04-29T16:03:25.996043",
     "exception": false,
     "start_time": "2021-04-29T16:03:25.914398",
     "status": "completed"
    },
    "tags": []
   },
   "outputs": [
    {
     "data": {
      "text/html": [
       "<div>\n",
       "<style scoped>\n",
       "    .dataframe tbody tr th:only-of-type {\n",
       "        vertical-align: middle;\n",
       "    }\n",
       "\n",
       "    .dataframe tbody tr th {\n",
       "        vertical-align: top;\n",
       "    }\n",
       "\n",
       "    .dataframe thead th {\n",
       "        text-align: right;\n",
       "    }\n",
       "</style>\n",
       "<table border=\"1\" class=\"dataframe\">\n",
       "  <thead>\n",
       "    <tr style=\"text-align: right;\">\n",
       "      <th></th>\n",
       "      <th>PassengerId</th>\n",
       "      <th>Survived</th>\n",
       "      <th>Pclass</th>\n",
       "      <th>Name</th>\n",
       "      <th>Sex</th>\n",
       "      <th>Age</th>\n",
       "      <th>SibSp</th>\n",
       "      <th>Parch</th>\n",
       "      <th>Ticket</th>\n",
       "      <th>Fare</th>\n",
       "      <th>Embarked</th>\n",
       "      <th>male</th>\n",
       "      <th>Q</th>\n",
       "      <th>S</th>\n",
       "      <th>2</th>\n",
       "      <th>3</th>\n",
       "    </tr>\n",
       "  </thead>\n",
       "  <tbody>\n",
       "    <tr>\n",
       "      <th>0</th>\n",
       "      <td>1</td>\n",
       "      <td>0</td>\n",
       "      <td>3</td>\n",
       "      <td>Braund, Mr. Owen Harris</td>\n",
       "      <td>male</td>\n",
       "      <td>22.0</td>\n",
       "      <td>1</td>\n",
       "      <td>0</td>\n",
       "      <td>A/5 21171</td>\n",
       "      <td>7.2500</td>\n",
       "      <td>S</td>\n",
       "      <td>1</td>\n",
       "      <td>0</td>\n",
       "      <td>1</td>\n",
       "      <td>0</td>\n",
       "      <td>1</td>\n",
       "    </tr>\n",
       "    <tr>\n",
       "      <th>1</th>\n",
       "      <td>2</td>\n",
       "      <td>1</td>\n",
       "      <td>1</td>\n",
       "      <td>Cumings, Mrs. John Bradley (Florence Briggs Th...</td>\n",
       "      <td>female</td>\n",
       "      <td>38.0</td>\n",
       "      <td>1</td>\n",
       "      <td>0</td>\n",
       "      <td>PC 17599</td>\n",
       "      <td>71.2833</td>\n",
       "      <td>C</td>\n",
       "      <td>0</td>\n",
       "      <td>0</td>\n",
       "      <td>0</td>\n",
       "      <td>0</td>\n",
       "      <td>0</td>\n",
       "    </tr>\n",
       "    <tr>\n",
       "      <th>2</th>\n",
       "      <td>3</td>\n",
       "      <td>1</td>\n",
       "      <td>3</td>\n",
       "      <td>Heikkinen, Miss. Laina</td>\n",
       "      <td>female</td>\n",
       "      <td>26.0</td>\n",
       "      <td>0</td>\n",
       "      <td>0</td>\n",
       "      <td>STON/O2. 3101282</td>\n",
       "      <td>7.9250</td>\n",
       "      <td>S</td>\n",
       "      <td>0</td>\n",
       "      <td>0</td>\n",
       "      <td>1</td>\n",
       "      <td>0</td>\n",
       "      <td>1</td>\n",
       "    </tr>\n",
       "    <tr>\n",
       "      <th>3</th>\n",
       "      <td>4</td>\n",
       "      <td>1</td>\n",
       "      <td>1</td>\n",
       "      <td>Futrelle, Mrs. Jacques Heath (Lily May Peel)</td>\n",
       "      <td>female</td>\n",
       "      <td>35.0</td>\n",
       "      <td>1</td>\n",
       "      <td>0</td>\n",
       "      <td>113803</td>\n",
       "      <td>53.1000</td>\n",
       "      <td>S</td>\n",
       "      <td>0</td>\n",
       "      <td>0</td>\n",
       "      <td>1</td>\n",
       "      <td>0</td>\n",
       "      <td>0</td>\n",
       "    </tr>\n",
       "    <tr>\n",
       "      <th>4</th>\n",
       "      <td>5</td>\n",
       "      <td>0</td>\n",
       "      <td>3</td>\n",
       "      <td>Allen, Mr. William Henry</td>\n",
       "      <td>male</td>\n",
       "      <td>35.0</td>\n",
       "      <td>0</td>\n",
       "      <td>0</td>\n",
       "      <td>373450</td>\n",
       "      <td>8.0500</td>\n",
       "      <td>S</td>\n",
       "      <td>1</td>\n",
       "      <td>0</td>\n",
       "      <td>1</td>\n",
       "      <td>0</td>\n",
       "      <td>1</td>\n",
       "    </tr>\n",
       "    <tr>\n",
       "      <th>...</th>\n",
       "      <td>...</td>\n",
       "      <td>...</td>\n",
       "      <td>...</td>\n",
       "      <td>...</td>\n",
       "      <td>...</td>\n",
       "      <td>...</td>\n",
       "      <td>...</td>\n",
       "      <td>...</td>\n",
       "      <td>...</td>\n",
       "      <td>...</td>\n",
       "      <td>...</td>\n",
       "      <td>...</td>\n",
       "      <td>...</td>\n",
       "      <td>...</td>\n",
       "      <td>...</td>\n",
       "      <td>...</td>\n",
       "    </tr>\n",
       "    <tr>\n",
       "      <th>885</th>\n",
       "      <td>886</td>\n",
       "      <td>0</td>\n",
       "      <td>3</td>\n",
       "      <td>Rice, Mrs. William (Margaret Norton)</td>\n",
       "      <td>female</td>\n",
       "      <td>39.0</td>\n",
       "      <td>0</td>\n",
       "      <td>5</td>\n",
       "      <td>382652</td>\n",
       "      <td>29.1250</td>\n",
       "      <td>Q</td>\n",
       "      <td>0</td>\n",
       "      <td>1</td>\n",
       "      <td>0</td>\n",
       "      <td>0</td>\n",
       "      <td>1</td>\n",
       "    </tr>\n",
       "    <tr>\n",
       "      <th>886</th>\n",
       "      <td>887</td>\n",
       "      <td>0</td>\n",
       "      <td>2</td>\n",
       "      <td>Montvila, Rev. Juozas</td>\n",
       "      <td>male</td>\n",
       "      <td>27.0</td>\n",
       "      <td>0</td>\n",
       "      <td>0</td>\n",
       "      <td>211536</td>\n",
       "      <td>13.0000</td>\n",
       "      <td>S</td>\n",
       "      <td>1</td>\n",
       "      <td>0</td>\n",
       "      <td>1</td>\n",
       "      <td>1</td>\n",
       "      <td>0</td>\n",
       "    </tr>\n",
       "    <tr>\n",
       "      <th>887</th>\n",
       "      <td>888</td>\n",
       "      <td>1</td>\n",
       "      <td>1</td>\n",
       "      <td>Graham, Miss. Margaret Edith</td>\n",
       "      <td>female</td>\n",
       "      <td>19.0</td>\n",
       "      <td>0</td>\n",
       "      <td>0</td>\n",
       "      <td>112053</td>\n",
       "      <td>30.0000</td>\n",
       "      <td>S</td>\n",
       "      <td>0</td>\n",
       "      <td>0</td>\n",
       "      <td>1</td>\n",
       "      <td>0</td>\n",
       "      <td>0</td>\n",
       "    </tr>\n",
       "    <tr>\n",
       "      <th>889</th>\n",
       "      <td>890</td>\n",
       "      <td>1</td>\n",
       "      <td>1</td>\n",
       "      <td>Behr, Mr. Karl Howell</td>\n",
       "      <td>male</td>\n",
       "      <td>26.0</td>\n",
       "      <td>0</td>\n",
       "      <td>0</td>\n",
       "      <td>111369</td>\n",
       "      <td>30.0000</td>\n",
       "      <td>C</td>\n",
       "      <td>1</td>\n",
       "      <td>0</td>\n",
       "      <td>0</td>\n",
       "      <td>0</td>\n",
       "      <td>0</td>\n",
       "    </tr>\n",
       "    <tr>\n",
       "      <th>890</th>\n",
       "      <td>891</td>\n",
       "      <td>0</td>\n",
       "      <td>3</td>\n",
       "      <td>Dooley, Mr. Patrick</td>\n",
       "      <td>male</td>\n",
       "      <td>32.0</td>\n",
       "      <td>0</td>\n",
       "      <td>0</td>\n",
       "      <td>370376</td>\n",
       "      <td>7.7500</td>\n",
       "      <td>Q</td>\n",
       "      <td>1</td>\n",
       "      <td>1</td>\n",
       "      <td>0</td>\n",
       "      <td>0</td>\n",
       "      <td>1</td>\n",
       "    </tr>\n",
       "  </tbody>\n",
       "</table>\n",
       "<p>712 rows × 16 columns</p>\n",
       "</div>"
      ],
      "text/plain": [
       "     PassengerId  Survived  Pclass  \\\n",
       "0              1         0       3   \n",
       "1              2         1       1   \n",
       "2              3         1       3   \n",
       "3              4         1       1   \n",
       "4              5         0       3   \n",
       "..           ...       ...     ...   \n",
       "885          886         0       3   \n",
       "886          887         0       2   \n",
       "887          888         1       1   \n",
       "889          890         1       1   \n",
       "890          891         0       3   \n",
       "\n",
       "                                                  Name     Sex   Age  SibSp  \\\n",
       "0                              Braund, Mr. Owen Harris    male  22.0      1   \n",
       "1    Cumings, Mrs. John Bradley (Florence Briggs Th...  female  38.0      1   \n",
       "2                               Heikkinen, Miss. Laina  female  26.0      0   \n",
       "3         Futrelle, Mrs. Jacques Heath (Lily May Peel)  female  35.0      1   \n",
       "4                             Allen, Mr. William Henry    male  35.0      0   \n",
       "..                                                 ...     ...   ...    ...   \n",
       "885               Rice, Mrs. William (Margaret Norton)  female  39.0      0   \n",
       "886                              Montvila, Rev. Juozas    male  27.0      0   \n",
       "887                       Graham, Miss. Margaret Edith  female  19.0      0   \n",
       "889                              Behr, Mr. Karl Howell    male  26.0      0   \n",
       "890                                Dooley, Mr. Patrick    male  32.0      0   \n",
       "\n",
       "     Parch            Ticket     Fare Embarked  male  Q  S  2  3  \n",
       "0        0         A/5 21171   7.2500        S     1  0  1  0  1  \n",
       "1        0          PC 17599  71.2833        C     0  0  0  0  0  \n",
       "2        0  STON/O2. 3101282   7.9250        S     0  0  1  0  1  \n",
       "3        0            113803  53.1000        S     0  0  1  0  0  \n",
       "4        0            373450   8.0500        S     1  0  1  0  1  \n",
       "..     ...               ...      ...      ...   ... .. .. .. ..  \n",
       "885      5            382652  29.1250        Q     0  1  0  0  1  \n",
       "886      0            211536  13.0000        S     1  0  1  1  0  \n",
       "887      0            112053  30.0000        S     0  0  1  0  0  \n",
       "889      0            111369  30.0000        C     1  0  0  0  0  \n",
       "890      0            370376   7.7500        Q     1  1  0  0  1  \n",
       "\n",
       "[712 rows x 16 columns]"
      ]
     },
     "execution_count": 30,
     "metadata": {},
     "output_type": "execute_result"
    }
   ],
   "source": [
    "df = pd.concat([df, sex,embarked,Pclass], axis=1)\n",
    "df"
   ]
  },
  {
   "cell_type": "markdown",
   "id": "expensive-manhattan",
   "metadata": {
    "papermill": {
     "duration": 0.051849,
     "end_time": "2021-04-29T16:03:26.094144",
     "exception": false,
     "start_time": "2021-04-29T16:03:26.042295",
     "status": "completed"
    },
    "tags": []
   },
   "source": [
    "Now we will drop the non important columns from the dataset"
   ]
  },
  {
   "cell_type": "code",
   "execution_count": 31,
   "id": "brutal-greek",
   "metadata": {
    "execution": {
     "iopub.execute_input": "2021-04-29T16:03:26.196423Z",
     "iopub.status.busy": "2021-04-29T16:03:26.195816Z",
     "iopub.status.idle": "2021-04-29T16:03:26.199334Z",
     "shell.execute_reply": "2021-04-29T16:03:26.198851Z"
    },
    "papermill": {
     "duration": 0.057276,
     "end_time": "2021-04-29T16:03:26.199477",
     "exception": false,
     "start_time": "2021-04-29T16:03:26.142201",
     "status": "completed"
    },
    "tags": []
   },
   "outputs": [],
   "source": [
    "df.drop(['PassengerId', 'Pclass', 'Sex', 'Embarked','Name', 'Ticket'],axis=1, inplace=True)"
   ]
  },
  {
   "cell_type": "code",
   "execution_count": 32,
   "id": "dressed-panel",
   "metadata": {
    "execution": {
     "iopub.execute_input": "2021-04-29T16:03:26.305253Z",
     "iopub.status.busy": "2021-04-29T16:03:26.304431Z",
     "iopub.status.idle": "2021-04-29T16:03:26.309247Z",
     "shell.execute_reply": "2021-04-29T16:03:26.308756Z"
    },
    "papermill": {
     "duration": 0.063012,
     "end_time": "2021-04-29T16:03:26.309386",
     "exception": false,
     "start_time": "2021-04-29T16:03:26.246374",
     "status": "completed"
    },
    "tags": []
   },
   "outputs": [
    {
     "data": {
      "text/html": [
       "<div>\n",
       "<style scoped>\n",
       "    .dataframe tbody tr th:only-of-type {\n",
       "        vertical-align: middle;\n",
       "    }\n",
       "\n",
       "    .dataframe tbody tr th {\n",
       "        vertical-align: top;\n",
       "    }\n",
       "\n",
       "    .dataframe thead th {\n",
       "        text-align: right;\n",
       "    }\n",
       "</style>\n",
       "<table border=\"1\" class=\"dataframe\">\n",
       "  <thead>\n",
       "    <tr style=\"text-align: right;\">\n",
       "      <th></th>\n",
       "      <th>Survived</th>\n",
       "      <th>Age</th>\n",
       "      <th>SibSp</th>\n",
       "      <th>Parch</th>\n",
       "      <th>Fare</th>\n",
       "      <th>male</th>\n",
       "      <th>Q</th>\n",
       "      <th>S</th>\n",
       "      <th>2</th>\n",
       "      <th>3</th>\n",
       "    </tr>\n",
       "  </thead>\n",
       "  <tbody>\n",
       "    <tr>\n",
       "      <th>0</th>\n",
       "      <td>0</td>\n",
       "      <td>22.0</td>\n",
       "      <td>1</td>\n",
       "      <td>0</td>\n",
       "      <td>7.2500</td>\n",
       "      <td>1</td>\n",
       "      <td>0</td>\n",
       "      <td>1</td>\n",
       "      <td>0</td>\n",
       "      <td>1</td>\n",
       "    </tr>\n",
       "    <tr>\n",
       "      <th>1</th>\n",
       "      <td>1</td>\n",
       "      <td>38.0</td>\n",
       "      <td>1</td>\n",
       "      <td>0</td>\n",
       "      <td>71.2833</td>\n",
       "      <td>0</td>\n",
       "      <td>0</td>\n",
       "      <td>0</td>\n",
       "      <td>0</td>\n",
       "      <td>0</td>\n",
       "    </tr>\n",
       "    <tr>\n",
       "      <th>2</th>\n",
       "      <td>1</td>\n",
       "      <td>26.0</td>\n",
       "      <td>0</td>\n",
       "      <td>0</td>\n",
       "      <td>7.9250</td>\n",
       "      <td>0</td>\n",
       "      <td>0</td>\n",
       "      <td>1</td>\n",
       "      <td>0</td>\n",
       "      <td>1</td>\n",
       "    </tr>\n",
       "    <tr>\n",
       "      <th>3</th>\n",
       "      <td>1</td>\n",
       "      <td>35.0</td>\n",
       "      <td>1</td>\n",
       "      <td>0</td>\n",
       "      <td>53.1000</td>\n",
       "      <td>0</td>\n",
       "      <td>0</td>\n",
       "      <td>1</td>\n",
       "      <td>0</td>\n",
       "      <td>0</td>\n",
       "    </tr>\n",
       "    <tr>\n",
       "      <th>4</th>\n",
       "      <td>0</td>\n",
       "      <td>35.0</td>\n",
       "      <td>0</td>\n",
       "      <td>0</td>\n",
       "      <td>8.0500</td>\n",
       "      <td>1</td>\n",
       "      <td>0</td>\n",
       "      <td>1</td>\n",
       "      <td>0</td>\n",
       "      <td>1</td>\n",
       "    </tr>\n",
       "  </tbody>\n",
       "</table>\n",
       "</div>"
      ],
      "text/plain": [
       "   Survived   Age  SibSp  Parch     Fare  male  Q  S  2  3\n",
       "0         0  22.0      1      0   7.2500     1  0  1  0  1\n",
       "1         1  38.0      1      0  71.2833     0  0  0  0  0\n",
       "2         1  26.0      0      0   7.9250     0  0  1  0  1\n",
       "3         1  35.0      1      0  53.1000     0  0  1  0  0\n",
       "4         0  35.0      0      0   8.0500     1  0  1  0  1"
      ]
     },
     "execution_count": 32,
     "metadata": {},
     "output_type": "execute_result"
    }
   ],
   "source": [
    "df.head()"
   ]
  },
  {
   "cell_type": "code",
   "execution_count": 33,
   "id": "manufactured-regard",
   "metadata": {
    "execution": {
     "iopub.execute_input": "2021-04-29T16:03:26.412198Z",
     "iopub.status.busy": "2021-04-29T16:03:26.411569Z",
     "iopub.status.idle": "2021-04-29T16:03:26.418356Z",
     "shell.execute_reply": "2021-04-29T16:03:26.418826Z"
    },
    "papermill": {
     "duration": 0.061286,
     "end_time": "2021-04-29T16:03:26.419030",
     "exception": false,
     "start_time": "2021-04-29T16:03:26.357744",
     "status": "completed"
    },
    "tags": []
   },
   "outputs": [
    {
     "data": {
      "text/plain": [
       "(712, 10)"
      ]
     },
     "execution_count": 33,
     "metadata": {},
     "output_type": "execute_result"
    }
   ],
   "source": [
    "df.shape"
   ]
  },
  {
   "cell_type": "markdown",
   "id": "useful-polymer",
   "metadata": {
    "papermill": {
     "duration": 0.052642,
     "end_time": "2021-04-29T16:03:26.523812",
     "exception": false,
     "start_time": "2021-04-29T16:03:26.471170",
     "status": "completed"
    },
    "tags": []
   },
   "source": [
    "We will convert the data into Dependent and Independent Variable"
   ]
  },
  {
   "cell_type": "code",
   "execution_count": 34,
   "id": "guided-chance",
   "metadata": {
    "execution": {
     "iopub.execute_input": "2021-04-29T16:03:26.626419Z",
     "iopub.status.busy": "2021-04-29T16:03:26.625719Z",
     "iopub.status.idle": "2021-04-29T16:03:26.645216Z",
     "shell.execute_reply": "2021-04-29T16:03:26.645658Z"
    },
    "papermill": {
     "duration": 0.073477,
     "end_time": "2021-04-29T16:03:26.645844",
     "exception": false,
     "start_time": "2021-04-29T16:03:26.572367",
     "status": "completed"
    },
    "tags": []
   },
   "outputs": [
    {
     "data": {
      "text/html": [
       "<div>\n",
       "<style scoped>\n",
       "    .dataframe tbody tr th:only-of-type {\n",
       "        vertical-align: middle;\n",
       "    }\n",
       "\n",
       "    .dataframe tbody tr th {\n",
       "        vertical-align: top;\n",
       "    }\n",
       "\n",
       "    .dataframe thead th {\n",
       "        text-align: right;\n",
       "    }\n",
       "</style>\n",
       "<table border=\"1\" class=\"dataframe\">\n",
       "  <thead>\n",
       "    <tr style=\"text-align: right;\">\n",
       "      <th></th>\n",
       "      <th>Age</th>\n",
       "      <th>SibSp</th>\n",
       "      <th>Parch</th>\n",
       "      <th>Fare</th>\n",
       "      <th>male</th>\n",
       "      <th>Q</th>\n",
       "      <th>S</th>\n",
       "      <th>2</th>\n",
       "      <th>3</th>\n",
       "    </tr>\n",
       "  </thead>\n",
       "  <tbody>\n",
       "    <tr>\n",
       "      <th>0</th>\n",
       "      <td>22.0</td>\n",
       "      <td>1</td>\n",
       "      <td>0</td>\n",
       "      <td>7.2500</td>\n",
       "      <td>1</td>\n",
       "      <td>0</td>\n",
       "      <td>1</td>\n",
       "      <td>0</td>\n",
       "      <td>1</td>\n",
       "    </tr>\n",
       "    <tr>\n",
       "      <th>1</th>\n",
       "      <td>38.0</td>\n",
       "      <td>1</td>\n",
       "      <td>0</td>\n",
       "      <td>71.2833</td>\n",
       "      <td>0</td>\n",
       "      <td>0</td>\n",
       "      <td>0</td>\n",
       "      <td>0</td>\n",
       "      <td>0</td>\n",
       "    </tr>\n",
       "    <tr>\n",
       "      <th>2</th>\n",
       "      <td>26.0</td>\n",
       "      <td>0</td>\n",
       "      <td>0</td>\n",
       "      <td>7.9250</td>\n",
       "      <td>0</td>\n",
       "      <td>0</td>\n",
       "      <td>1</td>\n",
       "      <td>0</td>\n",
       "      <td>1</td>\n",
       "    </tr>\n",
       "    <tr>\n",
       "      <th>3</th>\n",
       "      <td>35.0</td>\n",
       "      <td>1</td>\n",
       "      <td>0</td>\n",
       "      <td>53.1000</td>\n",
       "      <td>0</td>\n",
       "      <td>0</td>\n",
       "      <td>1</td>\n",
       "      <td>0</td>\n",
       "      <td>0</td>\n",
       "    </tr>\n",
       "    <tr>\n",
       "      <th>4</th>\n",
       "      <td>35.0</td>\n",
       "      <td>0</td>\n",
       "      <td>0</td>\n",
       "      <td>8.0500</td>\n",
       "      <td>1</td>\n",
       "      <td>0</td>\n",
       "      <td>1</td>\n",
       "      <td>0</td>\n",
       "      <td>1</td>\n",
       "    </tr>\n",
       "    <tr>\n",
       "      <th>...</th>\n",
       "      <td>...</td>\n",
       "      <td>...</td>\n",
       "      <td>...</td>\n",
       "      <td>...</td>\n",
       "      <td>...</td>\n",
       "      <td>...</td>\n",
       "      <td>...</td>\n",
       "      <td>...</td>\n",
       "      <td>...</td>\n",
       "    </tr>\n",
       "    <tr>\n",
       "      <th>885</th>\n",
       "      <td>39.0</td>\n",
       "      <td>0</td>\n",
       "      <td>5</td>\n",
       "      <td>29.1250</td>\n",
       "      <td>0</td>\n",
       "      <td>1</td>\n",
       "      <td>0</td>\n",
       "      <td>0</td>\n",
       "      <td>1</td>\n",
       "    </tr>\n",
       "    <tr>\n",
       "      <th>886</th>\n",
       "      <td>27.0</td>\n",
       "      <td>0</td>\n",
       "      <td>0</td>\n",
       "      <td>13.0000</td>\n",
       "      <td>1</td>\n",
       "      <td>0</td>\n",
       "      <td>1</td>\n",
       "      <td>1</td>\n",
       "      <td>0</td>\n",
       "    </tr>\n",
       "    <tr>\n",
       "      <th>887</th>\n",
       "      <td>19.0</td>\n",
       "      <td>0</td>\n",
       "      <td>0</td>\n",
       "      <td>30.0000</td>\n",
       "      <td>0</td>\n",
       "      <td>0</td>\n",
       "      <td>1</td>\n",
       "      <td>0</td>\n",
       "      <td>0</td>\n",
       "    </tr>\n",
       "    <tr>\n",
       "      <th>889</th>\n",
       "      <td>26.0</td>\n",
       "      <td>0</td>\n",
       "      <td>0</td>\n",
       "      <td>30.0000</td>\n",
       "      <td>1</td>\n",
       "      <td>0</td>\n",
       "      <td>0</td>\n",
       "      <td>0</td>\n",
       "      <td>0</td>\n",
       "    </tr>\n",
       "    <tr>\n",
       "      <th>890</th>\n",
       "      <td>32.0</td>\n",
       "      <td>0</td>\n",
       "      <td>0</td>\n",
       "      <td>7.7500</td>\n",
       "      <td>1</td>\n",
       "      <td>1</td>\n",
       "      <td>0</td>\n",
       "      <td>0</td>\n",
       "      <td>1</td>\n",
       "    </tr>\n",
       "  </tbody>\n",
       "</table>\n",
       "<p>712 rows × 9 columns</p>\n",
       "</div>"
      ],
      "text/plain": [
       "      Age  SibSp  Parch     Fare  male  Q  S  2  3\n",
       "0    22.0      1      0   7.2500     1  0  1  0  1\n",
       "1    38.0      1      0  71.2833     0  0  0  0  0\n",
       "2    26.0      0      0   7.9250     0  0  1  0  1\n",
       "3    35.0      1      0  53.1000     0  0  1  0  0\n",
       "4    35.0      0      0   8.0500     1  0  1  0  1\n",
       "..    ...    ...    ...      ...   ... .. .. .. ..\n",
       "885  39.0      0      5  29.1250     0  1  0  0  1\n",
       "886  27.0      0      0  13.0000     1  0  1  1  0\n",
       "887  19.0      0      0  30.0000     0  0  1  0  0\n",
       "889  26.0      0      0  30.0000     1  0  0  0  0\n",
       "890  32.0      0      0   7.7500     1  1  0  0  1\n",
       "\n",
       "[712 rows x 9 columns]"
      ]
     },
     "execution_count": 34,
     "metadata": {},
     "output_type": "execute_result"
    }
   ],
   "source": [
    "X = df.drop(['Survived'],axis=1)\n",
    "X"
   ]
  },
  {
   "cell_type": "code",
   "execution_count": 35,
   "id": "weighted-vegetarian",
   "metadata": {
    "execution": {
     "iopub.execute_input": "2021-04-29T16:03:26.751399Z",
     "iopub.status.busy": "2021-04-29T16:03:26.750777Z",
     "iopub.status.idle": "2021-04-29T16:03:26.759960Z",
     "shell.execute_reply": "2021-04-29T16:03:26.759341Z"
    },
    "papermill": {
     "duration": 0.064406,
     "end_time": "2021-04-29T16:03:26.760145",
     "exception": false,
     "start_time": "2021-04-29T16:03:26.695739",
     "status": "completed"
    },
    "tags": []
   },
   "outputs": [
    {
     "data": {
      "text/plain": [
       "0      0\n",
       "1      1\n",
       "2      1\n",
       "3      1\n",
       "4      0\n",
       "      ..\n",
       "885    0\n",
       "886    0\n",
       "887    1\n",
       "889    1\n",
       "890    0\n",
       "Name: Survived, Length: 712, dtype: int64"
      ]
     },
     "execution_count": 35,
     "metadata": {},
     "output_type": "execute_result"
    }
   ],
   "source": [
    "Y = df['Survived']\n",
    "Y"
   ]
  },
  {
   "cell_type": "markdown",
   "id": "liberal-right",
   "metadata": {
    "papermill": {
     "duration": 0.048447,
     "end_time": "2021-04-29T16:03:26.862948",
     "exception": false,
     "start_time": "2021-04-29T16:03:26.814501",
     "status": "completed"
    },
    "tags": []
   },
   "source": [
    "We will transform the data into training and testing data."
   ]
  },
  {
   "cell_type": "code",
   "execution_count": 36,
   "id": "silent-modeling",
   "metadata": {
    "execution": {
     "iopub.execute_input": "2021-04-29T16:03:26.968271Z",
     "iopub.status.busy": "2021-04-29T16:03:26.967633Z",
     "iopub.status.idle": "2021-04-29T16:03:26.970940Z",
     "shell.execute_reply": "2021-04-29T16:03:26.970197Z"
    },
    "papermill": {
     "duration": 0.059446,
     "end_time": "2021-04-29T16:03:26.971120",
     "exception": false,
     "start_time": "2021-04-29T16:03:26.911674",
     "status": "completed"
    },
    "tags": []
   },
   "outputs": [],
   "source": [
    "train_x,test_x,train_y,test_y = train_test_split(X,Y,test_size=0.3,random_state=99)"
   ]
  },
  {
   "cell_type": "code",
   "execution_count": 37,
   "id": "presidential-cancer",
   "metadata": {
    "execution": {
     "iopub.execute_input": "2021-04-29T16:03:27.078399Z",
     "iopub.status.busy": "2021-04-29T16:03:27.077742Z",
     "iopub.status.idle": "2021-04-29T16:03:27.083910Z",
     "shell.execute_reply": "2021-04-29T16:03:27.083385Z"
    },
    "papermill": {
     "duration": 0.060495,
     "end_time": "2021-04-29T16:03:27.084091",
     "exception": false,
     "start_time": "2021-04-29T16:03:27.023596",
     "status": "completed"
    },
    "tags": []
   },
   "outputs": [
    {
     "data": {
      "text/plain": [
       "((498, 9), (214, 9), (498,), (214,))"
      ]
     },
     "execution_count": 37,
     "metadata": {},
     "output_type": "execute_result"
    }
   ],
   "source": [
    "train_x.shape,test_x.shape,train_y.shape,test_y.shape"
   ]
  },
  {
   "cell_type": "markdown",
   "id": "falling-microphone",
   "metadata": {
    "papermill": {
     "duration": 0.050724,
     "end_time": "2021-04-29T16:03:27.184747",
     "exception": false,
     "start_time": "2021-04-29T16:03:27.134023",
     "status": "completed"
    },
    "tags": []
   },
   "source": [
    "Decision Tree "
   ]
  },
  {
   "cell_type": "code",
   "execution_count": 38,
   "id": "renewable-story",
   "metadata": {
    "execution": {
     "iopub.execute_input": "2021-04-29T16:03:27.291573Z",
     "iopub.status.busy": "2021-04-29T16:03:27.290935Z",
     "iopub.status.idle": "2021-04-29T16:03:27.293348Z",
     "shell.execute_reply": "2021-04-29T16:03:27.293863Z"
    },
    "papermill": {
     "duration": 0.056614,
     "end_time": "2021-04-29T16:03:27.294068",
     "exception": false,
     "start_time": "2021-04-29T16:03:27.237454",
     "status": "completed"
    },
    "tags": []
   },
   "outputs": [],
   "source": [
    "from sklearn.tree import DecisionTreeClassifier"
   ]
  },
  {
   "cell_type": "code",
   "execution_count": 39,
   "id": "determined-opportunity",
   "metadata": {
    "execution": {
     "iopub.execute_input": "2021-04-29T16:03:27.399475Z",
     "iopub.status.busy": "2021-04-29T16:03:27.398836Z",
     "iopub.status.idle": "2021-04-29T16:03:27.401920Z",
     "shell.execute_reply": "2021-04-29T16:03:27.402408Z"
    },
    "papermill": {
     "duration": 0.056871,
     "end_time": "2021-04-29T16:03:27.402603",
     "exception": false,
     "start_time": "2021-04-29T16:03:27.345732",
     "status": "completed"
    },
    "tags": []
   },
   "outputs": [],
   "source": [
    "dt = DecisionTreeClassifier()"
   ]
  },
  {
   "cell_type": "code",
   "execution_count": 40,
   "id": "professional-assessment",
   "metadata": {
    "execution": {
     "iopub.execute_input": "2021-04-29T16:03:27.509636Z",
     "iopub.status.busy": "2021-04-29T16:03:27.508794Z",
     "iopub.status.idle": "2021-04-29T16:03:27.519435Z",
     "shell.execute_reply": "2021-04-29T16:03:27.519930Z"
    },
    "papermill": {
     "duration": 0.065046,
     "end_time": "2021-04-29T16:03:27.520128",
     "exception": false,
     "start_time": "2021-04-29T16:03:27.455082",
     "status": "completed"
    },
    "tags": []
   },
   "outputs": [
    {
     "data": {
      "text/plain": [
       "DecisionTreeClassifier()"
      ]
     },
     "execution_count": 40,
     "metadata": {},
     "output_type": "execute_result"
    }
   ],
   "source": [
    "dt.fit(train_x,train_y)"
   ]
  },
  {
   "cell_type": "code",
   "execution_count": 41,
   "id": "assumed-closing",
   "metadata": {
    "execution": {
     "iopub.execute_input": "2021-04-29T16:03:27.624391Z",
     "iopub.status.busy": "2021-04-29T16:03:27.623771Z",
     "iopub.status.idle": "2021-04-29T16:03:27.635504Z",
     "shell.execute_reply": "2021-04-29T16:03:27.636238Z"
    },
    "papermill": {
     "duration": 0.064825,
     "end_time": "2021-04-29T16:03:27.636412",
     "exception": false,
     "start_time": "2021-04-29T16:03:27.571587",
     "status": "completed"
    },
    "tags": []
   },
   "outputs": [
    {
     "data": {
      "text/html": [
       "<div>\n",
       "<style scoped>\n",
       "    .dataframe tbody tr th:only-of-type {\n",
       "        vertical-align: middle;\n",
       "    }\n",
       "\n",
       "    .dataframe tbody tr th {\n",
       "        vertical-align: top;\n",
       "    }\n",
       "\n",
       "    .dataframe thead th {\n",
       "        text-align: right;\n",
       "    }\n",
       "</style>\n",
       "<table border=\"1\" class=\"dataframe\">\n",
       "  <thead>\n",
       "    <tr style=\"text-align: right;\">\n",
       "      <th></th>\n",
       "      <th>Features</th>\n",
       "      <th>Importance</th>\n",
       "    </tr>\n",
       "  </thead>\n",
       "  <tbody>\n",
       "    <tr>\n",
       "      <th>0</th>\n",
       "      <td>Age</td>\n",
       "      <td>0.312160</td>\n",
       "    </tr>\n",
       "    <tr>\n",
       "      <th>4</th>\n",
       "      <td>male</td>\n",
       "      <td>0.267834</td>\n",
       "    </tr>\n",
       "    <tr>\n",
       "      <th>3</th>\n",
       "      <td>Fare</td>\n",
       "      <td>0.226525</td>\n",
       "    </tr>\n",
       "    <tr>\n",
       "      <th>8</th>\n",
       "      <td>3</td>\n",
       "      <td>0.092826</td>\n",
       "    </tr>\n",
       "    <tr>\n",
       "      <th>1</th>\n",
       "      <td>SibSp</td>\n",
       "      <td>0.029862</td>\n",
       "    </tr>\n",
       "    <tr>\n",
       "      <th>6</th>\n",
       "      <td>S</td>\n",
       "      <td>0.023916</td>\n",
       "    </tr>\n",
       "    <tr>\n",
       "      <th>2</th>\n",
       "      <td>Parch</td>\n",
       "      <td>0.022296</td>\n",
       "    </tr>\n",
       "    <tr>\n",
       "      <th>7</th>\n",
       "      <td>2</td>\n",
       "      <td>0.018557</td>\n",
       "    </tr>\n",
       "    <tr>\n",
       "      <th>5</th>\n",
       "      <td>Q</td>\n",
       "      <td>0.006025</td>\n",
       "    </tr>\n",
       "  </tbody>\n",
       "</table>\n",
       "</div>"
      ],
      "text/plain": [
       "  Features  Importance\n",
       "0      Age    0.312160\n",
       "4     male    0.267834\n",
       "3     Fare    0.226525\n",
       "8        3    0.092826\n",
       "1    SibSp    0.029862\n",
       "6        S    0.023916\n",
       "2    Parch    0.022296\n",
       "7        2    0.018557\n",
       "5        Q    0.006025"
      ]
     },
     "execution_count": 41,
     "metadata": {},
     "output_type": "execute_result"
    }
   ],
   "source": [
    "Features = pd.DataFrame({'Features' : train_x.columns, 'Importance' : dt.feature_importances_})\n",
    "Features.sort_values('Importance', ascending=False)"
   ]
  },
  {
   "cell_type": "code",
   "execution_count": 42,
   "id": "american-thompson",
   "metadata": {
    "execution": {
     "iopub.execute_input": "2021-04-29T16:03:27.741455Z",
     "iopub.status.busy": "2021-04-29T16:03:27.740851Z",
     "iopub.status.idle": "2021-04-29T16:03:27.746751Z",
     "shell.execute_reply": "2021-04-29T16:03:27.747259Z"
    },
    "papermill": {
     "duration": 0.060259,
     "end_time": "2021-04-29T16:03:27.747529",
     "exception": false,
     "start_time": "2021-04-29T16:03:27.687270",
     "status": "completed"
    },
    "tags": []
   },
   "outputs": [],
   "source": [
    "y_pred = dt.predict(test_x)"
   ]
  },
  {
   "cell_type": "code",
   "execution_count": 43,
   "id": "solid-carpet",
   "metadata": {
    "execution": {
     "iopub.execute_input": "2021-04-29T16:03:27.850802Z",
     "iopub.status.busy": "2021-04-29T16:03:27.850189Z",
     "iopub.status.idle": "2021-04-29T16:03:27.862400Z",
     "shell.execute_reply": "2021-04-29T16:03:27.861806Z"
    },
    "papermill": {
     "duration": 0.064908,
     "end_time": "2021-04-29T16:03:27.862561",
     "exception": false,
     "start_time": "2021-04-29T16:03:27.797653",
     "status": "completed"
    },
    "tags": []
   },
   "outputs": [
    {
     "data": {
      "text/html": [
       "<div>\n",
       "<style scoped>\n",
       "    .dataframe tbody tr th:only-of-type {\n",
       "        vertical-align: middle;\n",
       "    }\n",
       "\n",
       "    .dataframe tbody tr th {\n",
       "        vertical-align: top;\n",
       "    }\n",
       "\n",
       "    .dataframe thead th {\n",
       "        text-align: right;\n",
       "    }\n",
       "</style>\n",
       "<table border=\"1\" class=\"dataframe\">\n",
       "  <thead>\n",
       "    <tr style=\"text-align: right;\">\n",
       "      <th></th>\n",
       "      <th>Actual</th>\n",
       "      <th>Predict</th>\n",
       "    </tr>\n",
       "  </thead>\n",
       "  <tbody>\n",
       "    <tr>\n",
       "      <th>436</th>\n",
       "      <td>0</td>\n",
       "      <td>0</td>\n",
       "    </tr>\n",
       "    <tr>\n",
       "      <th>309</th>\n",
       "      <td>1</td>\n",
       "      <td>1</td>\n",
       "    </tr>\n",
       "    <tr>\n",
       "      <th>317</th>\n",
       "      <td>0</td>\n",
       "      <td>0</td>\n",
       "    </tr>\n",
       "    <tr>\n",
       "      <th>641</th>\n",
       "      <td>1</td>\n",
       "      <td>1</td>\n",
       "    </tr>\n",
       "    <tr>\n",
       "      <th>630</th>\n",
       "      <td>1</td>\n",
       "      <td>0</td>\n",
       "    </tr>\n",
       "    <tr>\n",
       "      <th>...</th>\n",
       "      <td>...</td>\n",
       "      <td>...</td>\n",
       "    </tr>\n",
       "    <tr>\n",
       "      <th>225</th>\n",
       "      <td>0</td>\n",
       "      <td>0</td>\n",
       "    </tr>\n",
       "    <tr>\n",
       "      <th>756</th>\n",
       "      <td>0</td>\n",
       "      <td>0</td>\n",
       "    </tr>\n",
       "    <tr>\n",
       "      <th>416</th>\n",
       "      <td>1</td>\n",
       "      <td>1</td>\n",
       "    </tr>\n",
       "    <tr>\n",
       "      <th>789</th>\n",
       "      <td>0</td>\n",
       "      <td>0</td>\n",
       "    </tr>\n",
       "    <tr>\n",
       "      <th>377</th>\n",
       "      <td>0</td>\n",
       "      <td>1</td>\n",
       "    </tr>\n",
       "  </tbody>\n",
       "</table>\n",
       "<p>214 rows × 2 columns</p>\n",
       "</div>"
      ],
      "text/plain": [
       "     Actual  Predict\n",
       "436       0        0\n",
       "309       1        1\n",
       "317       0        0\n",
       "641       1        1\n",
       "630       1        0\n",
       "..      ...      ...\n",
       "225       0        0\n",
       "756       0        0\n",
       "416       1        1\n",
       "789       0        0\n",
       "377       0        1\n",
       "\n",
       "[214 rows x 2 columns]"
      ]
     },
     "execution_count": 43,
     "metadata": {},
     "output_type": "execute_result"
    }
   ],
   "source": [
    "Result = pd.DataFrame({'Actual' : test_y, 'Predict' : y_pred})\n",
    "Result"
   ]
  },
  {
   "cell_type": "code",
   "execution_count": 44,
   "id": "classified-planet",
   "metadata": {
    "execution": {
     "iopub.execute_input": "2021-04-29T16:03:27.972712Z",
     "iopub.status.busy": "2021-04-29T16:03:27.972104Z",
     "iopub.status.idle": "2021-04-29T16:03:27.977843Z",
     "shell.execute_reply": "2021-04-29T16:03:27.977311Z"
    },
    "papermill": {
     "duration": 0.061869,
     "end_time": "2021-04-29T16:03:27.978007",
     "exception": false,
     "start_time": "2021-04-29T16:03:27.916138",
     "status": "completed"
    },
    "tags": []
   },
   "outputs": [],
   "source": [
    "from sklearn.metrics import accuracy_score, confusion_matrix, plot_confusion_matrix"
   ]
  },
  {
   "cell_type": "code",
   "execution_count": 45,
   "id": "initial-girlfriend",
   "metadata": {
    "execution": {
     "iopub.execute_input": "2021-04-29T16:03:28.097523Z",
     "iopub.status.busy": "2021-04-29T16:03:28.096084Z",
     "iopub.status.idle": "2021-04-29T16:03:28.103042Z",
     "shell.execute_reply": "2021-04-29T16:03:28.102401Z"
    },
    "papermill": {
     "duration": 0.069134,
     "end_time": "2021-04-29T16:03:28.103190",
     "exception": false,
     "start_time": "2021-04-29T16:03:28.034056",
     "status": "completed"
    },
    "tags": []
   },
   "outputs": [
    {
     "data": {
      "text/plain": [
       "0.7429906542056075"
      ]
     },
     "execution_count": 45,
     "metadata": {},
     "output_type": "execute_result"
    }
   ],
   "source": [
    "accuracy_score(test_y,y_pred)"
   ]
  },
  {
   "cell_type": "code",
   "execution_count": 46,
   "id": "administrative-behalf",
   "metadata": {
    "execution": {
     "iopub.execute_input": "2021-04-29T16:03:28.222544Z",
     "iopub.status.busy": "2021-04-29T16:03:28.218771Z",
     "iopub.status.idle": "2021-04-29T16:03:28.228160Z",
     "shell.execute_reply": "2021-04-29T16:03:28.227538Z"
    },
    "papermill": {
     "duration": 0.069465,
     "end_time": "2021-04-29T16:03:28.228303",
     "exception": false,
     "start_time": "2021-04-29T16:03:28.158838",
     "status": "completed"
    },
    "tags": []
   },
   "outputs": [
    {
     "data": {
      "text/plain": [
       "array([[95, 28],\n",
       "       [27, 64]])"
      ]
     },
     "execution_count": 46,
     "metadata": {},
     "output_type": "execute_result"
    }
   ],
   "source": [
    "confusion_matrix(test_y,y_pred)"
   ]
  },
  {
   "cell_type": "code",
   "execution_count": 47,
   "id": "eastern-intensity",
   "metadata": {
    "execution": {
     "iopub.execute_input": "2021-04-29T16:03:28.340305Z",
     "iopub.status.busy": "2021-04-29T16:03:28.339348Z",
     "iopub.status.idle": "2021-04-29T16:03:28.510299Z",
     "shell.execute_reply": "2021-04-29T16:03:28.509659Z"
    },
    "papermill": {
     "duration": 0.229357,
     "end_time": "2021-04-29T16:03:28.510442",
     "exception": false,
     "start_time": "2021-04-29T16:03:28.281085",
     "status": "completed"
    },
    "tags": []
   },
   "outputs": [
    {
     "data": {
      "text/plain": [
       "<sklearn.metrics._plot.confusion_matrix.ConfusionMatrixDisplay at 0x7fbb25ecf490>"
      ]
     },
     "execution_count": 47,
     "metadata": {},
     "output_type": "execute_result"
    },
    {
     "data": {
      "image/png": "[encoded data removed]",
      "text/plain": [
       "<Figure size 432x288 with 2 Axes>"
      ]
     },
     "metadata": {
      "needs_background": "light"
     },
     "output_type": "display_data"
    }
   ],
   "source": [
    "plot_confusion_matrix(dt,test_x,test_y)"
   ]
  },
  {
   "cell_type": "markdown",
   "id": "induced-track",
   "metadata": {
    "papermill": {
     "duration": 0.057777,
     "end_time": "2021-04-29T16:03:28.624218",
     "exception": false,
     "start_time": "2021-04-29T16:03:28.566441",
     "status": "completed"
    },
    "tags": []
   },
   "source": [
    "We will plot decision tree"
   ]
  },
  {
   "cell_type": "code",
   "execution_count": 48,
   "id": "interesting-pastor",
   "metadata": {
    "execution": {
     "iopub.execute_input": "2021-04-29T16:03:28.761137Z",
     "iopub.status.busy": "2021-04-29T16:03:28.757018Z",
     "iopub.status.idle": "2021-04-29T16:03:42.389355Z",
     "shell.execute_reply": "2021-04-29T16:03:42.389800Z"
    },
    "papermill": {
     "duration": 13.707622,
     "end_time": "2021-04-29T16:03:42.389964",
     "exception": false,
     "start_time": "2021-04-29T16:03:28.682342",
     "status": "completed"
    },
    "tags": []
   },
   "outputs": [
    {
     "data": {
      "text/plain": [
       "[Text(444.61221590909093, 789.9187499999999, 'male <= 0.5\\ngini = 0.478\\nsamples = 498\\nvalue = [301, 197]\\nclass = 0'),\n",
       " Text(211.36363636363637, 738.95625, '3 <= 0.5\\ngini = 0.399\\nsamples = 182\\nvalue = [50, 132]\\nclass = 1'),\n",
       " Text(84.54545454545455, 687.99375, 'Age <= 2.5\\ngini = 0.137\\nsamples = 108\\nvalue = [8, 100]\\nclass = 1'),\n",
       " Text(56.36363636363637, 637.03125, 'Parch <= 1.5\\ngini = 0.5\\nsamples = 2\\nvalue = [1, 1]\\nclass = 0'),\n",
       " Text(45.09090909090909, 586.06875, 'gini = 0.0\\nsamples = 1\\nvalue = [0, 1]\\nclass = 1'),\n",
       " Text(67.63636363636364, 586.06875, 'gini = 0.0\\nsamples = 1\\nvalue = [1, 0]\\nclass = 0'),\n",
       " Text(112.72727272727273, 637.03125, 'Fare <= 28.856\\ngini = 0.123\\nsamples = 106\\nvalue = [7, 99]\\nclass = 1'),\n",
       " Text(90.18181818181819, 586.06875, 'Fare <= 28.231\\ngini = 0.219\\nsamples = 48\\nvalue = [6, 42]\\nclass = 1'),\n",
       " Text(78.9090909090909, 535.10625, 'Age <= 56.0\\ngini = 0.19\\nsamples = 47\\nvalue = [5, 42]\\nclass = 1'),\n",
       " Text(67.63636363636364, 484.14375, 'Age <= 37.0\\ngini = 0.159\\nsamples = 46\\nvalue = [4, 42]\\nclass = 1'),\n",
       " Text(45.09090909090909, 433.18125, 'Age <= 26.5\\ngini = 0.108\\nsamples = 35\\nvalue = [2, 33]\\nclass = 1'),\n",
       " Text(33.81818181818182, 382.21875, 'Age <= 25.0\\ngini = 0.208\\nsamples = 17\\nvalue = [2, 15]\\nclass = 1'),\n",
       " Text(22.545454545454547, 331.25624999999997, 'Age <= 23.5\\ngini = 0.117\\nsamples = 16\\nvalue = [1, 15]\\nclass = 1'),\n",
       " Text(11.272727272727273, 280.29375000000005, 'gini = 0.0\\nsamples = 11\\nvalue = [0, 11]\\nclass = 1'),\n",
       " Text(33.81818181818182, 280.29375000000005, 'Fare <= 13.75\\ngini = 0.32\\nsamples = 5\\nvalue = [1, 4]\\nclass = 1'),\n",
       " Text(22.545454545454547, 229.33124999999995, 'gini = 0.5\\nsamples = 2\\nvalue = [1, 1]\\nclass = 0'),\n",
       " Text(45.09090909090909, 229.33124999999995, 'gini = 0.0\\nsamples = 3\\nvalue = [0, 3]\\nclass = 1'),\n",
       " Text(45.09090909090909, 331.25624999999997, 'gini = 0.0\\nsamples = 1\\nvalue = [1, 0]\\nclass = 0'),\n",
       " Text(56.36363636363637, 382.21875, 'gini = 0.0\\nsamples = 18\\nvalue = [0, 18]\\nclass = 1'),\n",
       " Text(90.18181818181819, 433.18125, 'Age <= 39.0\\ngini = 0.298\\nsamples = 11\\nvalue = [2, 9]\\nclass = 1'),\n",
       " Text(78.9090909090909, 382.21875, 'gini = 0.0\\nsamples = 1\\nvalue = [1, 0]\\nclass = 0'),\n",
       " Text(101.45454545454547, 382.21875, 'SibSp <= 0.5\\ngini = 0.18\\nsamples = 10\\nvalue = [1, 9]\\nclass = 1'),\n",
       " Text(90.18181818181819, 331.25624999999997, 'gini = 0.0\\nsamples = 8\\nvalue = [0, 8]\\nclass = 1'),\n",
       " Text(112.72727272727273, 331.25624999999997, 'Age <= 44.5\\ngini = 0.5\\nsamples = 2\\nvalue = [1, 1]\\nclass = 0'),\n",
       " Text(101.45454545454547, 280.29375000000005, 'gini = 0.0\\nsamples = 1\\nvalue = [1, 0]\\nclass = 0'),\n",
       " Text(124.0, 280.29375000000005, 'gini = 0.0\\nsamples = 1\\nvalue = [0, 1]\\nclass = 1'),\n",
       " Text(90.18181818181819, 484.14375, 'gini = 0.0\\nsamples = 1\\nvalue = [1, 0]\\nclass = 0'),\n",
       " Text(101.45454545454547, 535.10625, 'gini = 0.0\\nsamples = 1\\nvalue = [1, 0]\\nclass = 0'),\n",
       " Text(135.27272727272728, 586.06875, 'Parch <= 1.5\\ngini = 0.034\\nsamples = 58\\nvalue = [1, 57]\\nclass = 1'),\n",
       " Text(124.0, 535.10625, 'gini = 0.0\\nsamples = 47\\nvalue = [0, 47]\\nclass = 1'),\n",
       " Text(146.54545454545456, 535.10625, 'Fare <= 135.775\\ngini = 0.165\\nsamples = 11\\nvalue = [1, 10]\\nclass = 1'),\n",
       " Text(135.27272727272728, 484.14375, 'gini = 0.0\\nsamples = 8\\nvalue = [0, 8]\\nclass = 1'),\n",
       " Text(157.8181818181818, 484.14375, 'Fare <= 158.208\\ngini = 0.444\\nsamples = 3\\nvalue = [1, 2]\\nclass = 1'),\n",
       " Text(146.54545454545456, 433.18125, 'gini = 0.0\\nsamples = 1\\nvalue = [1, 0]\\nclass = 0'),\n",
       " Text(169.0909090909091, 433.18125, 'gini = 0.0\\nsamples = 2\\nvalue = [0, 2]\\nclass = 1'),\n",
       " Text(338.1818181818182, 687.99375, 'Fare <= 20.663\\ngini = 0.491\\nsamples = 74\\nvalue = [42, 32]\\nclass = 0'),\n",
       " Text(281.8181818181818, 637.03125, 'Age <= 16.5\\ngini = 0.499\\nsamples = 59\\nvalue = [28, 31]\\nclass = 1'),\n",
       " Text(225.45454545454547, 586.06875, 'Age <= 14.75\\ngini = 0.36\\nsamples = 17\\nvalue = [4, 13]\\nclass = 1'),\n",
       " Text(214.1818181818182, 535.10625, 'Age <= 13.5\\ngini = 0.444\\nsamples = 12\\nvalue = [4, 8]\\nclass = 1'),\n",
       " Text(202.90909090909093, 484.14375, 'Fare <= 15.494\\ngini = 0.32\\nsamples = 10\\nvalue = [2, 8]\\nclass = 1'),\n",
       " Text(191.63636363636365, 433.18125, 'SibSp <= 0.5\\ngini = 0.444\\nsamples = 6\\nvalue = [2, 4]\\nclass = 1'),\n",
       " Text(180.36363636363637, 382.21875, 'Fare <= 11.375\\ngini = 0.32\\nsamples = 5\\nvalue = [1, 4]\\nclass = 1'),\n",
       " Text(169.0909090909091, 331.25624999999997, 'Age <= 7.5\\ngini = 0.5\\nsamples = 2\\nvalue = [1, 1]\\nclass = 0'),\n",
       " Text(157.8181818181818, 280.29375000000005, 'gini = 0.0\\nsamples = 1\\nvalue = [1, 0]\\nclass = 0'),\n",
       " Text(180.36363636363637, 280.29375000000005, 'gini = 0.0\\nsamples = 1\\nvalue = [0, 1]\\nclass = 1'),\n",
       " Text(191.63636363636365, 331.25624999999997, 'gini = 0.0\\nsamples = 3\\nvalue = [0, 3]\\nclass = 1'),\n",
       " Text(202.90909090909093, 382.21875, 'gini = 0.0\\nsamples = 1\\nvalue = [1, 0]\\nclass = 0'),\n",
       " Text(214.1818181818182, 433.18125, 'gini = 0.0\\nsamples = 4\\nvalue = [0, 4]\\nclass = 1'),\n",
       " Text(225.45454545454547, 484.14375, 'gini = 0.0\\nsamples = 2\\nvalue = [2, 0]\\nclass = 0'),\n",
       " Text(236.72727272727275, 535.10625, 'gini = 0.0\\nsamples = 5\\nvalue = [0, 5]\\nclass = 1'),\n",
       " Text(338.1818181818182, 586.06875, 'Parch <= 1.5\\ngini = 0.49\\nsamples = 42\\nvalue = [24, 18]\\nclass = 0'),\n",
       " Text(326.90909090909093, 535.10625, 'SibSp <= 0.5\\ngini = 0.473\\nsamples = 39\\nvalue = [24, 15]\\nclass = 0'),\n",
       " Text(281.8181818181818, 484.14375, 'Age <= 27.5\\ngini = 0.499\\nsamples = 25\\nvalue = [13, 12]\\nclass = 0'),\n",
       " Text(259.2727272727273, 433.18125, 'Age <= 25.5\\ngini = 0.494\\nsamples = 18\\nvalue = [8, 10]\\nclass = 1'),\n",
       " Text(248.0, 382.21875, 'Fare <= 7.902\\ngini = 0.498\\nsamples = 15\\nvalue = [8, 7]\\nclass = 0'),\n",
       " Text(214.1818181818182, 331.25624999999997, 'Fare <= 7.0\\ngini = 0.444\\nsamples = 9\\nvalue = [3, 6]\\nclass = 1'),\n",
       " Text(202.90909090909093, 280.29375000000005, 'gini = 0.0\\nsamples = 1\\nvalue = [1, 0]\\nclass = 0'),\n",
       " Text(225.45454545454547, 280.29375000000005, 'Age <= 24.0\\ngini = 0.375\\nsamples = 8\\nvalue = [2, 6]\\nclass = 1'),\n",
       " Text(214.1818181818182, 229.33124999999995, 'Age <= 21.5\\ngini = 0.245\\nsamples = 7\\nvalue = [1, 6]\\nclass = 1'),\n",
       " Text(202.90909090909093, 178.36874999999998, 'S <= 0.5\\ngini = 0.444\\nsamples = 3\\nvalue = [1, 2]\\nclass = 1'),\n",
       " Text(191.63636363636365, 127.40625, 'Age <= 20.0\\ngini = 0.5\\nsamples = 2\\nvalue = [1, 1]\\nclass = 0'),\n",
       " Text(180.36363636363637, 76.44375000000002, 'gini = 0.0\\nsamples = 1\\nvalue = [0, 1]\\nclass = 1'),\n",
       " Text(202.90909090909093, 76.44375000000002, 'gini = 0.0\\nsamples = 1\\nvalue = [1, 0]\\nclass = 0'),\n",
       " Text(214.1818181818182, 127.40625, 'gini = 0.0\\nsamples = 1\\nvalue = [0, 1]\\nclass = 1'),\n",
       " Text(225.45454545454547, 178.36874999999998, 'gini = 0.0\\nsamples = 4\\nvalue = [0, 4]\\nclass = 1'),\n",
       " Text(236.72727272727275, 229.33124999999995, 'gini = 0.0\\nsamples = 1\\nvalue = [1, 0]\\nclass = 0'),\n",
       " Text(281.8181818181818, 331.25624999999997, 'Age <= 19.0\\ngini = 0.278\\nsamples = 6\\nvalue = [5, 1]\\nclass = 0'),\n",
       " Text(270.54545454545456, 280.29375000000005, 'Age <= 17.5\\ngini = 0.5\\nsamples = 2\\nvalue = [1, 1]\\nclass = 0'),\n",
       " Text(259.2727272727273, 229.33124999999995, 'gini = 0.0\\nsamples = 1\\nvalue = [1, 0]\\nclass = 0'),\n",
       " Text(281.8181818181818, 229.33124999999995, 'gini = 0.0\\nsamples = 1\\nvalue = [0, 1]\\nclass = 1'),\n",
       " Text(293.0909090909091, 280.29375000000005, 'gini = 0.0\\nsamples = 4\\nvalue = [4, 0]\\nclass = 0'),\n",
       " Text(270.54545454545456, 382.21875, 'gini = 0.0\\nsamples = 3\\nvalue = [0, 3]\\nclass = 1'),\n",
       " Text(304.3636363636364, 433.18125, 'Fare <= 9.125\\ngini = 0.408\\nsamples = 7\\nvalue = [5, 2]\\nclass = 0'),\n",
       " Text(293.0909090909091, 382.21875, 'gini = 0.0\\nsamples = 5\\nvalue = [5, 0]\\nclass = 0'),\n",
       " Text(315.6363636363636, 382.21875, 'gini = 0.0\\nsamples = 2\\nvalue = [0, 2]\\nclass = 1'),\n",
       " Text(372.0, 484.14375, 'Age <= 33.5\\ngini = 0.337\\nsamples = 14\\nvalue = [11, 3]\\nclass = 0'),\n",
       " Text(349.4545454545455, 433.18125, 'Fare <= 15.675\\ngini = 0.165\\nsamples = 11\\nvalue = [10, 1]\\nclass = 0'),\n",
       " Text(338.1818181818182, 382.21875, 'gini = 0.0\\nsamples = 6\\nvalue = [6, 0]\\nclass = 0'),\n",
       " Text(360.72727272727275, 382.21875, 'Fare <= 15.975\\ngini = 0.32\\nsamples = 5\\nvalue = [4, 1]\\nclass = 0'),\n",
       " Text(349.4545454545455, 331.25624999999997, 'gini = 0.0\\nsamples = 1\\nvalue = [0, 1]\\nclass = 1'),\n",
       " Text(372.0, 331.25624999999997, 'gini = 0.0\\nsamples = 4\\nvalue = [4, 0]\\nclass = 0'),\n",
       " Text(394.54545454545456, 433.18125, 'Age <= 38.0\\ngini = 0.444\\nsamples = 3\\nvalue = [1, 2]\\nclass = 1'),\n",
       " Text(383.2727272727273, 382.21875, 'gini = 0.0\\nsamples = 2\\nvalue = [0, 2]\\nclass = 1'),\n",
       " Text(405.81818181818187, 382.21875, 'gini = 0.0\\nsamples = 1\\nvalue = [1, 0]\\nclass = 0'),\n",
       " Text(349.4545454545455, 535.10625, 'gini = 0.0\\nsamples = 3\\nvalue = [0, 3]\\nclass = 1'),\n",
       " Text(394.54545454545456, 637.03125, 'Age <= 6.5\\ngini = 0.124\\nsamples = 15\\nvalue = [14, 1]\\nclass = 0'),\n",
       " Text(383.2727272727273, 586.06875, 'Fare <= 31.331\\ngini = 0.444\\nsamples = 3\\nvalue = [2, 1]\\nclass = 0'),\n",
       " Text(372.0, 535.10625, 'gini = 0.0\\nsamples = 2\\nvalue = [2, 0]\\nclass = 0'),\n",
       " Text(394.54545454545456, 535.10625, 'gini = 0.0\\nsamples = 1\\nvalue = [0, 1]\\nclass = 1'),\n",
       " Text(405.81818181818187, 586.06875, 'gini = 0.0\\nsamples = 12\\nvalue = [12, 0]\\nclass = 0'),\n",
       " Text(677.8607954545455, 738.95625, 'Age <= 3.5\\ngini = 0.327\\nsamples = 316\\nvalue = [251, 65]\\nclass = 0'),\n",
       " Text(549.1931818181819, 687.99375, 'SibSp <= 4.5\\ngini = 0.165\\nsamples = 11\\nvalue = [1, 10]\\nclass = 1'),\n",
       " Text(537.9204545454546, 637.03125, 'gini = 0.0\\nsamples = 10\\nvalue = [0, 10]\\nclass = 1'),\n",
       " Text(560.4659090909091, 637.03125, 'gini = 0.0\\nsamples = 1\\nvalue = [1, 0]\\nclass = 0'),\n",
       " Text(806.5284090909091, 687.99375, 'Fare <= 26.269\\ngini = 0.296\\nsamples = 305\\nvalue = [250, 55]\\nclass = 0'),\n",
       " Text(583.0113636363636, 637.03125, 'Age <= 13.5\\ngini = 0.216\\nsamples = 227\\nvalue = [199, 28]\\nclass = 0'),\n",
       " Text(484.72727272727275, 586.06875, 'Parch <= 0.5\\ngini = 0.32\\nsamples = 5\\nvalue = [1, 4]\\nclass = 1'),\n",
       " Text(473.4545454545455, 535.10625, 'Fare <= 15.015\\ngini = 0.5\\nsamples = 2\\nvalue = [1, 1]\\nclass = 0'),\n",
       " Text(462.1818181818182, 484.14375, 'gini = 0.0\\nsamples = 1\\nvalue = [0, 1]\\nclass = 1'),\n",
       " Text(484.72727272727275, 484.14375, 'gini = 0.0\\nsamples = 1\\nvalue = [1, 0]\\nclass = 0'),\n",
       " Text(496.0, 535.10625, 'gini = 0.0\\nsamples = 3\\nvalue = [0, 3]\\nclass = 1'),\n",
       " Text(681.2954545454546, 586.06875, 'Age <= 32.5\\ngini = 0.193\\nsamples = 222\\nvalue = [198, 24]\\nclass = 0'),\n",
       " Text(573.5, 535.10625, 'Age <= 26.5\\ngini = 0.241\\nsamples = 143\\nvalue = [123, 20]\\nclass = 0'),\n",
       " Text(507.2727272727273, 484.14375, 'Age <= 20.25\\ngini = 0.16\\nsamples = 91\\nvalue = [83, 8]\\nclass = 0'),\n",
       " Text(462.1818181818182, 433.18125, 'S <= 0.5\\ngini = 0.301\\nsamples = 38\\nvalue = [31, 7]\\nclass = 0'),\n",
       " Text(428.3636363636364, 382.21875, 'Age <= 17.5\\ngini = 0.444\\nsamples = 3\\nvalue = [1, 2]\\nclass = 1'),\n",
       " Text(417.0909090909091, 331.25624999999997, 'gini = 0.0\\nsamples = 1\\nvalue = [1, 0]\\nclass = 0'),\n",
       " Text(439.6363636363637, 331.25624999999997, 'gini = 0.0\\nsamples = 2\\nvalue = [0, 2]\\nclass = 1'),\n",
       " Text(496.0, 382.21875, 'Fare <= 8.356\\ngini = 0.245\\nsamples = 35\\nvalue = [30, 5]\\nclass = 0'),\n",
       " Text(462.1818181818182, 331.25624999999997, 'Fare <= 7.91\\ngini = 0.36\\nsamples = 17\\nvalue = [13, 4]\\nclass = 0'),\n",
       " Text(450.90909090909093, 280.29375000000005, 'gini = 0.0\\nsamples = 9\\nvalue = [9, 0]\\nclass = 0'),\n",
       " Text(473.4545454545455, 280.29375000000005, 'SibSp <= 0.5\\ngini = 0.5\\nsamples = 8\\nvalue = [4, 4]\\nclass = 0'),\n",
       " Text(462.1818181818182, 229.33124999999995, 'Age <= 19.5\\ngini = 0.49\\nsamples = 7\\nvalue = [4, 3]\\nclass = 0'),\n",
       " Text(450.90909090909093, 178.36874999999998, 'Age <= 17.0\\ngini = 0.48\\nsamples = 5\\nvalue = [2, 3]\\nclass = 1'),\n",
       " Text(439.6363636363637, 127.40625, 'gini = 0.5\\nsamples = 2\\nvalue = [1, 1]\\nclass = 0'),\n",
       " Text(462.1818181818182, 127.40625, 'Age <= 18.5\\ngini = 0.444\\nsamples = 3\\nvalue = [1, 2]\\nclass = 1'),\n",
       " Text(450.90909090909093, 76.44375000000002, 'gini = 0.0\\nsamples = 1\\nvalue = [0, 1]\\nclass = 1'),\n",
       " Text(473.4545454545455, 76.44375000000002, 'gini = 0.5\\nsamples = 2\\nvalue = [1, 1]\\nclass = 0'),\n",
       " Text(473.4545454545455, 178.36874999999998, 'gini = 0.0\\nsamples = 2\\nvalue = [2, 0]\\nclass = 0'),\n",
       " Text(484.72727272727275, 229.33124999999995, 'gini = 0.0\\nsamples = 1\\nvalue = [0, 1]\\nclass = 1'),\n",
       " Text(529.8181818181819, 331.25624999999997, '3 <= 0.5\\ngini = 0.105\\nsamples = 18\\nvalue = [17, 1]\\nclass = 0'),\n",
       " Text(518.5454545454546, 280.29375000000005, 'Age <= 18.5\\ngini = 0.278\\nsamples = 6\\nvalue = [5, 1]\\nclass = 0'),\n",
       " Text(507.2727272727273, 229.33124999999995, 'gini = 0.0\\nsamples = 4\\nvalue = [4, 0]\\nclass = 0'),\n",
       " Text(529.8181818181819, 229.33124999999995, 'Fare <= 11.75\\ngini = 0.5\\nsamples = 2\\nvalue = [1, 1]\\nclass = 0'),\n",
       " Text(518.5454545454546, 178.36874999999998, 'gini = 0.0\\nsamples = 1\\nvalue = [0, 1]\\nclass = 1'),\n",
       " Text(541.0909090909091, 178.36874999999998, 'gini = 0.0\\nsamples = 1\\nvalue = [1, 0]\\nclass = 0'),\n",
       " Text(541.0909090909091, 280.29375000000005, 'gini = 0.0\\nsamples = 12\\nvalue = [12, 0]\\nclass = 0'),\n",
       " Text(552.3636363636364, 433.18125, 'Fare <= 18.294\\ngini = 0.037\\nsamples = 53\\nvalue = [52, 1]\\nclass = 0'),\n",
       " Text(541.0909090909091, 382.21875, 'gini = 0.0\\nsamples = 49\\nvalue = [49, 0]\\nclass = 0'),\n",
       " Text(563.6363636363636, 382.21875, 'S <= 0.5\\ngini = 0.375\\nsamples = 4\\nvalue = [3, 1]\\nclass = 0'),\n",
       " Text(552.3636363636364, 331.25624999999997, 'gini = 0.0\\nsamples = 1\\nvalue = [0, 1]\\nclass = 1'),\n",
       " Text(574.909090909091, 331.25624999999997, 'gini = 0.0\\nsamples = 3\\nvalue = [3, 0]\\nclass = 0'),\n",
       " Text(639.7272727272727, 484.14375, 'Age <= 27.5\\ngini = 0.355\\nsamples = 52\\nvalue = [40, 12]\\nclass = 0'),\n",
       " Text(597.4545454545455, 433.18125, 'Fare <= 7.846\\ngini = 0.48\\nsamples = 5\\nvalue = [2, 3]\\nclass = 1'),\n",
       " Text(586.1818181818182, 382.21875, 'gini = 0.0\\nsamples = 2\\nvalue = [0, 2]\\nclass = 1'),\n",
       " Text(608.7272727272727, 382.21875, 'S <= 0.5\\ngini = 0.444\\nsamples = 3\\nvalue = [2, 1]\\nclass = 0'),\n",
       " Text(597.4545454545455, 331.25624999999997, 'gini = 0.0\\nsamples = 1\\nvalue = [1, 0]\\nclass = 0'),\n",
       " Text(620.0, 331.25624999999997, 'Fare <= 8.279\\ngini = 0.5\\nsamples = 2\\nvalue = [1, 1]\\nclass = 0'),\n",
       " Text(608.7272727272727, 280.29375000000005, 'gini = 0.0\\nsamples = 1\\nvalue = [1, 0]\\nclass = 0'),\n",
       " Text(631.2727272727273, 280.29375000000005, 'gini = 0.0\\nsamples = 1\\nvalue = [0, 1]\\nclass = 1'),\n",
       " Text(682.0, 433.18125, 'Age <= 28.75\\ngini = 0.31\\nsamples = 47\\nvalue = [38, 9]\\nclass = 0'),\n",
       " Text(670.7272727272727, 382.21875, 'gini = 0.0\\nsamples = 10\\nvalue = [10, 0]\\nclass = 0'),\n",
       " Text(693.2727272727274, 382.21875, 'Age <= 30.75\\ngini = 0.368\\nsamples = 37\\nvalue = [28, 9]\\nclass = 0'),\n",
       " Text(665.0909090909091, 331.25624999999997, 'Q <= 0.5\\ngini = 0.298\\nsamples = 22\\nvalue = [18, 4]\\nclass = 0'),\n",
       " Text(653.8181818181819, 280.29375000000005, 'Fare <= 10.0\\ngini = 0.245\\nsamples = 21\\nvalue = [18, 3]\\nclass = 0'),\n",
       " Text(642.5454545454546, 229.33124999999995, 'Fare <= 9.492\\ngini = 0.355\\nsamples = 13\\nvalue = [10, 3]\\nclass = 0'),\n",
       " Text(631.2727272727273, 178.36874999999998, 'S <= 0.5\\ngini = 0.165\\nsamples = 11\\nvalue = [10, 1]\\nclass = 0'),\n",
       " Text(620.0, 127.40625, 'Age <= 29.5\\ngini = 0.5\\nsamples = 2\\nvalue = [1, 1]\\nclass = 0'),\n",
       " Text(608.7272727272727, 76.44375000000002, 'gini = 0.0\\nsamples = 1\\nvalue = [0, 1]\\nclass = 1'),\n",
       " Text(631.2727272727273, 76.44375000000002, 'gini = 0.0\\nsamples = 1\\nvalue = [1, 0]\\nclass = 0'),\n",
       " Text(642.5454545454546, 127.40625, 'gini = 0.0\\nsamples = 9\\nvalue = [9, 0]\\nclass = 0'),\n",
       " Text(653.8181818181819, 178.36874999999998, 'gini = 0.0\\nsamples = 2\\nvalue = [0, 2]\\nclass = 1'),\n",
       " Text(665.0909090909091, 229.33124999999995, 'gini = 0.0\\nsamples = 8\\nvalue = [8, 0]\\nclass = 0'),\n",
       " Text(676.3636363636364, 280.29375000000005, 'gini = 0.0\\nsamples = 1\\nvalue = [0, 1]\\nclass = 1'),\n",
       " Text(721.4545454545455, 331.25624999999997, 'Fare <= 11.75\\ngini = 0.444\\nsamples = 15\\nvalue = [10, 5]\\nclass = 0'),\n",
       " Text(698.909090909091, 280.29375000000005, 'Fare <= 7.815\\ngini = 0.375\\nsamples = 12\\nvalue = [9, 3]\\nclass = 0'),\n",
       " Text(687.6363636363636, 229.33124999999995, 'gini = 0.0\\nsamples = 3\\nvalue = [3, 0]\\nclass = 0'),\n",
       " Text(710.1818181818182, 229.33124999999995, 'Fare <= 7.875\\ngini = 0.444\\nsamples = 9\\nvalue = [6, 3]\\nclass = 0'),\n",
       " Text(698.909090909091, 178.36874999999998, 'gini = 0.0\\nsamples = 1\\nvalue = [0, 1]\\nclass = 1'),\n",
       " Text(721.4545454545455, 178.36874999999998, 'Fare <= 8.144\\ngini = 0.375\\nsamples = 8\\nvalue = [6, 2]\\nclass = 0'),\n",
       " Text(710.1818181818182, 127.40625, 'Age <= 31.5\\ngini = 0.48\\nsamples = 5\\nvalue = [3, 2]\\nclass = 0'),\n",
       " Text(698.909090909091, 76.44375000000002, 'gini = 0.0\\nsamples = 1\\nvalue = [0, 1]\\nclass = 1'),\n",
       " Text(721.4545454545455, 76.44375000000002, 'Fare <= 7.91\\ngini = 0.375\\nsamples = 4\\nvalue = [3, 1]\\nclass = 0'),\n",
       " Text(710.1818181818182, 25.481250000000045, 'gini = 0.0\\nsamples = 1\\nvalue = [1, 0]\\nclass = 0'),\n",
       " Text(732.7272727272727, 25.481250000000045, 'gini = 0.444\\nsamples = 3\\nvalue = [2, 1]\\nclass = 0'),\n",
       " Text(732.7272727272727, 127.40625, 'gini = 0.0\\nsamples = 3\\nvalue = [3, 0]\\nclass = 0'),\n",
       " Text(744.0, 280.29375000000005, 'Fare <= 26.125\\ngini = 0.444\\nsamples = 3\\nvalue = [1, 2]\\nclass = 1'),\n",
       " Text(732.7272727272727, 229.33124999999995, 'gini = 0.0\\nsamples = 2\\nvalue = [0, 2]\\nclass = 1'),\n",
       " Text(755.2727272727274, 229.33124999999995, 'gini = 0.0\\nsamples = 1\\nvalue = [1, 0]\\nclass = 0'),\n",
       " Text(789.0909090909091, 535.10625, 'Age <= 38.5\\ngini = 0.096\\nsamples = 79\\nvalue = [75, 4]\\nclass = 0'),\n",
       " Text(777.8181818181819, 484.14375, 'gini = 0.0\\nsamples = 31\\nvalue = [31, 0]\\nclass = 0'),\n",
       " Text(800.3636363636364, 484.14375, 'Fare <= 7.91\\ngini = 0.153\\nsamples = 48\\nvalue = [44, 4]\\nclass = 0'),\n",
       " Text(789.0909090909091, 433.18125, 'gini = 0.0\\nsamples = 16\\nvalue = [16, 0]\\nclass = 0'),\n",
       " Text(811.6363636363637, 433.18125, 'Fare <= 7.988\\ngini = 0.219\\nsamples = 32\\nvalue = [28, 4]\\nclass = 0'),\n",
       " Text(800.3636363636364, 382.21875, 'gini = 0.0\\nsamples = 1\\nvalue = [0, 1]\\nclass = 1'),\n",
       " Text(822.909090909091, 382.21875, 'Fare <= 13.25\\ngini = 0.175\\nsamples = 31\\nvalue = [28, 3]\\nclass = 0'),\n",
       " Text(811.6363636363637, 331.25624999999997, 'Age <= 46.0\\ngini = 0.305\\nsamples = 16\\nvalue = [13, 3]\\nclass = 0'),\n",
       " Text(789.0909090909091, 280.29375000000005, 'Age <= 44.0\\ngini = 0.444\\nsamples = 6\\nvalue = [4, 2]\\nclass = 0'),\n",
       " Text(777.8181818181819, 229.33124999999995, '2 <= 0.5\\ngini = 0.32\\nsamples = 5\\nvalue = [4, 1]\\nclass = 0'),\n",
       " Text(766.5454545454546, 178.36874999999998, 'gini = 0.0\\nsamples = 3\\nvalue = [3, 0]\\nclass = 0'),\n",
       " Text(789.0909090909091, 178.36874999999998, 'Age <= 40.5\\ngini = 0.5\\nsamples = 2\\nvalue = [1, 1]\\nclass = 0'),\n",
       " Text(777.8181818181819, 127.40625, 'gini = 0.0\\nsamples = 1\\nvalue = [1, 0]\\nclass = 0'),\n",
       " Text(800.3636363636364, 127.40625, 'gini = 0.0\\nsamples = 1\\nvalue = [0, 1]\\nclass = 1'),\n",
       " Text(800.3636363636364, 229.33124999999995, 'gini = 0.0\\nsamples = 1\\nvalue = [0, 1]\\nclass = 1'),\n",
       " Text(834.1818181818182, 280.29375000000005, 'Age <= 58.75\\ngini = 0.18\\nsamples = 10\\nvalue = [9, 1]\\nclass = 0'),\n",
       " Text(822.909090909091, 229.33124999999995, 'gini = 0.0\\nsamples = 7\\nvalue = [7, 0]\\nclass = 0'),\n",
       " Text(845.4545454545455, 229.33124999999995, 'Age <= 64.0\\ngini = 0.444\\nsamples = 3\\nvalue = [2, 1]\\nclass = 0'),\n",
       " Text(834.1818181818182, 178.36874999999998, 'gini = 0.0\\nsamples = 1\\nvalue = [0, 1]\\nclass = 1'),\n",
       " Text(856.7272727272727, 178.36874999999998, 'gini = 0.0\\nsamples = 2\\nvalue = [2, 0]\\nclass = 0'),\n",
       " Text(834.1818181818182, 331.25624999999997, 'gini = 0.0\\nsamples = 15\\nvalue = [15, 0]\\nclass = 0'),\n",
       " Text(1030.0454545454545, 637.03125, 'Age <= 24.5\\ngini = 0.453\\nsamples = 78\\nvalue = [51, 27]\\nclass = 0'),\n",
       " Text(1018.7727272727274, 586.06875, 'gini = 0.0\\nsamples = 15\\nvalue = [15, 0]\\nclass = 0'),\n",
       " Text(1041.318181818182, 586.06875, 'Age <= 51.5\\ngini = 0.49\\nsamples = 63\\nvalue = [36, 27]\\nclass = 0'),\n",
       " Text(989.1818181818182, 535.10625, '2 <= 0.5\\ngini = 0.499\\nsamples = 48\\nvalue = [23, 25]\\nclass = 1'),\n",
       " Text(977.909090909091, 484.14375, 'Age <= 36.5\\ngini = 0.482\\nsamples = 42\\nvalue = [17, 25]\\nclass = 1'),\n",
       " Text(924.3636363636364, 433.18125, 'SibSp <= 0.5\\ngini = 0.363\\nsamples = 21\\nvalue = [5, 16]\\nclass = 1'),\n",
       " Text(901.8181818181819, 382.21875, 'Age <= 31.0\\ngini = 0.245\\nsamples = 14\\nvalue = [2, 12]\\nclass = 1'),\n",
       " Text(890.5454545454546, 331.25624999999997, 'Age <= 29.0\\ngini = 0.408\\nsamples = 7\\nvalue = [2, 5]\\nclass = 1'),\n",
       " Text(879.2727272727274, 280.29375000000005, 'Age <= 27.5\\ngini = 0.278\\nsamples = 6\\nvalue = [1, 5]\\nclass = 1'),\n",
       " Text(868.0, 229.33124999999995, 'gini = 0.0\\nsamples = 3\\nvalue = [0, 3]\\nclass = 1'),\n",
       " Text(890.5454545454546, 229.33124999999995, 'Fare <= 41.3\\ngini = 0.444\\nsamples = 3\\nvalue = [1, 2]\\nclass = 1'),\n",
       " Text(879.2727272727274, 178.36874999999998, 'gini = 0.0\\nsamples = 2\\nvalue = [0, 2]\\nclass = 1'),\n",
       " Text(901.8181818181819, 178.36874999999998, 'gini = 0.0\\nsamples = 1\\nvalue = [1, 0]\\nclass = 0'),\n",
       " Text(901.8181818181819, 280.29375000000005, 'gini = 0.0\\nsamples = 1\\nvalue = [1, 0]\\nclass = 0'),\n",
       " Text(913.0909090909091, 331.25624999999997, 'gini = 0.0\\nsamples = 7\\nvalue = [0, 7]\\nclass = 1'),\n",
       " Text(946.909090909091, 382.21875, 'Fare <= 84.965\\ngini = 0.49\\nsamples = 7\\nvalue = [3, 4]\\nclass = 1'),\n",
       " Text(935.6363636363637, 331.25624999999997, 'Fare <= 61.8\\ngini = 0.48\\nsamples = 5\\nvalue = [3, 2]\\nclass = 0'),\n",
       " Text(924.3636363636364, 280.29375000000005, 'Fare <= 53.721\\ngini = 0.444\\nsamples = 3\\nvalue = [1, 2]\\nclass = 1'),\n",
       " Text(913.0909090909091, 229.33124999999995, 'gini = 0.0\\nsamples = 1\\nvalue = [1, 0]\\nclass = 0'),\n",
       " Text(935.6363636363637, 229.33124999999995, 'gini = 0.0\\nsamples = 2\\nvalue = [0, 2]\\nclass = 1'),\n",
       " Text(946.909090909091, 280.29375000000005, 'gini = 0.0\\nsamples = 2\\nvalue = [2, 0]\\nclass = 0'),\n",
       " Text(958.1818181818182, 331.25624999999997, 'gini = 0.0\\nsamples = 2\\nvalue = [0, 2]\\nclass = 1'),\n",
       " Text(1031.4545454545455, 433.18125, 'Age <= 47.5\\ngini = 0.49\\nsamples = 21\\nvalue = [12, 9]\\nclass = 0'),\n",
       " Text(1003.2727272727274, 382.21875, 'Fare <= 27.135\\ngini = 0.355\\nsamples = 13\\nvalue = [10, 3]\\nclass = 0'),\n",
       " Text(980.7272727272727, 331.25624999999997, 'Fare <= 26.419\\ngini = 0.444\\nsamples = 3\\nvalue = [1, 2]\\nclass = 1'),\n",
       " Text(969.4545454545455, 280.29375000000005, 'gini = 0.0\\nsamples = 1\\nvalue = [0, 1]\\nclass = 1'),\n",
       " Text(992.0, 280.29375000000005, 'gini = 0.5\\nsamples = 2\\nvalue = [1, 1]\\nclass = 0'),\n",
       " Text(1025.818181818182, 331.25624999999997, 'Age <= 38.5\\ngini = 0.18\\nsamples = 10\\nvalue = [9, 1]\\nclass = 0'),\n",
       " Text(1014.5454545454546, 280.29375000000005, 'Fare <= 71.55\\ngini = 0.5\\nsamples = 2\\nvalue = [1, 1]\\nclass = 0'),\n",
       " Text(1003.2727272727274, 229.33124999999995, 'gini = 0.0\\nsamples = 1\\nvalue = [1, 0]\\nclass = 0'),\n",
       " Text(1025.818181818182, 229.33124999999995, 'gini = 0.0\\nsamples = 1\\nvalue = [0, 1]\\nclass = 1'),\n",
       " Text(1037.0909090909092, 280.29375000000005, 'gini = 0.0\\nsamples = 8\\nvalue = [8, 0]\\nclass = 0'),\n",
       " Text(1059.6363636363637, 382.21875, 'Age <= 49.5\\ngini = 0.375\\nsamples = 8\\nvalue = [2, 6]\\nclass = 1'),\n",
       " Text(1048.3636363636365, 331.25624999999997, 'gini = 0.0\\nsamples = 4\\nvalue = [0, 4]\\nclass = 1'),\n",
       " Text(1070.909090909091, 331.25624999999997, 'SibSp <= 0.5\\ngini = 0.5\\nsamples = 4\\nvalue = [2, 2]\\nclass = 0'),\n",
       " Text(1059.6363636363637, 280.29375000000005, 'gini = 0.0\\nsamples = 1\\nvalue = [0, 1]\\nclass = 1'),\n",
       " Text(1082.1818181818182, 280.29375000000005, 'Fare <= 120.037\\ngini = 0.444\\nsamples = 3\\nvalue = [2, 1]\\nclass = 0'),\n",
       " Text(1070.909090909091, 229.33124999999995, 'gini = 0.0\\nsamples = 2\\nvalue = [2, 0]\\nclass = 0'),\n",
       " Text(1093.4545454545455, 229.33124999999995, 'gini = 0.0\\nsamples = 1\\nvalue = [0, 1]\\nclass = 1'),\n",
       " Text(1000.4545454545455, 484.14375, 'gini = 0.0\\nsamples = 6\\nvalue = [6, 0]\\nclass = 0'),\n",
       " Text(1093.4545454545455, 535.10625, 'S <= 0.5\\ngini = 0.231\\nsamples = 15\\nvalue = [13, 2]\\nclass = 0'),\n",
       " Text(1082.1818181818182, 484.14375, 'Fare <= 35.077\\ngini = 0.48\\nsamples = 5\\nvalue = [3, 2]\\nclass = 0'),\n",
       " Text(1070.909090909091, 433.18125, 'gini = 0.0\\nsamples = 2\\nvalue = [2, 0]\\nclass = 0'),\n",
       " Text(1093.4545454545455, 433.18125, 'Parch <= 1.5\\ngini = 0.444\\nsamples = 3\\nvalue = [1, 2]\\nclass = 1'),\n",
       " Text(1082.1818181818182, 382.21875, 'gini = 0.0\\nsamples = 2\\nvalue = [0, 2]\\nclass = 1'),\n",
       " Text(1104.7272727272727, 382.21875, 'gini = 0.0\\nsamples = 1\\nvalue = [1, 0]\\nclass = 0'),\n",
       " Text(1104.7272727272727, 484.14375, 'gini = 0.0\\nsamples = 10\\nvalue = [10, 0]\\nclass = 0')]"
      ]
     },
     "execution_count": 48,
     "metadata": {},
     "output_type": "execute_result"
    },
    {
     "data": {
      "image/png": "[encoded data removed]",
      "text/plain": [
       "<Figure size 1440x1080 with 1 Axes>"
      ]
     },
     "metadata": {
      "needs_background": "light"
     },
     "output_type": "display_data"
    }
   ],
   "source": [
    "plt.figure(figsize=(20,15))\n",
    "\n",
    "tree.plot_tree(dt, feature_names=train_x.columns,class_names=['0','1'], filled = True, rounded = True, fontsize=12)"
   ]
  },
  {
   "cell_type": "code",
   "execution_count": null,
   "id": "prompt-afternoon",
   "metadata": {
    "papermill": {
     "duration": 0.067087,
     "end_time": "2021-04-29T16:03:42.526750",
     "exception": false,
     "start_time": "2021-04-29T16:03:42.459663",
     "status": "completed"
    },
    "tags": []
   },
   "outputs": [],
   "source": []
  }
 ],
 "metadata": {
  "kernelspec": {
   "display_name": "Python 3",
   "language": "python",
   "name": "python3"
  },
  "language_info": {
   "codemirror_mode": {
    "name": "ipython",
    "version": 3
   },
   "file_extension": ".py",
   "mimetype": "text/x-python",
   "name": "python",
   "nbconvert_exporter": "python",
   "pygments_lexer": "ipython3",
   "version": "3.7.10"
  },
  "papermill": {
   "default_parameters": {},
   "duration": 34.057255,
   "end_time": "2021-04-29T16:03:44.178078",
   "environment_variables": {},
   "exception": null,
   "input_path": "__notebook__.ipynb",
   "output_path": "__notebook__.ipynb",
   "parameters": {},
   "start_time": "2021-04-29T16:03:10.120823",
   "version": "2.3.3"
  }
 },
 "nbformat": 4,
 "nbformat_minor": 5
}
