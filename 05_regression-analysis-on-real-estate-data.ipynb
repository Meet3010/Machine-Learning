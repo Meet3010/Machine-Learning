{
 "cells": [
  {
   "cell_type": "markdown",
   "metadata": {
    "papermill": {
     "duration": 0.026187,
     "end_time": "2021-03-15T17:30:36.281240",
     "exception": false,
     "start_time": "2021-03-15T17:30:36.255053",
     "status": "completed"
    },
    "tags": []
   },
   "source": [
    "# **Here i have performed Exploratory Data Analysis on this dataset before applying Linear Regression model to it. kindly let me know in comments if any suggestions or improvents needed. Always happy to get inputs from fellow learners.**"
   ]
  },
  {
   "cell_type": "markdown",
   "metadata": {
    "papermill": {
     "duration": 0.024711,
     "end_time": "2021-03-15T17:30:36.331038",
     "exception": false,
     "start_time": "2021-03-15T17:30:36.306327",
     "status": "completed"
    },
    "tags": []
   },
   "source": [
    "### Import the Required Library"
   ]
  },
  {
   "cell_type": "code",
   "execution_count": 1,
   "metadata": {
    "execution": {
     "iopub.execute_input": "2021-03-15T17:30:36.386662Z",
     "iopub.status.busy": "2021-03-15T17:30:36.385989Z",
     "iopub.status.idle": "2021-03-15T17:30:37.360480Z",
     "shell.execute_reply": "2021-03-15T17:30:37.359752Z"
    },
    "papermill": {
     "duration": 1.004836,
     "end_time": "2021-03-15T17:30:37.360704",
     "exception": false,
     "start_time": "2021-03-15T17:30:36.355868",
     "status": "completed"
    },
    "tags": []
   },
   "outputs": [],
   "source": [
    "import pandas as pd\n",
    "import numpy as np\n",
    "import matplotlib.pyplot as plt\n",
    "import seaborn as sns"
   ]
  },
  {
   "cell_type": "markdown",
   "metadata": {
    "papermill": {
     "duration": 0.024733,
     "end_time": "2021-03-15T17:30:37.412265",
     "exception": false,
     "start_time": "2021-03-15T17:30:37.387532",
     "status": "completed"
    },
    "tags": []
   },
   "source": [
    "Read the data from csv file"
   ]
  },
  {
   "cell_type": "code",
   "execution_count": 2,
   "metadata": {
    "execution": {
     "iopub.execute_input": "2021-03-15T17:30:37.468953Z",
     "iopub.status.busy": "2021-03-15T17:30:37.468261Z",
     "iopub.status.idle": "2021-03-15T17:30:37.535434Z",
     "shell.execute_reply": "2021-03-15T17:30:37.534303Z"
    },
    "papermill": {
     "duration": 0.097967,
     "end_time": "2021-03-15T17:30:37.535613",
     "exception": false,
     "start_time": "2021-03-15T17:30:37.437646",
     "status": "completed"
    },
    "tags": []
   },
   "outputs": [
    {
     "data": {
      "text/html": [
       "<div>\n",
       "<style scoped>\n",
       "    .dataframe tbody tr th:only-of-type {\n",
       "        vertical-align: middle;\n",
       "    }\n",
       "\n",
       "    .dataframe tbody tr th {\n",
       "        vertical-align: top;\n",
       "    }\n",
       "\n",
       "    .dataframe thead th {\n",
       "        text-align: right;\n",
       "    }\n",
       "</style>\n",
       "<table border=\"1\" class=\"dataframe\">\n",
       "  <thead>\n",
       "    <tr style=\"text-align: right;\">\n",
       "      <th></th>\n",
       "      <th>Observation</th>\n",
       "      <th>Dist_Taxi</th>\n",
       "      <th>Dist_Market</th>\n",
       "      <th>Dist_Hospital</th>\n",
       "      <th>Carpet</th>\n",
       "      <th>Builtup</th>\n",
       "      <th>Parking</th>\n",
       "      <th>City_Category</th>\n",
       "      <th>Rainfall</th>\n",
       "      <th>House_Price</th>\n",
       "    </tr>\n",
       "  </thead>\n",
       "  <tbody>\n",
       "    <tr>\n",
       "      <th>0</th>\n",
       "      <td>1</td>\n",
       "      <td>9796.0</td>\n",
       "      <td>5250.0</td>\n",
       "      <td>10703.0</td>\n",
       "      <td>1659.0</td>\n",
       "      <td>1961.0</td>\n",
       "      <td>Open</td>\n",
       "      <td>CAT B</td>\n",
       "      <td>530</td>\n",
       "      <td>6649000</td>\n",
       "    </tr>\n",
       "    <tr>\n",
       "      <th>1</th>\n",
       "      <td>2</td>\n",
       "      <td>8294.0</td>\n",
       "      <td>8186.0</td>\n",
       "      <td>12694.0</td>\n",
       "      <td>1461.0</td>\n",
       "      <td>1752.0</td>\n",
       "      <td>Not Provided</td>\n",
       "      <td>CAT B</td>\n",
       "      <td>210</td>\n",
       "      <td>3982000</td>\n",
       "    </tr>\n",
       "    <tr>\n",
       "      <th>2</th>\n",
       "      <td>3</td>\n",
       "      <td>11001.0</td>\n",
       "      <td>14399.0</td>\n",
       "      <td>16991.0</td>\n",
       "      <td>1340.0</td>\n",
       "      <td>1609.0</td>\n",
       "      <td>Not Provided</td>\n",
       "      <td>CAT A</td>\n",
       "      <td>720</td>\n",
       "      <td>5401000</td>\n",
       "    </tr>\n",
       "    <tr>\n",
       "      <th>3</th>\n",
       "      <td>4</td>\n",
       "      <td>8301.0</td>\n",
       "      <td>11188.0</td>\n",
       "      <td>12289.0</td>\n",
       "      <td>1451.0</td>\n",
       "      <td>1748.0</td>\n",
       "      <td>Covered</td>\n",
       "      <td>CAT B</td>\n",
       "      <td>620</td>\n",
       "      <td>5373000</td>\n",
       "    </tr>\n",
       "    <tr>\n",
       "      <th>4</th>\n",
       "      <td>5</td>\n",
       "      <td>10510.0</td>\n",
       "      <td>12629.0</td>\n",
       "      <td>13921.0</td>\n",
       "      <td>1770.0</td>\n",
       "      <td>2111.0</td>\n",
       "      <td>Not Provided</td>\n",
       "      <td>CAT B</td>\n",
       "      <td>450</td>\n",
       "      <td>4662000</td>\n",
       "    </tr>\n",
       "    <tr>\n",
       "      <th>...</th>\n",
       "      <td>...</td>\n",
       "      <td>...</td>\n",
       "      <td>...</td>\n",
       "      <td>...</td>\n",
       "      <td>...</td>\n",
       "      <td>...</td>\n",
       "      <td>...</td>\n",
       "      <td>...</td>\n",
       "      <td>...</td>\n",
       "      <td>...</td>\n",
       "    </tr>\n",
       "    <tr>\n",
       "      <th>927</th>\n",
       "      <td>928</td>\n",
       "      <td>12176.0</td>\n",
       "      <td>8518.0</td>\n",
       "      <td>15673.0</td>\n",
       "      <td>1582.0</td>\n",
       "      <td>1910.0</td>\n",
       "      <td>Covered</td>\n",
       "      <td>CAT C</td>\n",
       "      <td>1080</td>\n",
       "      <td>6639000</td>\n",
       "    </tr>\n",
       "    <tr>\n",
       "      <th>928</th>\n",
       "      <td>929</td>\n",
       "      <td>7214.0</td>\n",
       "      <td>8717.0</td>\n",
       "      <td>10553.0</td>\n",
       "      <td>1387.0</td>\n",
       "      <td>1663.0</td>\n",
       "      <td>Open</td>\n",
       "      <td>CAT A</td>\n",
       "      <td>850</td>\n",
       "      <td>8208000</td>\n",
       "    </tr>\n",
       "    <tr>\n",
       "      <th>929</th>\n",
       "      <td>930</td>\n",
       "      <td>7423.0</td>\n",
       "      <td>11708.0</td>\n",
       "      <td>13220.0</td>\n",
       "      <td>1200.0</td>\n",
       "      <td>1436.0</td>\n",
       "      <td>Open</td>\n",
       "      <td>CAT A</td>\n",
       "      <td>1060</td>\n",
       "      <td>7644000</td>\n",
       "    </tr>\n",
       "    <tr>\n",
       "      <th>930</th>\n",
       "      <td>931</td>\n",
       "      <td>15082.0</td>\n",
       "      <td>14700.0</td>\n",
       "      <td>19617.0</td>\n",
       "      <td>1299.0</td>\n",
       "      <td>1560.0</td>\n",
       "      <td>Open</td>\n",
       "      <td>CAT B</td>\n",
       "      <td>770</td>\n",
       "      <td>9661000</td>\n",
       "    </tr>\n",
       "    <tr>\n",
       "      <th>931</th>\n",
       "      <td>932</td>\n",
       "      <td>9297.0</td>\n",
       "      <td>12537.0</td>\n",
       "      <td>14418.0</td>\n",
       "      <td>1174.0</td>\n",
       "      <td>1429.0</td>\n",
       "      <td>Covered</td>\n",
       "      <td>CAT C</td>\n",
       "      <td>1110</td>\n",
       "      <td>5434000</td>\n",
       "    </tr>\n",
       "  </tbody>\n",
       "</table>\n",
       "<p>932 rows × 10 columns</p>\n",
       "</div>"
      ],
      "text/plain": [
       "     Observation  Dist_Taxi  Dist_Market  Dist_Hospital  Carpet  Builtup  \\\n",
       "0              1     9796.0       5250.0        10703.0  1659.0   1961.0   \n",
       "1              2     8294.0       8186.0        12694.0  1461.0   1752.0   \n",
       "2              3    11001.0      14399.0        16991.0  1340.0   1609.0   \n",
       "3              4     8301.0      11188.0        12289.0  1451.0   1748.0   \n",
       "4              5    10510.0      12629.0        13921.0  1770.0   2111.0   \n",
       "..           ...        ...          ...            ...     ...      ...   \n",
       "927          928    12176.0       8518.0        15673.0  1582.0   1910.0   \n",
       "928          929     7214.0       8717.0        10553.0  1387.0   1663.0   \n",
       "929          930     7423.0      11708.0        13220.0  1200.0   1436.0   \n",
       "930          931    15082.0      14700.0        19617.0  1299.0   1560.0   \n",
       "931          932     9297.0      12537.0        14418.0  1174.0   1429.0   \n",
       "\n",
       "          Parking City_Category  Rainfall  House_Price  \n",
       "0            Open         CAT B       530      6649000  \n",
       "1    Not Provided         CAT B       210      3982000  \n",
       "2    Not Provided         CAT A       720      5401000  \n",
       "3         Covered         CAT B       620      5373000  \n",
       "4    Not Provided         CAT B       450      4662000  \n",
       "..            ...           ...       ...          ...  \n",
       "927       Covered         CAT C      1080      6639000  \n",
       "928          Open         CAT A       850      8208000  \n",
       "929          Open         CAT A      1060      7644000  \n",
       "930          Open         CAT B       770      9661000  \n",
       "931       Covered         CAT C      1110      5434000  \n",
       "\n",
       "[932 rows x 10 columns]"
      ]
     },
     "execution_count": 2,
     "metadata": {},
     "output_type": "execute_result"
    }
   ],
   "source": [
    "df = pd.read_csv('../input/fargo-real-estate-data/Regression-Analysis-Data.csv')\n",
    "df"
   ]
  },
  {
   "cell_type": "code",
   "execution_count": 3,
   "metadata": {
    "execution": {
     "iopub.execute_input": "2021-03-15T17:30:37.607523Z",
     "iopub.status.busy": "2021-03-15T17:30:37.606646Z",
     "iopub.status.idle": "2021-03-15T17:30:37.612515Z",
     "shell.execute_reply": "2021-03-15T17:30:37.611831Z"
    },
    "papermill": {
     "duration": 0.050133,
     "end_time": "2021-03-15T17:30:37.612687",
     "exception": false,
     "start_time": "2021-03-15T17:30:37.562554",
     "status": "completed"
    },
    "tags": []
   },
   "outputs": [
    {
     "data": {
      "text/html": [
       "<div>\n",
       "<style scoped>\n",
       "    .dataframe tbody tr th:only-of-type {\n",
       "        vertical-align: middle;\n",
       "    }\n",
       "\n",
       "    .dataframe tbody tr th {\n",
       "        vertical-align: top;\n",
       "    }\n",
       "\n",
       "    .dataframe thead th {\n",
       "        text-align: right;\n",
       "    }\n",
       "</style>\n",
       "<table border=\"1\" class=\"dataframe\">\n",
       "  <thead>\n",
       "    <tr style=\"text-align: right;\">\n",
       "      <th></th>\n",
       "      <th>Observation</th>\n",
       "      <th>Dist_Taxi</th>\n",
       "      <th>Dist_Market</th>\n",
       "      <th>Dist_Hospital</th>\n",
       "      <th>Carpet</th>\n",
       "      <th>Builtup</th>\n",
       "      <th>Parking</th>\n",
       "      <th>City_Category</th>\n",
       "      <th>Rainfall</th>\n",
       "      <th>House_Price</th>\n",
       "    </tr>\n",
       "  </thead>\n",
       "  <tbody>\n",
       "    <tr>\n",
       "      <th>0</th>\n",
       "      <td>1</td>\n",
       "      <td>9796.0</td>\n",
       "      <td>5250.0</td>\n",
       "      <td>10703.0</td>\n",
       "      <td>1659.0</td>\n",
       "      <td>1961.0</td>\n",
       "      <td>Open</td>\n",
       "      <td>CAT B</td>\n",
       "      <td>530</td>\n",
       "      <td>6649000</td>\n",
       "    </tr>\n",
       "    <tr>\n",
       "      <th>1</th>\n",
       "      <td>2</td>\n",
       "      <td>8294.0</td>\n",
       "      <td>8186.0</td>\n",
       "      <td>12694.0</td>\n",
       "      <td>1461.0</td>\n",
       "      <td>1752.0</td>\n",
       "      <td>Not Provided</td>\n",
       "      <td>CAT B</td>\n",
       "      <td>210</td>\n",
       "      <td>3982000</td>\n",
       "    </tr>\n",
       "    <tr>\n",
       "      <th>2</th>\n",
       "      <td>3</td>\n",
       "      <td>11001.0</td>\n",
       "      <td>14399.0</td>\n",
       "      <td>16991.0</td>\n",
       "      <td>1340.0</td>\n",
       "      <td>1609.0</td>\n",
       "      <td>Not Provided</td>\n",
       "      <td>CAT A</td>\n",
       "      <td>720</td>\n",
       "      <td>5401000</td>\n",
       "    </tr>\n",
       "    <tr>\n",
       "      <th>3</th>\n",
       "      <td>4</td>\n",
       "      <td>8301.0</td>\n",
       "      <td>11188.0</td>\n",
       "      <td>12289.0</td>\n",
       "      <td>1451.0</td>\n",
       "      <td>1748.0</td>\n",
       "      <td>Covered</td>\n",
       "      <td>CAT B</td>\n",
       "      <td>620</td>\n",
       "      <td>5373000</td>\n",
       "    </tr>\n",
       "    <tr>\n",
       "      <th>4</th>\n",
       "      <td>5</td>\n",
       "      <td>10510.0</td>\n",
       "      <td>12629.0</td>\n",
       "      <td>13921.0</td>\n",
       "      <td>1770.0</td>\n",
       "      <td>2111.0</td>\n",
       "      <td>Not Provided</td>\n",
       "      <td>CAT B</td>\n",
       "      <td>450</td>\n",
       "      <td>4662000</td>\n",
       "    </tr>\n",
       "  </tbody>\n",
       "</table>\n",
       "</div>"
      ],
      "text/plain": [
       "   Observation  Dist_Taxi  Dist_Market  Dist_Hospital  Carpet  Builtup  \\\n",
       "0            1     9796.0       5250.0        10703.0  1659.0   1961.0   \n",
       "1            2     8294.0       8186.0        12694.0  1461.0   1752.0   \n",
       "2            3    11001.0      14399.0        16991.0  1340.0   1609.0   \n",
       "3            4     8301.0      11188.0        12289.0  1451.0   1748.0   \n",
       "4            5    10510.0      12629.0        13921.0  1770.0   2111.0   \n",
       "\n",
       "        Parking City_Category  Rainfall  House_Price  \n",
       "0          Open         CAT B       530      6649000  \n",
       "1  Not Provided         CAT B       210      3982000  \n",
       "2  Not Provided         CAT A       720      5401000  \n",
       "3       Covered         CAT B       620      5373000  \n",
       "4  Not Provided         CAT B       450      4662000  "
      ]
     },
     "execution_count": 3,
     "metadata": {},
     "output_type": "execute_result"
    }
   ],
   "source": [
    "# checking top 5 rows\n",
    "df.head()"
   ]
  },
  {
   "cell_type": "code",
   "execution_count": 4,
   "metadata": {
    "execution": {
     "iopub.execute_input": "2021-03-15T17:30:37.670374Z",
     "iopub.status.busy": "2021-03-15T17:30:37.669462Z",
     "iopub.status.idle": "2021-03-15T17:30:37.687945Z",
     "shell.execute_reply": "2021-03-15T17:30:37.688550Z"
    },
    "papermill": {
     "duration": 0.049054,
     "end_time": "2021-03-15T17:30:37.688745",
     "exception": false,
     "start_time": "2021-03-15T17:30:37.639691",
     "status": "completed"
    },
    "tags": []
   },
   "outputs": [
    {
     "data": {
      "text/html": [
       "<div>\n",
       "<style scoped>\n",
       "    .dataframe tbody tr th:only-of-type {\n",
       "        vertical-align: middle;\n",
       "    }\n",
       "\n",
       "    .dataframe tbody tr th {\n",
       "        vertical-align: top;\n",
       "    }\n",
       "\n",
       "    .dataframe thead th {\n",
       "        text-align: right;\n",
       "    }\n",
       "</style>\n",
       "<table border=\"1\" class=\"dataframe\">\n",
       "  <thead>\n",
       "    <tr style=\"text-align: right;\">\n",
       "      <th></th>\n",
       "      <th>Observation</th>\n",
       "      <th>Dist_Taxi</th>\n",
       "      <th>Dist_Market</th>\n",
       "      <th>Dist_Hospital</th>\n",
       "      <th>Carpet</th>\n",
       "      <th>Builtup</th>\n",
       "      <th>Parking</th>\n",
       "      <th>City_Category</th>\n",
       "      <th>Rainfall</th>\n",
       "      <th>House_Price</th>\n",
       "    </tr>\n",
       "  </thead>\n",
       "  <tbody>\n",
       "    <tr>\n",
       "      <th>927</th>\n",
       "      <td>928</td>\n",
       "      <td>12176.0</td>\n",
       "      <td>8518.0</td>\n",
       "      <td>15673.0</td>\n",
       "      <td>1582.0</td>\n",
       "      <td>1910.0</td>\n",
       "      <td>Covered</td>\n",
       "      <td>CAT C</td>\n",
       "      <td>1080</td>\n",
       "      <td>6639000</td>\n",
       "    </tr>\n",
       "    <tr>\n",
       "      <th>928</th>\n",
       "      <td>929</td>\n",
       "      <td>7214.0</td>\n",
       "      <td>8717.0</td>\n",
       "      <td>10553.0</td>\n",
       "      <td>1387.0</td>\n",
       "      <td>1663.0</td>\n",
       "      <td>Open</td>\n",
       "      <td>CAT A</td>\n",
       "      <td>850</td>\n",
       "      <td>8208000</td>\n",
       "    </tr>\n",
       "    <tr>\n",
       "      <th>929</th>\n",
       "      <td>930</td>\n",
       "      <td>7423.0</td>\n",
       "      <td>11708.0</td>\n",
       "      <td>13220.0</td>\n",
       "      <td>1200.0</td>\n",
       "      <td>1436.0</td>\n",
       "      <td>Open</td>\n",
       "      <td>CAT A</td>\n",
       "      <td>1060</td>\n",
       "      <td>7644000</td>\n",
       "    </tr>\n",
       "    <tr>\n",
       "      <th>930</th>\n",
       "      <td>931</td>\n",
       "      <td>15082.0</td>\n",
       "      <td>14700.0</td>\n",
       "      <td>19617.0</td>\n",
       "      <td>1299.0</td>\n",
       "      <td>1560.0</td>\n",
       "      <td>Open</td>\n",
       "      <td>CAT B</td>\n",
       "      <td>770</td>\n",
       "      <td>9661000</td>\n",
       "    </tr>\n",
       "    <tr>\n",
       "      <th>931</th>\n",
       "      <td>932</td>\n",
       "      <td>9297.0</td>\n",
       "      <td>12537.0</td>\n",
       "      <td>14418.0</td>\n",
       "      <td>1174.0</td>\n",
       "      <td>1429.0</td>\n",
       "      <td>Covered</td>\n",
       "      <td>CAT C</td>\n",
       "      <td>1110</td>\n",
       "      <td>5434000</td>\n",
       "    </tr>\n",
       "  </tbody>\n",
       "</table>\n",
       "</div>"
      ],
      "text/plain": [
       "     Observation  Dist_Taxi  Dist_Market  Dist_Hospital  Carpet  Builtup  \\\n",
       "927          928    12176.0       8518.0        15673.0  1582.0   1910.0   \n",
       "928          929     7214.0       8717.0        10553.0  1387.0   1663.0   \n",
       "929          930     7423.0      11708.0        13220.0  1200.0   1436.0   \n",
       "930          931    15082.0      14700.0        19617.0  1299.0   1560.0   \n",
       "931          932     9297.0      12537.0        14418.0  1174.0   1429.0   \n",
       "\n",
       "     Parking City_Category  Rainfall  House_Price  \n",
       "927  Covered         CAT C      1080      6639000  \n",
       "928     Open         CAT A       850      8208000  \n",
       "929     Open         CAT A      1060      7644000  \n",
       "930     Open         CAT B       770      9661000  \n",
       "931  Covered         CAT C      1110      5434000  "
      ]
     },
     "execution_count": 4,
     "metadata": {},
     "output_type": "execute_result"
    }
   ],
   "source": [
    "# checking bottom 5 rows\n",
    "df.tail()"
   ]
  },
  {
   "cell_type": "code",
   "execution_count": 5,
   "metadata": {
    "execution": {
     "iopub.execute_input": "2021-03-15T17:30:37.748137Z",
     "iopub.status.busy": "2021-03-15T17:30:37.747439Z",
     "iopub.status.idle": "2021-03-15T17:30:37.753570Z",
     "shell.execute_reply": "2021-03-15T17:30:37.752847Z"
    },
    "papermill": {
     "duration": 0.037256,
     "end_time": "2021-03-15T17:30:37.753725",
     "exception": false,
     "start_time": "2021-03-15T17:30:37.716469",
     "status": "completed"
    },
    "tags": []
   },
   "outputs": [
    {
     "data": {
      "text/plain": [
       "(932, 10)"
      ]
     },
     "execution_count": 5,
     "metadata": {},
     "output_type": "execute_result"
    }
   ],
   "source": [
    "# checking the shape\n",
    "df.shape"
   ]
  },
  {
   "cell_type": "markdown",
   "metadata": {
    "papermill": {
     "duration": 0.029096,
     "end_time": "2021-03-15T17:30:37.811392",
     "exception": false,
     "start_time": "2021-03-15T17:30:37.782296",
     "status": "completed"
    },
    "tags": []
   },
   "source": [
    "We can observe from the dataset that the observation column is not needed as it just displays the observation no for each record, we already have index for the same. so we will drop the observation column."
   ]
  },
  {
   "cell_type": "code",
   "execution_count": 6,
   "metadata": {
    "execution": {
     "iopub.execute_input": "2021-03-15T17:30:37.894489Z",
     "iopub.status.busy": "2021-03-15T17:30:37.893516Z",
     "iopub.status.idle": "2021-03-15T17:30:37.899372Z",
     "shell.execute_reply": "2021-03-15T17:30:37.898662Z"
    },
    "papermill": {
     "duration": 0.059739,
     "end_time": "2021-03-15T17:30:37.899529",
     "exception": false,
     "start_time": "2021-03-15T17:30:37.839790",
     "status": "completed"
    },
    "tags": []
   },
   "outputs": [
    {
     "data": {
      "text/html": [
       "<div>\n",
       "<style scoped>\n",
       "    .dataframe tbody tr th:only-of-type {\n",
       "        vertical-align: middle;\n",
       "    }\n",
       "\n",
       "    .dataframe tbody tr th {\n",
       "        vertical-align: top;\n",
       "    }\n",
       "\n",
       "    .dataframe thead th {\n",
       "        text-align: right;\n",
       "    }\n",
       "</style>\n",
       "<table border=\"1\" class=\"dataframe\">\n",
       "  <thead>\n",
       "    <tr style=\"text-align: right;\">\n",
       "      <th></th>\n",
       "      <th>Dist_Taxi</th>\n",
       "      <th>Dist_Market</th>\n",
       "      <th>Dist_Hospital</th>\n",
       "      <th>Carpet</th>\n",
       "      <th>Builtup</th>\n",
       "      <th>Parking</th>\n",
       "      <th>City_Category</th>\n",
       "      <th>Rainfall</th>\n",
       "      <th>House_Price</th>\n",
       "    </tr>\n",
       "  </thead>\n",
       "  <tbody>\n",
       "    <tr>\n",
       "      <th>0</th>\n",
       "      <td>9796.0</td>\n",
       "      <td>5250.0</td>\n",
       "      <td>10703.0</td>\n",
       "      <td>1659.0</td>\n",
       "      <td>1961.0</td>\n",
       "      <td>Open</td>\n",
       "      <td>CAT B</td>\n",
       "      <td>530</td>\n",
       "      <td>6649000</td>\n",
       "    </tr>\n",
       "    <tr>\n",
       "      <th>1</th>\n",
       "      <td>8294.0</td>\n",
       "      <td>8186.0</td>\n",
       "      <td>12694.0</td>\n",
       "      <td>1461.0</td>\n",
       "      <td>1752.0</td>\n",
       "      <td>Not Provided</td>\n",
       "      <td>CAT B</td>\n",
       "      <td>210</td>\n",
       "      <td>3982000</td>\n",
       "    </tr>\n",
       "    <tr>\n",
       "      <th>2</th>\n",
       "      <td>11001.0</td>\n",
       "      <td>14399.0</td>\n",
       "      <td>16991.0</td>\n",
       "      <td>1340.0</td>\n",
       "      <td>1609.0</td>\n",
       "      <td>Not Provided</td>\n",
       "      <td>CAT A</td>\n",
       "      <td>720</td>\n",
       "      <td>5401000</td>\n",
       "    </tr>\n",
       "    <tr>\n",
       "      <th>3</th>\n",
       "      <td>8301.0</td>\n",
       "      <td>11188.0</td>\n",
       "      <td>12289.0</td>\n",
       "      <td>1451.0</td>\n",
       "      <td>1748.0</td>\n",
       "      <td>Covered</td>\n",
       "      <td>CAT B</td>\n",
       "      <td>620</td>\n",
       "      <td>5373000</td>\n",
       "    </tr>\n",
       "    <tr>\n",
       "      <th>4</th>\n",
       "      <td>10510.0</td>\n",
       "      <td>12629.0</td>\n",
       "      <td>13921.0</td>\n",
       "      <td>1770.0</td>\n",
       "      <td>2111.0</td>\n",
       "      <td>Not Provided</td>\n",
       "      <td>CAT B</td>\n",
       "      <td>450</td>\n",
       "      <td>4662000</td>\n",
       "    </tr>\n",
       "    <tr>\n",
       "      <th>...</th>\n",
       "      <td>...</td>\n",
       "      <td>...</td>\n",
       "      <td>...</td>\n",
       "      <td>...</td>\n",
       "      <td>...</td>\n",
       "      <td>...</td>\n",
       "      <td>...</td>\n",
       "      <td>...</td>\n",
       "      <td>...</td>\n",
       "    </tr>\n",
       "    <tr>\n",
       "      <th>927</th>\n",
       "      <td>12176.0</td>\n",
       "      <td>8518.0</td>\n",
       "      <td>15673.0</td>\n",
       "      <td>1582.0</td>\n",
       "      <td>1910.0</td>\n",
       "      <td>Covered</td>\n",
       "      <td>CAT C</td>\n",
       "      <td>1080</td>\n",
       "      <td>6639000</td>\n",
       "    </tr>\n",
       "    <tr>\n",
       "      <th>928</th>\n",
       "      <td>7214.0</td>\n",
       "      <td>8717.0</td>\n",
       "      <td>10553.0</td>\n",
       "      <td>1387.0</td>\n",
       "      <td>1663.0</td>\n",
       "      <td>Open</td>\n",
       "      <td>CAT A</td>\n",
       "      <td>850</td>\n",
       "      <td>8208000</td>\n",
       "    </tr>\n",
       "    <tr>\n",
       "      <th>929</th>\n",
       "      <td>7423.0</td>\n",
       "      <td>11708.0</td>\n",
       "      <td>13220.0</td>\n",
       "      <td>1200.0</td>\n",
       "      <td>1436.0</td>\n",
       "      <td>Open</td>\n",
       "      <td>CAT A</td>\n",
       "      <td>1060</td>\n",
       "      <td>7644000</td>\n",
       "    </tr>\n",
       "    <tr>\n",
       "      <th>930</th>\n",
       "      <td>15082.0</td>\n",
       "      <td>14700.0</td>\n",
       "      <td>19617.0</td>\n",
       "      <td>1299.0</td>\n",
       "      <td>1560.0</td>\n",
       "      <td>Open</td>\n",
       "      <td>CAT B</td>\n",
       "      <td>770</td>\n",
       "      <td>9661000</td>\n",
       "    </tr>\n",
       "    <tr>\n",
       "      <th>931</th>\n",
       "      <td>9297.0</td>\n",
       "      <td>12537.0</td>\n",
       "      <td>14418.0</td>\n",
       "      <td>1174.0</td>\n",
       "      <td>1429.0</td>\n",
       "      <td>Covered</td>\n",
       "      <td>CAT C</td>\n",
       "      <td>1110</td>\n",
       "      <td>5434000</td>\n",
       "    </tr>\n",
       "  </tbody>\n",
       "</table>\n",
       "<p>932 rows × 9 columns</p>\n",
       "</div>"
      ],
      "text/plain": [
       "     Dist_Taxi  Dist_Market  Dist_Hospital  Carpet  Builtup       Parking  \\\n",
       "0       9796.0       5250.0        10703.0  1659.0   1961.0          Open   \n",
       "1       8294.0       8186.0        12694.0  1461.0   1752.0  Not Provided   \n",
       "2      11001.0      14399.0        16991.0  1340.0   1609.0  Not Provided   \n",
       "3       8301.0      11188.0        12289.0  1451.0   1748.0       Covered   \n",
       "4      10510.0      12629.0        13921.0  1770.0   2111.0  Not Provided   \n",
       "..         ...          ...            ...     ...      ...           ...   \n",
       "927    12176.0       8518.0        15673.0  1582.0   1910.0       Covered   \n",
       "928     7214.0       8717.0        10553.0  1387.0   1663.0          Open   \n",
       "929     7423.0      11708.0        13220.0  1200.0   1436.0          Open   \n",
       "930    15082.0      14700.0        19617.0  1299.0   1560.0          Open   \n",
       "931     9297.0      12537.0        14418.0  1174.0   1429.0       Covered   \n",
       "\n",
       "    City_Category  Rainfall  House_Price  \n",
       "0           CAT B       530      6649000  \n",
       "1           CAT B       210      3982000  \n",
       "2           CAT A       720      5401000  \n",
       "3           CAT B       620      5373000  \n",
       "4           CAT B       450      4662000  \n",
       "..            ...       ...          ...  \n",
       "927         CAT C      1080      6639000  \n",
       "928         CAT A       850      8208000  \n",
       "929         CAT A      1060      7644000  \n",
       "930         CAT B       770      9661000  \n",
       "931         CAT C      1110      5434000  \n",
       "\n",
       "[932 rows x 9 columns]"
      ]
     },
     "execution_count": 6,
     "metadata": {},
     "output_type": "execute_result"
    }
   ],
   "source": [
    "df = df.drop('Observation',axis = 1)\n",
    "df"
   ]
  },
  {
   "cell_type": "markdown",
   "metadata": {
    "papermill": {
     "duration": 0.029116,
     "end_time": "2021-03-15T17:30:37.957440",
     "exception": false,
     "start_time": "2021-03-15T17:30:37.928324",
     "status": "completed"
    },
    "tags": []
   },
   "source": [
    "We will check the distribution of the target variable."
   ]
  },
  {
   "cell_type": "code",
   "execution_count": 7,
   "metadata": {
    "execution": {
     "iopub.execute_input": "2021-03-15T17:30:38.022304Z",
     "iopub.status.busy": "2021-03-15T17:30:38.021564Z",
     "iopub.status.idle": "2021-03-15T17:30:38.382528Z",
     "shell.execute_reply": "2021-03-15T17:30:38.383074Z"
    },
    "papermill": {
     "duration": 0.396883,
     "end_time": "2021-03-15T17:30:38.383264",
     "exception": false,
     "start_time": "2021-03-15T17:30:37.986381",
     "status": "completed"
    },
    "tags": []
   },
   "outputs": [
    {
     "name": "stderr",
     "output_type": "stream",
     "text": [
      "/opt/conda/lib/python3.7/site-packages/seaborn/distributions.py:2557: FutureWarning: `distplot` is a deprecated function and will be removed in a future version. Please adapt your code to use either `displot` (a figure-level function with similar flexibility) or `histplot` (an axes-level function for histograms).\n",
      "  warnings.warn(msg, FutureWarning)\n"
     ]
    },
    {
     "data": {
      "text/plain": [
       "<AxesSubplot:xlabel='House_Price', ylabel='Density'>"
      ]
     },
     "execution_count": 7,
     "metadata": {},
     "output_type": "execute_result"
    },
    {
     "data": {
      "image/png": "[encoded data removed]",
      "text/plain": [
       "<Figure size 432x288 with 1 Axes>"
      ]
     },
     "metadata": {
      "needs_background": "light"
     },
     "output_type": "display_data"
    }
   ],
   "source": [
    "sns.distplot(df['House_Price']) "
   ]
  },
  {
   "cell_type": "code",
   "execution_count": 8,
   "metadata": {
    "execution": {
     "iopub.execute_input": "2021-03-15T17:30:38.449059Z",
     "iopub.status.busy": "2021-03-15T17:30:38.447953Z",
     "iopub.status.idle": "2021-03-15T17:30:38.667428Z",
     "shell.execute_reply": "2021-03-15T17:30:38.666789Z"
    },
    "papermill": {
     "duration": 0.253293,
     "end_time": "2021-03-15T17:30:38.667591",
     "exception": false,
     "start_time": "2021-03-15T17:30:38.414298",
     "status": "completed"
    },
    "tags": []
   },
   "outputs": [
    {
     "name": "stderr",
     "output_type": "stream",
     "text": [
      "/opt/conda/lib/python3.7/site-packages/seaborn/_decorators.py:43: FutureWarning: Pass the following variable as a keyword arg: x. From version 0.12, the only valid positional argument will be `data`, and passing other arguments without an explicit keyword will result in an error or misinterpretation.\n",
      "  FutureWarning\n"
     ]
    },
    {
     "data": {
      "text/plain": [
       "<AxesSubplot:xlabel='House_Price'>"
      ]
     },
     "execution_count": 8,
     "metadata": {},
     "output_type": "execute_result"
    },
    {
     "data": {
      "image/png": "[encoded data removed]",
      "text/plain": [
       "<Figure size 432x288 with 1 Axes>"
      ]
     },
     "metadata": {
      "needs_background": "light"
     },
     "output_type": "display_data"
    }
   ],
   "source": [
    "sns.boxplot(df['House_Price'])"
   ]
  },
  {
   "cell_type": "markdown",
   "metadata": {
    "papermill": {
     "duration": 0.031533,
     "end_time": "2021-03-15T17:30:38.730779",
     "exception": false,
     "start_time": "2021-03-15T17:30:38.699246",
     "status": "completed"
    },
    "tags": []
   },
   "source": [
    "We can observe that the distribution is skewed and we are able to observe outliers also.\n",
    "\n",
    "We will remove the outliers from our data."
   ]
  },
  {
   "cell_type": "code",
   "execution_count": 9,
   "metadata": {
    "execution": {
     "iopub.execute_input": "2021-03-15T17:30:38.805652Z",
     "iopub.status.busy": "2021-03-15T17:30:38.804642Z",
     "iopub.status.idle": "2021-03-15T17:30:38.809660Z",
     "shell.execute_reply": "2021-03-15T17:30:38.809069Z"
    },
    "papermill": {
     "duration": 0.047093,
     "end_time": "2021-03-15T17:30:38.809816",
     "exception": false,
     "start_time": "2021-03-15T17:30:38.762723",
     "status": "completed"
    },
    "tags": []
   },
   "outputs": [],
   "source": [
    "hp = sorted(df['House_Price'])\n",
    "q1, q3= np.percentile(hp,[25,75])\n",
    "lower_bound = q1 -(1.5 * (q3-q1)) \n",
    "upper_bound = q3 + (1.5 * (q3-q1))\n",
    "below = df['House_Price'] > lower_bound\n",
    "above = df['House_Price'] < upper_bound\n",
    "df = df[below & above]"
   ]
  },
  {
   "cell_type": "code",
   "execution_count": 10,
   "metadata": {
    "execution": {
     "iopub.execute_input": "2021-03-15T17:30:38.881570Z",
     "iopub.status.busy": "2021-03-15T17:30:38.880457Z",
     "iopub.status.idle": "2021-03-15T17:30:38.885355Z",
     "shell.execute_reply": "2021-03-15T17:30:38.884682Z"
    },
    "papermill": {
     "duration": 0.042358,
     "end_time": "2021-03-15T17:30:38.885501",
     "exception": false,
     "start_time": "2021-03-15T17:30:38.843143",
     "status": "completed"
    },
    "tags": []
   },
   "outputs": [
    {
     "data": {
      "text/plain": [
       "(929, 9)"
      ]
     },
     "execution_count": 10,
     "metadata": {},
     "output_type": "execute_result"
    }
   ],
   "source": [
    "df.shape"
   ]
  },
  {
   "cell_type": "code",
   "execution_count": 11,
   "metadata": {
    "execution": {
     "iopub.execute_input": "2021-03-15T17:30:38.981191Z",
     "iopub.status.busy": "2021-03-15T17:30:38.960231Z",
     "iopub.status.idle": "2021-03-15T17:30:39.078854Z",
     "shell.execute_reply": "2021-03-15T17:30:39.078194Z"
    },
    "papermill": {
     "duration": 0.159184,
     "end_time": "2021-03-15T17:30:39.079019",
     "exception": false,
     "start_time": "2021-03-15T17:30:38.919835",
     "status": "completed"
    },
    "tags": []
   },
   "outputs": [
    {
     "name": "stderr",
     "output_type": "stream",
     "text": [
      "/opt/conda/lib/python3.7/site-packages/seaborn/_decorators.py:43: FutureWarning: Pass the following variable as a keyword arg: x. From version 0.12, the only valid positional argument will be `data`, and passing other arguments without an explicit keyword will result in an error or misinterpretation.\n",
      "  FutureWarning\n"
     ]
    },
    {
     "data": {
      "text/plain": [
       "<AxesSubplot:xlabel='House_Price'>"
      ]
     },
     "execution_count": 11,
     "metadata": {},
     "output_type": "execute_result"
    },
    {
     "data": {
      "image/png": "[encoded data removed]",
      "text/plain": [
       "<Figure size 432x288 with 1 Axes>"
      ]
     },
     "metadata": {
      "needs_background": "light"
     },
     "output_type": "display_data"
    }
   ],
   "source": [
    "sns.boxplot(df[\"House_Price\"])"
   ]
  },
  {
   "cell_type": "code",
   "execution_count": 12,
   "metadata": {
    "execution": {
     "iopub.execute_input": "2021-03-15T17:30:39.189573Z",
     "iopub.status.busy": "2021-03-15T17:30:39.187097Z",
     "iopub.status.idle": "2021-03-15T17:30:39.413763Z",
     "shell.execute_reply": "2021-03-15T17:30:39.413053Z"
    },
    "papermill": {
     "duration": 0.299566,
     "end_time": "2021-03-15T17:30:39.413933",
     "exception": false,
     "start_time": "2021-03-15T17:30:39.114367",
     "status": "completed"
    },
    "tags": []
   },
   "outputs": [
    {
     "name": "stderr",
     "output_type": "stream",
     "text": [
      "/opt/conda/lib/python3.7/site-packages/seaborn/distributions.py:2557: FutureWarning: `distplot` is a deprecated function and will be removed in a future version. Please adapt your code to use either `displot` (a figure-level function with similar flexibility) or `histplot` (an axes-level function for histograms).\n",
      "  warnings.warn(msg, FutureWarning)\n"
     ]
    },
    {
     "data": {
      "text/plain": [
       "<AxesSubplot:xlabel='House_Price', ylabel='Density'>"
      ]
     },
     "execution_count": 12,
     "metadata": {},
     "output_type": "execute_result"
    },
    {
     "data": {
      "image/png": "[encoded data removed]",
      "text/plain": [
       "<Figure size 432x288 with 1 Axes>"
      ]
     },
     "metadata": {
      "needs_background": "light"
     },
     "output_type": "display_data"
    }
   ],
   "source": [
    "sns.distplot(df['House_Price'])"
   ]
  },
  {
   "cell_type": "markdown",
   "metadata": {
    "papermill": {
     "duration": 0.035213,
     "end_time": "2021-03-15T17:30:39.484727",
     "exception": false,
     "start_time": "2021-03-15T17:30:39.449514",
     "status": "completed"
    },
    "tags": []
   },
   "source": [
    "Now we are able to make a normal distribution \n",
    "Now we will check if there is any null value present in our dataset."
   ]
  },
  {
   "cell_type": "code",
   "execution_count": 13,
   "metadata": {
    "execution": {
     "iopub.execute_input": "2021-03-15T17:30:39.567346Z",
     "iopub.status.busy": "2021-03-15T17:30:39.566194Z",
     "iopub.status.idle": "2021-03-15T17:30:39.571649Z",
     "shell.execute_reply": "2021-03-15T17:30:39.571005Z"
    },
    "papermill": {
     "duration": 0.050541,
     "end_time": "2021-03-15T17:30:39.571788",
     "exception": false,
     "start_time": "2021-03-15T17:30:39.521247",
     "status": "completed"
    },
    "tags": []
   },
   "outputs": [
    {
     "data": {
      "text/plain": [
       "Dist_Taxi        12\n",
       "Dist_Market      12\n",
       "Dist_Hospital     0\n",
       "Carpet            7\n",
       "Builtup          14\n",
       "Parking           0\n",
       "City_Category     0\n",
       "Rainfall          0\n",
       "House_Price       0\n",
       "dtype: int64"
      ]
     },
     "execution_count": 13,
     "metadata": {},
     "output_type": "execute_result"
    }
   ],
   "source": [
    "df.isnull().sum()"
   ]
  },
  {
   "cell_type": "markdown",
   "metadata": {
    "papermill": {
     "duration": 0.03543,
     "end_time": "2021-03-15T17:30:39.643570",
     "exception": false,
     "start_time": "2021-03-15T17:30:39.608140",
     "status": "completed"
    },
    "tags": []
   },
   "source": [
    "We can remove the missing values or we can impute them . Here we will go further by removing the missing values."
   ]
  },
  {
   "cell_type": "code",
   "execution_count": 14,
   "metadata": {
    "execution": {
     "iopub.execute_input": "2021-03-15T17:30:39.726426Z",
     "iopub.status.busy": "2021-03-15T17:30:39.725440Z",
     "iopub.status.idle": "2021-03-15T17:30:39.731329Z",
     "shell.execute_reply": "2021-03-15T17:30:39.730781Z"
    },
    "papermill": {
     "duration": 0.052251,
     "end_time": "2021-03-15T17:30:39.731477",
     "exception": false,
     "start_time": "2021-03-15T17:30:39.679226",
     "status": "completed"
    },
    "tags": []
   },
   "outputs": [
    {
     "data": {
      "text/plain": [
       "(896, 9)"
      ]
     },
     "execution_count": 14,
     "metadata": {},
     "output_type": "execute_result"
    }
   ],
   "source": [
    "df_new = df.dropna()\n",
    "df_new.shape"
   ]
  },
  {
   "cell_type": "markdown",
   "metadata": {
    "papermill": {
     "duration": 0.037185,
     "end_time": "2021-03-15T17:30:39.805469",
     "exception": false,
     "start_time": "2021-03-15T17:30:39.768284",
     "status": "completed"
    },
    "tags": []
   },
   "source": [
    "Now we will check if there is any categorical data in our dataset."
   ]
  },
  {
   "cell_type": "code",
   "execution_count": 15,
   "metadata": {
    "execution": {
     "iopub.execute_input": "2021-03-15T17:30:39.888572Z",
     "iopub.status.busy": "2021-03-15T17:30:39.887403Z",
     "iopub.status.idle": "2021-03-15T17:30:39.892912Z",
     "shell.execute_reply": "2021-03-15T17:30:39.892244Z"
    },
    "papermill": {
     "duration": 0.049405,
     "end_time": "2021-03-15T17:30:39.893073",
     "exception": false,
     "start_time": "2021-03-15T17:30:39.843668",
     "status": "completed"
    },
    "tags": []
   },
   "outputs": [
    {
     "data": {
      "text/plain": [
       "Dist_Taxi        float64\n",
       "Dist_Market      float64\n",
       "Dist_Hospital    float64\n",
       "Carpet           float64\n",
       "Builtup          float64\n",
       "Parking           object\n",
       "City_Category     object\n",
       "Rainfall           int64\n",
       "House_Price        int64\n",
       "dtype: object"
      ]
     },
     "execution_count": 15,
     "metadata": {},
     "output_type": "execute_result"
    }
   ],
   "source": [
    "df_new.dtypes"
   ]
  },
  {
   "cell_type": "markdown",
   "metadata": {
    "papermill": {
     "duration": 0.036395,
     "end_time": "2021-03-15T17:30:39.967069",
     "exception": false,
     "start_time": "2021-03-15T17:30:39.930674",
     "status": "completed"
    },
    "tags": []
   },
   "source": [
    "There are two features with the categorical data namely 'Parking' & 'City_Category'"
   ]
  },
  {
   "cell_type": "code",
   "execution_count": 16,
   "metadata": {
    "execution": {
     "iopub.execute_input": "2021-03-15T17:30:40.052488Z",
     "iopub.status.busy": "2021-03-15T17:30:40.051470Z",
     "iopub.status.idle": "2021-03-15T17:30:40.057028Z",
     "shell.execute_reply": "2021-03-15T17:30:40.056450Z"
    },
    "papermill": {
     "duration": 0.052364,
     "end_time": "2021-03-15T17:30:40.057170",
     "exception": false,
     "start_time": "2021-03-15T17:30:40.004806",
     "status": "completed"
    },
    "tags": []
   },
   "outputs": [
    {
     "data": {
      "text/plain": [
       "CAT B    347\n",
       "CAT A    316\n",
       "CAT C    233\n",
       "Name: City_Category, dtype: int64"
      ]
     },
     "execution_count": 16,
     "metadata": {},
     "output_type": "execute_result"
    }
   ],
   "source": [
    "df_new.City_Category.value_counts()"
   ]
  },
  {
   "cell_type": "code",
   "execution_count": 17,
   "metadata": {
    "execution": {
     "iopub.execute_input": "2021-03-15T17:30:40.139558Z",
     "iopub.status.busy": "2021-03-15T17:30:40.138841Z",
     "iopub.status.idle": "2021-03-15T17:30:40.142310Z",
     "shell.execute_reply": "2021-03-15T17:30:40.142745Z"
    },
    "papermill": {
     "duration": 0.048533,
     "end_time": "2021-03-15T17:30:40.143063",
     "exception": false,
     "start_time": "2021-03-15T17:30:40.094530",
     "status": "completed"
    },
    "tags": []
   },
   "outputs": [
    {
     "data": {
      "text/plain": [
       "Open            353\n",
       "Not Provided    223\n",
       "Covered         180\n",
       "No Parking      140\n",
       "Name: Parking, dtype: int64"
      ]
     },
     "execution_count": 17,
     "metadata": {},
     "output_type": "execute_result"
    }
   ],
   "source": [
    "df_new.Parking.value_counts()"
   ]
  },
  {
   "cell_type": "markdown",
   "metadata": {
    "papermill": {
     "duration": 0.040348,
     "end_time": "2021-03-15T17:30:40.221384",
     "exception": false,
     "start_time": "2021-03-15T17:30:40.181036",
     "status": "completed"
    },
    "tags": []
   },
   "source": [
    "Here we can convert the categorical values into numerical by using labelencoding and then onehot encoding on the label encoded data. Or we can use get_dummies from Pandas Dataframe. We will go ahead with the get_dummies option."
   ]
  },
  {
   "cell_type": "code",
   "execution_count": 18,
   "metadata": {
    "execution": {
     "iopub.execute_input": "2021-03-15T17:30:40.309401Z",
     "iopub.status.busy": "2021-03-15T17:30:40.308647Z",
     "iopub.status.idle": "2021-03-15T17:30:40.336645Z",
     "shell.execute_reply": "2021-03-15T17:30:40.337222Z"
    },
    "papermill": {
     "duration": 0.078711,
     "end_time": "2021-03-15T17:30:40.337426",
     "exception": false,
     "start_time": "2021-03-15T17:30:40.258715",
     "status": "completed"
    },
    "tags": []
   },
   "outputs": [
    {
     "data": {
      "text/html": [
       "<div>\n",
       "<style scoped>\n",
       "    .dataframe tbody tr th:only-of-type {\n",
       "        vertical-align: middle;\n",
       "    }\n",
       "\n",
       "    .dataframe tbody tr th {\n",
       "        vertical-align: top;\n",
       "    }\n",
       "\n",
       "    .dataframe thead th {\n",
       "        text-align: right;\n",
       "    }\n",
       "</style>\n",
       "<table border=\"1\" class=\"dataframe\">\n",
       "  <thead>\n",
       "    <tr style=\"text-align: right;\">\n",
       "      <th></th>\n",
       "      <th>Dist_Taxi</th>\n",
       "      <th>Dist_Market</th>\n",
       "      <th>Dist_Hospital</th>\n",
       "      <th>Carpet</th>\n",
       "      <th>Builtup</th>\n",
       "      <th>Rainfall</th>\n",
       "      <th>House_Price</th>\n",
       "      <th>Parking_Covered</th>\n",
       "      <th>Parking_No Parking</th>\n",
       "      <th>Parking_Not Provided</th>\n",
       "      <th>Parking_Open</th>\n",
       "      <th>City_Category_CAT A</th>\n",
       "      <th>City_Category_CAT B</th>\n",
       "      <th>City_Category_CAT C</th>\n",
       "    </tr>\n",
       "  </thead>\n",
       "  <tbody>\n",
       "    <tr>\n",
       "      <th>0</th>\n",
       "      <td>9796.0</td>\n",
       "      <td>5250.0</td>\n",
       "      <td>10703.0</td>\n",
       "      <td>1659.0</td>\n",
       "      <td>1961.0</td>\n",
       "      <td>530</td>\n",
       "      <td>6649000</td>\n",
       "      <td>0</td>\n",
       "      <td>0</td>\n",
       "      <td>0</td>\n",
       "      <td>1</td>\n",
       "      <td>0</td>\n",
       "      <td>1</td>\n",
       "      <td>0</td>\n",
       "    </tr>\n",
       "    <tr>\n",
       "      <th>1</th>\n",
       "      <td>8294.0</td>\n",
       "      <td>8186.0</td>\n",
       "      <td>12694.0</td>\n",
       "      <td>1461.0</td>\n",
       "      <td>1752.0</td>\n",
       "      <td>210</td>\n",
       "      <td>3982000</td>\n",
       "      <td>0</td>\n",
       "      <td>0</td>\n",
       "      <td>1</td>\n",
       "      <td>0</td>\n",
       "      <td>0</td>\n",
       "      <td>1</td>\n",
       "      <td>0</td>\n",
       "    </tr>\n",
       "    <tr>\n",
       "      <th>2</th>\n",
       "      <td>11001.0</td>\n",
       "      <td>14399.0</td>\n",
       "      <td>16991.0</td>\n",
       "      <td>1340.0</td>\n",
       "      <td>1609.0</td>\n",
       "      <td>720</td>\n",
       "      <td>5401000</td>\n",
       "      <td>0</td>\n",
       "      <td>0</td>\n",
       "      <td>1</td>\n",
       "      <td>0</td>\n",
       "      <td>1</td>\n",
       "      <td>0</td>\n",
       "      <td>0</td>\n",
       "    </tr>\n",
       "    <tr>\n",
       "      <th>3</th>\n",
       "      <td>8301.0</td>\n",
       "      <td>11188.0</td>\n",
       "      <td>12289.0</td>\n",
       "      <td>1451.0</td>\n",
       "      <td>1748.0</td>\n",
       "      <td>620</td>\n",
       "      <td>5373000</td>\n",
       "      <td>1</td>\n",
       "      <td>0</td>\n",
       "      <td>0</td>\n",
       "      <td>0</td>\n",
       "      <td>0</td>\n",
       "      <td>1</td>\n",
       "      <td>0</td>\n",
       "    </tr>\n",
       "    <tr>\n",
       "      <th>4</th>\n",
       "      <td>10510.0</td>\n",
       "      <td>12629.0</td>\n",
       "      <td>13921.0</td>\n",
       "      <td>1770.0</td>\n",
       "      <td>2111.0</td>\n",
       "      <td>450</td>\n",
       "      <td>4662000</td>\n",
       "      <td>0</td>\n",
       "      <td>0</td>\n",
       "      <td>1</td>\n",
       "      <td>0</td>\n",
       "      <td>0</td>\n",
       "      <td>1</td>\n",
       "      <td>0</td>\n",
       "    </tr>\n",
       "    <tr>\n",
       "      <th>...</th>\n",
       "      <td>...</td>\n",
       "      <td>...</td>\n",
       "      <td>...</td>\n",
       "      <td>...</td>\n",
       "      <td>...</td>\n",
       "      <td>...</td>\n",
       "      <td>...</td>\n",
       "      <td>...</td>\n",
       "      <td>...</td>\n",
       "      <td>...</td>\n",
       "      <td>...</td>\n",
       "      <td>...</td>\n",
       "      <td>...</td>\n",
       "      <td>...</td>\n",
       "    </tr>\n",
       "    <tr>\n",
       "      <th>927</th>\n",
       "      <td>12176.0</td>\n",
       "      <td>8518.0</td>\n",
       "      <td>15673.0</td>\n",
       "      <td>1582.0</td>\n",
       "      <td>1910.0</td>\n",
       "      <td>1080</td>\n",
       "      <td>6639000</td>\n",
       "      <td>1</td>\n",
       "      <td>0</td>\n",
       "      <td>0</td>\n",
       "      <td>0</td>\n",
       "      <td>0</td>\n",
       "      <td>0</td>\n",
       "      <td>1</td>\n",
       "    </tr>\n",
       "    <tr>\n",
       "      <th>928</th>\n",
       "      <td>7214.0</td>\n",
       "      <td>8717.0</td>\n",
       "      <td>10553.0</td>\n",
       "      <td>1387.0</td>\n",
       "      <td>1663.0</td>\n",
       "      <td>850</td>\n",
       "      <td>8208000</td>\n",
       "      <td>0</td>\n",
       "      <td>0</td>\n",
       "      <td>0</td>\n",
       "      <td>1</td>\n",
       "      <td>1</td>\n",
       "      <td>0</td>\n",
       "      <td>0</td>\n",
       "    </tr>\n",
       "    <tr>\n",
       "      <th>929</th>\n",
       "      <td>7423.0</td>\n",
       "      <td>11708.0</td>\n",
       "      <td>13220.0</td>\n",
       "      <td>1200.0</td>\n",
       "      <td>1436.0</td>\n",
       "      <td>1060</td>\n",
       "      <td>7644000</td>\n",
       "      <td>0</td>\n",
       "      <td>0</td>\n",
       "      <td>0</td>\n",
       "      <td>1</td>\n",
       "      <td>1</td>\n",
       "      <td>0</td>\n",
       "      <td>0</td>\n",
       "    </tr>\n",
       "    <tr>\n",
       "      <th>930</th>\n",
       "      <td>15082.0</td>\n",
       "      <td>14700.0</td>\n",
       "      <td>19617.0</td>\n",
       "      <td>1299.0</td>\n",
       "      <td>1560.0</td>\n",
       "      <td>770</td>\n",
       "      <td>9661000</td>\n",
       "      <td>0</td>\n",
       "      <td>0</td>\n",
       "      <td>0</td>\n",
       "      <td>1</td>\n",
       "      <td>0</td>\n",
       "      <td>1</td>\n",
       "      <td>0</td>\n",
       "    </tr>\n",
       "    <tr>\n",
       "      <th>931</th>\n",
       "      <td>9297.0</td>\n",
       "      <td>12537.0</td>\n",
       "      <td>14418.0</td>\n",
       "      <td>1174.0</td>\n",
       "      <td>1429.0</td>\n",
       "      <td>1110</td>\n",
       "      <td>5434000</td>\n",
       "      <td>1</td>\n",
       "      <td>0</td>\n",
       "      <td>0</td>\n",
       "      <td>0</td>\n",
       "      <td>0</td>\n",
       "      <td>0</td>\n",
       "      <td>1</td>\n",
       "    </tr>\n",
       "  </tbody>\n",
       "</table>\n",
       "<p>896 rows × 14 columns</p>\n",
       "</div>"
      ],
      "text/plain": [
       "     Dist_Taxi  Dist_Market  Dist_Hospital  Carpet  Builtup  Rainfall  \\\n",
       "0       9796.0       5250.0        10703.0  1659.0   1961.0       530   \n",
       "1       8294.0       8186.0        12694.0  1461.0   1752.0       210   \n",
       "2      11001.0      14399.0        16991.0  1340.0   1609.0       720   \n",
       "3       8301.0      11188.0        12289.0  1451.0   1748.0       620   \n",
       "4      10510.0      12629.0        13921.0  1770.0   2111.0       450   \n",
       "..         ...          ...            ...     ...      ...       ...   \n",
       "927    12176.0       8518.0        15673.0  1582.0   1910.0      1080   \n",
       "928     7214.0       8717.0        10553.0  1387.0   1663.0       850   \n",
       "929     7423.0      11708.0        13220.0  1200.0   1436.0      1060   \n",
       "930    15082.0      14700.0        19617.0  1299.0   1560.0       770   \n",
       "931     9297.0      12537.0        14418.0  1174.0   1429.0      1110   \n",
       "\n",
       "     House_Price  Parking_Covered  Parking_No Parking  Parking_Not Provided  \\\n",
       "0        6649000                0                   0                     0   \n",
       "1        3982000                0                   0                     1   \n",
       "2        5401000                0                   0                     1   \n",
       "3        5373000                1                   0                     0   \n",
       "4        4662000                0                   0                     1   \n",
       "..           ...              ...                 ...                   ...   \n",
       "927      6639000                1                   0                     0   \n",
       "928      8208000                0                   0                     0   \n",
       "929      7644000                0                   0                     0   \n",
       "930      9661000                0                   0                     0   \n",
       "931      5434000                1                   0                     0   \n",
       "\n",
       "     Parking_Open  City_Category_CAT A  City_Category_CAT B  \\\n",
       "0               1                    0                    1   \n",
       "1               0                    0                    1   \n",
       "2               0                    1                    0   \n",
       "3               0                    0                    1   \n",
       "4               0                    0                    1   \n",
       "..            ...                  ...                  ...   \n",
       "927             0                    0                    0   \n",
       "928             1                    1                    0   \n",
       "929             1                    1                    0   \n",
       "930             1                    0                    1   \n",
       "931             0                    0                    0   \n",
       "\n",
       "     City_Category_CAT C  \n",
       "0                      0  \n",
       "1                      0  \n",
       "2                      0  \n",
       "3                      0  \n",
       "4                      0  \n",
       "..                   ...  \n",
       "927                    1  \n",
       "928                    0  \n",
       "929                    0  \n",
       "930                    0  \n",
       "931                    1  \n",
       "\n",
       "[896 rows x 14 columns]"
      ]
     },
     "execution_count": 18,
     "metadata": {},
     "output_type": "execute_result"
    }
   ],
   "source": [
    "df_dum = pd.get_dummies(df_new)\n",
    "df_dum"
   ]
  },
  {
   "cell_type": "markdown",
   "metadata": {
    "papermill": {
     "duration": 0.039261,
     "end_time": "2021-03-15T17:30:40.416551",
     "exception": false,
     "start_time": "2021-03-15T17:30:40.377290",
     "status": "completed"
    },
    "tags": []
   },
   "source": [
    "We will check the correlation of the features"
   ]
  },
  {
   "cell_type": "code",
   "execution_count": 19,
   "metadata": {
    "execution": {
     "iopub.execute_input": "2021-03-15T17:30:40.499339Z",
     "iopub.status.busy": "2021-03-15T17:30:40.498645Z",
     "iopub.status.idle": "2021-03-15T17:30:40.528960Z",
     "shell.execute_reply": "2021-03-15T17:30:40.529478Z"
    },
    "papermill": {
     "duration": 0.073529,
     "end_time": "2021-03-15T17:30:40.529674",
     "exception": false,
     "start_time": "2021-03-15T17:30:40.456145",
     "status": "completed"
    },
    "tags": []
   },
   "outputs": [
    {
     "data": {
      "text/html": [
       "<div>\n",
       "<style scoped>\n",
       "    .dataframe tbody tr th:only-of-type {\n",
       "        vertical-align: middle;\n",
       "    }\n",
       "\n",
       "    .dataframe tbody tr th {\n",
       "        vertical-align: top;\n",
       "    }\n",
       "\n",
       "    .dataframe thead th {\n",
       "        text-align: right;\n",
       "    }\n",
       "</style>\n",
       "<table border=\"1\" class=\"dataframe\">\n",
       "  <thead>\n",
       "    <tr style=\"text-align: right;\">\n",
       "      <th></th>\n",
       "      <th>Dist_Taxi</th>\n",
       "      <th>Dist_Market</th>\n",
       "      <th>Dist_Hospital</th>\n",
       "      <th>Carpet</th>\n",
       "      <th>Builtup</th>\n",
       "      <th>Rainfall</th>\n",
       "      <th>House_Price</th>\n",
       "      <th>Parking_Covered</th>\n",
       "      <th>Parking_No Parking</th>\n",
       "      <th>Parking_Not Provided</th>\n",
       "      <th>Parking_Open</th>\n",
       "      <th>City_Category_CAT A</th>\n",
       "      <th>City_Category_CAT B</th>\n",
       "      <th>City_Category_CAT C</th>\n",
       "    </tr>\n",
       "  </thead>\n",
       "  <tbody>\n",
       "    <tr>\n",
       "      <th>Dist_Taxi</th>\n",
       "      <td>1.000000</td>\n",
       "      <td>0.453358</td>\n",
       "      <td>0.795513</td>\n",
       "      <td>0.009567</td>\n",
       "      <td>0.009135</td>\n",
       "      <td>0.013658</td>\n",
       "      <td>0.105436</td>\n",
       "      <td>-0.074152</td>\n",
       "      <td>0.076657</td>\n",
       "      <td>0.042658</td>\n",
       "      <td>-0.033906</td>\n",
       "      <td>0.024183</td>\n",
       "      <td>-0.048911</td>\n",
       "      <td>0.027975</td>\n",
       "    </tr>\n",
       "    <tr>\n",
       "      <th>Dist_Market</th>\n",
       "      <td>0.453358</td>\n",
       "      <td>1.000000</td>\n",
       "      <td>0.621458</td>\n",
       "      <td>-0.019532</td>\n",
       "      <td>-0.019080</td>\n",
       "      <td>0.070002</td>\n",
       "      <td>0.119684</td>\n",
       "      <td>-0.032520</td>\n",
       "      <td>0.041887</td>\n",
       "      <td>0.025594</td>\n",
       "      <td>-0.027106</td>\n",
       "      <td>0.091193</td>\n",
       "      <td>-0.101434</td>\n",
       "      <td>0.013310</td>\n",
       "    </tr>\n",
       "    <tr>\n",
       "      <th>Dist_Hospital</th>\n",
       "      <td>0.795513</td>\n",
       "      <td>0.621458</td>\n",
       "      <td>1.000000</td>\n",
       "      <td>0.012221</td>\n",
       "      <td>0.012501</td>\n",
       "      <td>0.046897</td>\n",
       "      <td>0.133424</td>\n",
       "      <td>-0.070787</td>\n",
       "      <td>0.095172</td>\n",
       "      <td>0.032512</td>\n",
       "      <td>-0.041444</td>\n",
       "      <td>0.057047</td>\n",
       "      <td>-0.071797</td>\n",
       "      <td>0.017592</td>\n",
       "    </tr>\n",
       "    <tr>\n",
       "      <th>Carpet</th>\n",
       "      <td>0.009567</td>\n",
       "      <td>-0.019532</td>\n",
       "      <td>0.012221</td>\n",
       "      <td>1.000000</td>\n",
       "      <td>0.998885</td>\n",
       "      <td>-0.044216</td>\n",
       "      <td>0.089532</td>\n",
       "      <td>0.062863</td>\n",
       "      <td>0.004933</td>\n",
       "      <td>-0.042770</td>\n",
       "      <td>-0.017366</td>\n",
       "      <td>-0.053989</td>\n",
       "      <td>0.048914</td>\n",
       "      <td>0.004488</td>\n",
       "    </tr>\n",
       "    <tr>\n",
       "      <th>Builtup</th>\n",
       "      <td>0.009135</td>\n",
       "      <td>-0.019080</td>\n",
       "      <td>0.012501</td>\n",
       "      <td>0.998885</td>\n",
       "      <td>1.000000</td>\n",
       "      <td>-0.044194</td>\n",
       "      <td>0.090396</td>\n",
       "      <td>0.063610</td>\n",
       "      <td>0.004566</td>\n",
       "      <td>-0.045495</td>\n",
       "      <td>-0.015296</td>\n",
       "      <td>-0.053108</td>\n",
       "      <td>0.048464</td>\n",
       "      <td>0.004029</td>\n",
       "    </tr>\n",
       "    <tr>\n",
       "      <th>Rainfall</th>\n",
       "      <td>0.013658</td>\n",
       "      <td>0.070002</td>\n",
       "      <td>0.046897</td>\n",
       "      <td>-0.044216</td>\n",
       "      <td>-0.044194</td>\n",
       "      <td>1.000000</td>\n",
       "      <td>0.013431</td>\n",
       "      <td>0.015692</td>\n",
       "      <td>-0.055569</td>\n",
       "      <td>-0.029515</td>\n",
       "      <td>0.054542</td>\n",
       "      <td>0.033504</td>\n",
       "      <td>-0.014883</td>\n",
       "      <td>-0.019966</td>\n",
       "    </tr>\n",
       "    <tr>\n",
       "      <th>House_Price</th>\n",
       "      <td>0.105436</td>\n",
       "      <td>0.119684</td>\n",
       "      <td>0.133424</td>\n",
       "      <td>0.089532</td>\n",
       "      <td>0.090396</td>\n",
       "      <td>0.013431</td>\n",
       "      <td>1.000000</td>\n",
       "      <td>0.116426</td>\n",
       "      <td>-0.074770</td>\n",
       "      <td>-0.047725</td>\n",
       "      <td>0.002322</td>\n",
       "      <td>0.638224</td>\n",
       "      <td>-0.188684</td>\n",
       "      <td>-0.485644</td>\n",
       "    </tr>\n",
       "    <tr>\n",
       "      <th>Parking_Covered</th>\n",
       "      <td>-0.074152</td>\n",
       "      <td>-0.032520</td>\n",
       "      <td>-0.070787</td>\n",
       "      <td>0.062863</td>\n",
       "      <td>0.063610</td>\n",
       "      <td>0.015692</td>\n",
       "      <td>0.116426</td>\n",
       "      <td>1.000000</td>\n",
       "      <td>-0.215766</td>\n",
       "      <td>-0.288619</td>\n",
       "      <td>-0.404266</td>\n",
       "      <td>0.049658</td>\n",
       "      <td>-0.061242</td>\n",
       "      <td>0.013919</td>\n",
       "    </tr>\n",
       "    <tr>\n",
       "      <th>Parking_No Parking</th>\n",
       "      <td>0.076657</td>\n",
       "      <td>0.041887</td>\n",
       "      <td>0.095172</td>\n",
       "      <td>0.004933</td>\n",
       "      <td>0.004566</td>\n",
       "      <td>-0.055569</td>\n",
       "      <td>-0.074770</td>\n",
       "      <td>-0.215766</td>\n",
       "      <td>1.000000</td>\n",
       "      <td>-0.247713</td>\n",
       "      <td>-0.346969</td>\n",
       "      <td>-0.002412</td>\n",
       "      <td>-0.020310</td>\n",
       "      <td>0.025182</td>\n",
       "    </tr>\n",
       "    <tr>\n",
       "      <th>Parking_Not Provided</th>\n",
       "      <td>0.042658</td>\n",
       "      <td>0.025594</td>\n",
       "      <td>0.032512</td>\n",
       "      <td>-0.042770</td>\n",
       "      <td>-0.045495</td>\n",
       "      <td>-0.029515</td>\n",
       "      <td>-0.047725</td>\n",
       "      <td>-0.288619</td>\n",
       "      <td>-0.247713</td>\n",
       "      <td>1.000000</td>\n",
       "      <td>-0.464122</td>\n",
       "      <td>0.007308</td>\n",
       "      <td>0.008676</td>\n",
       "      <td>-0.017595</td>\n",
       "    </tr>\n",
       "    <tr>\n",
       "      <th>Parking_Open</th>\n",
       "      <td>-0.033906</td>\n",
       "      <td>-0.027106</td>\n",
       "      <td>-0.041444</td>\n",
       "      <td>-0.017366</td>\n",
       "      <td>-0.015296</td>\n",
       "      <td>0.054542</td>\n",
       "      <td>0.002322</td>\n",
       "      <td>-0.404266</td>\n",
       "      <td>-0.346969</td>\n",
       "      <td>-0.464122</td>\n",
       "      <td>1.000000</td>\n",
       "      <td>-0.045392</td>\n",
       "      <td>0.057633</td>\n",
       "      <td>-0.014557</td>\n",
       "    </tr>\n",
       "    <tr>\n",
       "      <th>City_Category_CAT A</th>\n",
       "      <td>0.024183</td>\n",
       "      <td>0.091193</td>\n",
       "      <td>0.057047</td>\n",
       "      <td>-0.053989</td>\n",
       "      <td>-0.053108</td>\n",
       "      <td>0.033504</td>\n",
       "      <td>0.638224</td>\n",
       "      <td>0.049658</td>\n",
       "      <td>-0.002412</td>\n",
       "      <td>0.007308</td>\n",
       "      <td>-0.045392</td>\n",
       "      <td>1.000000</td>\n",
       "      <td>-0.586824</td>\n",
       "      <td>-0.437573</td>\n",
       "    </tr>\n",
       "    <tr>\n",
       "      <th>City_Category_CAT B</th>\n",
       "      <td>-0.048911</td>\n",
       "      <td>-0.101434</td>\n",
       "      <td>-0.071797</td>\n",
       "      <td>0.048914</td>\n",
       "      <td>0.048464</td>\n",
       "      <td>-0.014883</td>\n",
       "      <td>-0.188684</td>\n",
       "      <td>-0.061242</td>\n",
       "      <td>-0.020310</td>\n",
       "      <td>0.008676</td>\n",
       "      <td>0.057633</td>\n",
       "      <td>-0.586824</td>\n",
       "      <td>1.000000</td>\n",
       "      <td>-0.471303</td>\n",
       "    </tr>\n",
       "    <tr>\n",
       "      <th>City_Category_CAT C</th>\n",
       "      <td>0.027975</td>\n",
       "      <td>0.013310</td>\n",
       "      <td>0.017592</td>\n",
       "      <td>0.004488</td>\n",
       "      <td>0.004029</td>\n",
       "      <td>-0.019966</td>\n",
       "      <td>-0.485644</td>\n",
       "      <td>0.013919</td>\n",
       "      <td>0.025182</td>\n",
       "      <td>-0.017595</td>\n",
       "      <td>-0.014557</td>\n",
       "      <td>-0.437573</td>\n",
       "      <td>-0.471303</td>\n",
       "      <td>1.000000</td>\n",
       "    </tr>\n",
       "  </tbody>\n",
       "</table>\n",
       "</div>"
      ],
      "text/plain": [
       "                      Dist_Taxi  Dist_Market  Dist_Hospital    Carpet  \\\n",
       "Dist_Taxi              1.000000     0.453358       0.795513  0.009567   \n",
       "Dist_Market            0.453358     1.000000       0.621458 -0.019532   \n",
       "Dist_Hospital          0.795513     0.621458       1.000000  0.012221   \n",
       "Carpet                 0.009567    -0.019532       0.012221  1.000000   \n",
       "Builtup                0.009135    -0.019080       0.012501  0.998885   \n",
       "Rainfall               0.013658     0.070002       0.046897 -0.044216   \n",
       "House_Price            0.105436     0.119684       0.133424  0.089532   \n",
       "Parking_Covered       -0.074152    -0.032520      -0.070787  0.062863   \n",
       "Parking_No Parking     0.076657     0.041887       0.095172  0.004933   \n",
       "Parking_Not Provided   0.042658     0.025594       0.032512 -0.042770   \n",
       "Parking_Open          -0.033906    -0.027106      -0.041444 -0.017366   \n",
       "City_Category_CAT A    0.024183     0.091193       0.057047 -0.053989   \n",
       "City_Category_CAT B   -0.048911    -0.101434      -0.071797  0.048914   \n",
       "City_Category_CAT C    0.027975     0.013310       0.017592  0.004488   \n",
       "\n",
       "                       Builtup  Rainfall  House_Price  Parking_Covered  \\\n",
       "Dist_Taxi             0.009135  0.013658     0.105436        -0.074152   \n",
       "Dist_Market          -0.019080  0.070002     0.119684        -0.032520   \n",
       "Dist_Hospital         0.012501  0.046897     0.133424        -0.070787   \n",
       "Carpet                0.998885 -0.044216     0.089532         0.062863   \n",
       "Builtup               1.000000 -0.044194     0.090396         0.063610   \n",
       "Rainfall             -0.044194  1.000000     0.013431         0.015692   \n",
       "House_Price           0.090396  0.013431     1.000000         0.116426   \n",
       "Parking_Covered       0.063610  0.015692     0.116426         1.000000   \n",
       "Parking_No Parking    0.004566 -0.055569    -0.074770        -0.215766   \n",
       "Parking_Not Provided -0.045495 -0.029515    -0.047725        -0.288619   \n",
       "Parking_Open         -0.015296  0.054542     0.002322        -0.404266   \n",
       "City_Category_CAT A  -0.053108  0.033504     0.638224         0.049658   \n",
       "City_Category_CAT B   0.048464 -0.014883    -0.188684        -0.061242   \n",
       "City_Category_CAT C   0.004029 -0.019966    -0.485644         0.013919   \n",
       "\n",
       "                      Parking_No Parking  Parking_Not Provided  Parking_Open  \\\n",
       "Dist_Taxi                       0.076657              0.042658     -0.033906   \n",
       "Dist_Market                     0.041887              0.025594     -0.027106   \n",
       "Dist_Hospital                   0.095172              0.032512     -0.041444   \n",
       "Carpet                          0.004933             -0.042770     -0.017366   \n",
       "Builtup                         0.004566             -0.045495     -0.015296   \n",
       "Rainfall                       -0.055569             -0.029515      0.054542   \n",
       "House_Price                    -0.074770             -0.047725      0.002322   \n",
       "Parking_Covered                -0.215766             -0.288619     -0.404266   \n",
       "Parking_No Parking              1.000000             -0.247713     -0.346969   \n",
       "Parking_Not Provided           -0.247713              1.000000     -0.464122   \n",
       "Parking_Open                   -0.346969             -0.464122      1.000000   \n",
       "City_Category_CAT A            -0.002412              0.007308     -0.045392   \n",
       "City_Category_CAT B            -0.020310              0.008676      0.057633   \n",
       "City_Category_CAT C             0.025182             -0.017595     -0.014557   \n",
       "\n",
       "                      City_Category_CAT A  City_Category_CAT B  \\\n",
       "Dist_Taxi                        0.024183            -0.048911   \n",
       "Dist_Market                      0.091193            -0.101434   \n",
       "Dist_Hospital                    0.057047            -0.071797   \n",
       "Carpet                          -0.053989             0.048914   \n",
       "Builtup                         -0.053108             0.048464   \n",
       "Rainfall                         0.033504            -0.014883   \n",
       "House_Price                      0.638224            -0.188684   \n",
       "Parking_Covered                  0.049658            -0.061242   \n",
       "Parking_No Parking              -0.002412            -0.020310   \n",
       "Parking_Not Provided             0.007308             0.008676   \n",
       "Parking_Open                    -0.045392             0.057633   \n",
       "City_Category_CAT A              1.000000            -0.586824   \n",
       "City_Category_CAT B             -0.586824             1.000000   \n",
       "City_Category_CAT C             -0.437573            -0.471303   \n",
       "\n",
       "                      City_Category_CAT C  \n",
       "Dist_Taxi                        0.027975  \n",
       "Dist_Market                      0.013310  \n",
       "Dist_Hospital                    0.017592  \n",
       "Carpet                           0.004488  \n",
       "Builtup                          0.004029  \n",
       "Rainfall                        -0.019966  \n",
       "House_Price                     -0.485644  \n",
       "Parking_Covered                  0.013919  \n",
       "Parking_No Parking               0.025182  \n",
       "Parking_Not Provided            -0.017595  \n",
       "Parking_Open                    -0.014557  \n",
       "City_Category_CAT A             -0.437573  \n",
       "City_Category_CAT B             -0.471303  \n",
       "City_Category_CAT C              1.000000  "
      ]
     },
     "execution_count": 19,
     "metadata": {},
     "output_type": "execute_result"
    }
   ],
   "source": [
    "df_dum.corr()"
   ]
  },
  {
   "cell_type": "markdown",
   "metadata": {
    "papermill": {
     "duration": 0.039485,
     "end_time": "2021-03-15T17:30:40.609423",
     "exception": false,
     "start_time": "2021-03-15T17:30:40.569938",
     "status": "completed"
    },
    "tags": []
   },
   "source": [
    "Basis on degree of freedom, doing feature selection to remove 1 level in both the categorical data"
   ]
  },
  {
   "cell_type": "code",
   "execution_count": 20,
   "metadata": {
    "execution": {
     "iopub.execute_input": "2021-03-15T17:30:40.692311Z",
     "iopub.status.busy": "2021-03-15T17:30:40.691626Z",
     "iopub.status.idle": "2021-03-15T17:30:40.716489Z",
     "shell.execute_reply": "2021-03-15T17:30:40.717072Z"
    },
    "papermill": {
     "duration": 0.068043,
     "end_time": "2021-03-15T17:30:40.717255",
     "exception": false,
     "start_time": "2021-03-15T17:30:40.649212",
     "status": "completed"
    },
    "tags": []
   },
   "outputs": [
    {
     "data": {
      "text/html": [
       "<div>\n",
       "<style scoped>\n",
       "    .dataframe tbody tr th:only-of-type {\n",
       "        vertical-align: middle;\n",
       "    }\n",
       "\n",
       "    .dataframe tbody tr th {\n",
       "        vertical-align: top;\n",
       "    }\n",
       "\n",
       "    .dataframe thead th {\n",
       "        text-align: right;\n",
       "    }\n",
       "</style>\n",
       "<table border=\"1\" class=\"dataframe\">\n",
       "  <thead>\n",
       "    <tr style=\"text-align: right;\">\n",
       "      <th></th>\n",
       "      <th>Dist_Taxi</th>\n",
       "      <th>Dist_Market</th>\n",
       "      <th>Dist_Hospital</th>\n",
       "      <th>Carpet</th>\n",
       "      <th>Builtup</th>\n",
       "      <th>Rainfall</th>\n",
       "      <th>House_Price</th>\n",
       "      <th>Parking_Covered</th>\n",
       "      <th>Parking_No Parking</th>\n",
       "      <th>Parking_Not Provided</th>\n",
       "      <th>City_Category_CAT A</th>\n",
       "      <th>City_Category_CAT B</th>\n",
       "    </tr>\n",
       "  </thead>\n",
       "  <tbody>\n",
       "    <tr>\n",
       "      <th>0</th>\n",
       "      <td>9796.0</td>\n",
       "      <td>5250.0</td>\n",
       "      <td>10703.0</td>\n",
       "      <td>1659.0</td>\n",
       "      <td>1961.0</td>\n",
       "      <td>530</td>\n",
       "      <td>6649000</td>\n",
       "      <td>0</td>\n",
       "      <td>0</td>\n",
       "      <td>0</td>\n",
       "      <td>0</td>\n",
       "      <td>1</td>\n",
       "    </tr>\n",
       "    <tr>\n",
       "      <th>1</th>\n",
       "      <td>8294.0</td>\n",
       "      <td>8186.0</td>\n",
       "      <td>12694.0</td>\n",
       "      <td>1461.0</td>\n",
       "      <td>1752.0</td>\n",
       "      <td>210</td>\n",
       "      <td>3982000</td>\n",
       "      <td>0</td>\n",
       "      <td>0</td>\n",
       "      <td>1</td>\n",
       "      <td>0</td>\n",
       "      <td>1</td>\n",
       "    </tr>\n",
       "    <tr>\n",
       "      <th>2</th>\n",
       "      <td>11001.0</td>\n",
       "      <td>14399.0</td>\n",
       "      <td>16991.0</td>\n",
       "      <td>1340.0</td>\n",
       "      <td>1609.0</td>\n",
       "      <td>720</td>\n",
       "      <td>5401000</td>\n",
       "      <td>0</td>\n",
       "      <td>0</td>\n",
       "      <td>1</td>\n",
       "      <td>1</td>\n",
       "      <td>0</td>\n",
       "    </tr>\n",
       "    <tr>\n",
       "      <th>3</th>\n",
       "      <td>8301.0</td>\n",
       "      <td>11188.0</td>\n",
       "      <td>12289.0</td>\n",
       "      <td>1451.0</td>\n",
       "      <td>1748.0</td>\n",
       "      <td>620</td>\n",
       "      <td>5373000</td>\n",
       "      <td>1</td>\n",
       "      <td>0</td>\n",
       "      <td>0</td>\n",
       "      <td>0</td>\n",
       "      <td>1</td>\n",
       "    </tr>\n",
       "    <tr>\n",
       "      <th>4</th>\n",
       "      <td>10510.0</td>\n",
       "      <td>12629.0</td>\n",
       "      <td>13921.0</td>\n",
       "      <td>1770.0</td>\n",
       "      <td>2111.0</td>\n",
       "      <td>450</td>\n",
       "      <td>4662000</td>\n",
       "      <td>0</td>\n",
       "      <td>0</td>\n",
       "      <td>1</td>\n",
       "      <td>0</td>\n",
       "      <td>1</td>\n",
       "    </tr>\n",
       "    <tr>\n",
       "      <th>...</th>\n",
       "      <td>...</td>\n",
       "      <td>...</td>\n",
       "      <td>...</td>\n",
       "      <td>...</td>\n",
       "      <td>...</td>\n",
       "      <td>...</td>\n",
       "      <td>...</td>\n",
       "      <td>...</td>\n",
       "      <td>...</td>\n",
       "      <td>...</td>\n",
       "      <td>...</td>\n",
       "      <td>...</td>\n",
       "    </tr>\n",
       "    <tr>\n",
       "      <th>927</th>\n",
       "      <td>12176.0</td>\n",
       "      <td>8518.0</td>\n",
       "      <td>15673.0</td>\n",
       "      <td>1582.0</td>\n",
       "      <td>1910.0</td>\n",
       "      <td>1080</td>\n",
       "      <td>6639000</td>\n",
       "      <td>1</td>\n",
       "      <td>0</td>\n",
       "      <td>0</td>\n",
       "      <td>0</td>\n",
       "      <td>0</td>\n",
       "    </tr>\n",
       "    <tr>\n",
       "      <th>928</th>\n",
       "      <td>7214.0</td>\n",
       "      <td>8717.0</td>\n",
       "      <td>10553.0</td>\n",
       "      <td>1387.0</td>\n",
       "      <td>1663.0</td>\n",
       "      <td>850</td>\n",
       "      <td>8208000</td>\n",
       "      <td>0</td>\n",
       "      <td>0</td>\n",
       "      <td>0</td>\n",
       "      <td>1</td>\n",
       "      <td>0</td>\n",
       "    </tr>\n",
       "    <tr>\n",
       "      <th>929</th>\n",
       "      <td>7423.0</td>\n",
       "      <td>11708.0</td>\n",
       "      <td>13220.0</td>\n",
       "      <td>1200.0</td>\n",
       "      <td>1436.0</td>\n",
       "      <td>1060</td>\n",
       "      <td>7644000</td>\n",
       "      <td>0</td>\n",
       "      <td>0</td>\n",
       "      <td>0</td>\n",
       "      <td>1</td>\n",
       "      <td>0</td>\n",
       "    </tr>\n",
       "    <tr>\n",
       "      <th>930</th>\n",
       "      <td>15082.0</td>\n",
       "      <td>14700.0</td>\n",
       "      <td>19617.0</td>\n",
       "      <td>1299.0</td>\n",
       "      <td>1560.0</td>\n",
       "      <td>770</td>\n",
       "      <td>9661000</td>\n",
       "      <td>0</td>\n",
       "      <td>0</td>\n",
       "      <td>0</td>\n",
       "      <td>0</td>\n",
       "      <td>1</td>\n",
       "    </tr>\n",
       "    <tr>\n",
       "      <th>931</th>\n",
       "      <td>9297.0</td>\n",
       "      <td>12537.0</td>\n",
       "      <td>14418.0</td>\n",
       "      <td>1174.0</td>\n",
       "      <td>1429.0</td>\n",
       "      <td>1110</td>\n",
       "      <td>5434000</td>\n",
       "      <td>1</td>\n",
       "      <td>0</td>\n",
       "      <td>0</td>\n",
       "      <td>0</td>\n",
       "      <td>0</td>\n",
       "    </tr>\n",
       "  </tbody>\n",
       "</table>\n",
       "<p>896 rows × 12 columns</p>\n",
       "</div>"
      ],
      "text/plain": [
       "     Dist_Taxi  Dist_Market  Dist_Hospital  Carpet  Builtup  Rainfall  \\\n",
       "0       9796.0       5250.0        10703.0  1659.0   1961.0       530   \n",
       "1       8294.0       8186.0        12694.0  1461.0   1752.0       210   \n",
       "2      11001.0      14399.0        16991.0  1340.0   1609.0       720   \n",
       "3       8301.0      11188.0        12289.0  1451.0   1748.0       620   \n",
       "4      10510.0      12629.0        13921.0  1770.0   2111.0       450   \n",
       "..         ...          ...            ...     ...      ...       ...   \n",
       "927    12176.0       8518.0        15673.0  1582.0   1910.0      1080   \n",
       "928     7214.0       8717.0        10553.0  1387.0   1663.0       850   \n",
       "929     7423.0      11708.0        13220.0  1200.0   1436.0      1060   \n",
       "930    15082.0      14700.0        19617.0  1299.0   1560.0       770   \n",
       "931     9297.0      12537.0        14418.0  1174.0   1429.0      1110   \n",
       "\n",
       "     House_Price  Parking_Covered  Parking_No Parking  Parking_Not Provided  \\\n",
       "0        6649000                0                   0                     0   \n",
       "1        3982000                0                   0                     1   \n",
       "2        5401000                0                   0                     1   \n",
       "3        5373000                1                   0                     0   \n",
       "4        4662000                0                   0                     1   \n",
       "..           ...              ...                 ...                   ...   \n",
       "927      6639000                1                   0                     0   \n",
       "928      8208000                0                   0                     0   \n",
       "929      7644000                0                   0                     0   \n",
       "930      9661000                0                   0                     0   \n",
       "931      5434000                1                   0                     0   \n",
       "\n",
       "     City_Category_CAT A  City_Category_CAT B  \n",
       "0                      0                    1  \n",
       "1                      0                    1  \n",
       "2                      1                    0  \n",
       "3                      0                    1  \n",
       "4                      0                    1  \n",
       "..                   ...                  ...  \n",
       "927                    0                    0  \n",
       "928                    1                    0  \n",
       "929                    1                    0  \n",
       "930                    0                    1  \n",
       "931                    0                    0  \n",
       "\n",
       "[896 rows x 12 columns]"
      ]
     },
     "execution_count": 20,
     "metadata": {},
     "output_type": "execute_result"
    }
   ],
   "source": [
    "df_dum = df_dum.drop(['Parking_Open','City_Category_CAT C'],axis = 1)\n",
    "df_dum"
   ]
  },
  {
   "cell_type": "markdown",
   "metadata": {
    "papermill": {
     "duration": 0.040307,
     "end_time": "2021-03-15T17:30:40.799349",
     "exception": false,
     "start_time": "2021-03-15T17:30:40.759042",
     "status": "completed"
    },
    "tags": []
   },
   "source": [
    "Now we will divide the dataset into dependent and independent varaibles\n"
   ]
  },
  {
   "cell_type": "code",
   "execution_count": 21,
   "metadata": {
    "execution": {
     "iopub.execute_input": "2021-03-15T17:30:40.906587Z",
     "iopub.status.busy": "2021-03-15T17:30:40.896532Z",
     "iopub.status.idle": "2021-03-15T17:30:40.914287Z",
     "shell.execute_reply": "2021-03-15T17:30:40.914832Z"
    },
    "papermill": {
     "duration": 0.075423,
     "end_time": "2021-03-15T17:30:40.915029",
     "exception": false,
     "start_time": "2021-03-15T17:30:40.839606",
     "status": "completed"
    },
    "tags": []
   },
   "outputs": [
    {
     "data": {
      "text/html": [
       "<div>\n",
       "<style scoped>\n",
       "    .dataframe tbody tr th:only-of-type {\n",
       "        vertical-align: middle;\n",
       "    }\n",
       "\n",
       "    .dataframe tbody tr th {\n",
       "        vertical-align: top;\n",
       "    }\n",
       "\n",
       "    .dataframe thead th {\n",
       "        text-align: right;\n",
       "    }\n",
       "</style>\n",
       "<table border=\"1\" class=\"dataframe\">\n",
       "  <thead>\n",
       "    <tr style=\"text-align: right;\">\n",
       "      <th></th>\n",
       "      <th>Dist_Taxi</th>\n",
       "      <th>Dist_Market</th>\n",
       "      <th>Dist_Hospital</th>\n",
       "      <th>Carpet</th>\n",
       "      <th>Builtup</th>\n",
       "      <th>Rainfall</th>\n",
       "      <th>Parking_Covered</th>\n",
       "      <th>Parking_No Parking</th>\n",
       "      <th>Parking_Not Provided</th>\n",
       "      <th>City_Category_CAT A</th>\n",
       "      <th>City_Category_CAT B</th>\n",
       "    </tr>\n",
       "  </thead>\n",
       "  <tbody>\n",
       "    <tr>\n",
       "      <th>0</th>\n",
       "      <td>9796.0</td>\n",
       "      <td>5250.0</td>\n",
       "      <td>10703.0</td>\n",
       "      <td>1659.0</td>\n",
       "      <td>1961.0</td>\n",
       "      <td>530</td>\n",
       "      <td>0</td>\n",
       "      <td>0</td>\n",
       "      <td>0</td>\n",
       "      <td>0</td>\n",
       "      <td>1</td>\n",
       "    </tr>\n",
       "    <tr>\n",
       "      <th>1</th>\n",
       "      <td>8294.0</td>\n",
       "      <td>8186.0</td>\n",
       "      <td>12694.0</td>\n",
       "      <td>1461.0</td>\n",
       "      <td>1752.0</td>\n",
       "      <td>210</td>\n",
       "      <td>0</td>\n",
       "      <td>0</td>\n",
       "      <td>1</td>\n",
       "      <td>0</td>\n",
       "      <td>1</td>\n",
       "    </tr>\n",
       "    <tr>\n",
       "      <th>2</th>\n",
       "      <td>11001.0</td>\n",
       "      <td>14399.0</td>\n",
       "      <td>16991.0</td>\n",
       "      <td>1340.0</td>\n",
       "      <td>1609.0</td>\n",
       "      <td>720</td>\n",
       "      <td>0</td>\n",
       "      <td>0</td>\n",
       "      <td>1</td>\n",
       "      <td>1</td>\n",
       "      <td>0</td>\n",
       "    </tr>\n",
       "    <tr>\n",
       "      <th>3</th>\n",
       "      <td>8301.0</td>\n",
       "      <td>11188.0</td>\n",
       "      <td>12289.0</td>\n",
       "      <td>1451.0</td>\n",
       "      <td>1748.0</td>\n",
       "      <td>620</td>\n",
       "      <td>1</td>\n",
       "      <td>0</td>\n",
       "      <td>0</td>\n",
       "      <td>0</td>\n",
       "      <td>1</td>\n",
       "    </tr>\n",
       "    <tr>\n",
       "      <th>4</th>\n",
       "      <td>10510.0</td>\n",
       "      <td>12629.0</td>\n",
       "      <td>13921.0</td>\n",
       "      <td>1770.0</td>\n",
       "      <td>2111.0</td>\n",
       "      <td>450</td>\n",
       "      <td>0</td>\n",
       "      <td>0</td>\n",
       "      <td>1</td>\n",
       "      <td>0</td>\n",
       "      <td>1</td>\n",
       "    </tr>\n",
       "    <tr>\n",
       "      <th>...</th>\n",
       "      <td>...</td>\n",
       "      <td>...</td>\n",
       "      <td>...</td>\n",
       "      <td>...</td>\n",
       "      <td>...</td>\n",
       "      <td>...</td>\n",
       "      <td>...</td>\n",
       "      <td>...</td>\n",
       "      <td>...</td>\n",
       "      <td>...</td>\n",
       "      <td>...</td>\n",
       "    </tr>\n",
       "    <tr>\n",
       "      <th>927</th>\n",
       "      <td>12176.0</td>\n",
       "      <td>8518.0</td>\n",
       "      <td>15673.0</td>\n",
       "      <td>1582.0</td>\n",
       "      <td>1910.0</td>\n",
       "      <td>1080</td>\n",
       "      <td>1</td>\n",
       "      <td>0</td>\n",
       "      <td>0</td>\n",
       "      <td>0</td>\n",
       "      <td>0</td>\n",
       "    </tr>\n",
       "    <tr>\n",
       "      <th>928</th>\n",
       "      <td>7214.0</td>\n",
       "      <td>8717.0</td>\n",
       "      <td>10553.0</td>\n",
       "      <td>1387.0</td>\n",
       "      <td>1663.0</td>\n",
       "      <td>850</td>\n",
       "      <td>0</td>\n",
       "      <td>0</td>\n",
       "      <td>0</td>\n",
       "      <td>1</td>\n",
       "      <td>0</td>\n",
       "    </tr>\n",
       "    <tr>\n",
       "      <th>929</th>\n",
       "      <td>7423.0</td>\n",
       "      <td>11708.0</td>\n",
       "      <td>13220.0</td>\n",
       "      <td>1200.0</td>\n",
       "      <td>1436.0</td>\n",
       "      <td>1060</td>\n",
       "      <td>0</td>\n",
       "      <td>0</td>\n",
       "      <td>0</td>\n",
       "      <td>1</td>\n",
       "      <td>0</td>\n",
       "    </tr>\n",
       "    <tr>\n",
       "      <th>930</th>\n",
       "      <td>15082.0</td>\n",
       "      <td>14700.0</td>\n",
       "      <td>19617.0</td>\n",
       "      <td>1299.0</td>\n",
       "      <td>1560.0</td>\n",
       "      <td>770</td>\n",
       "      <td>0</td>\n",
       "      <td>0</td>\n",
       "      <td>0</td>\n",
       "      <td>0</td>\n",
       "      <td>1</td>\n",
       "    </tr>\n",
       "    <tr>\n",
       "      <th>931</th>\n",
       "      <td>9297.0</td>\n",
       "      <td>12537.0</td>\n",
       "      <td>14418.0</td>\n",
       "      <td>1174.0</td>\n",
       "      <td>1429.0</td>\n",
       "      <td>1110</td>\n",
       "      <td>1</td>\n",
       "      <td>0</td>\n",
       "      <td>0</td>\n",
       "      <td>0</td>\n",
       "      <td>0</td>\n",
       "    </tr>\n",
       "  </tbody>\n",
       "</table>\n",
       "<p>896 rows × 11 columns</p>\n",
       "</div>"
      ],
      "text/plain": [
       "     Dist_Taxi  Dist_Market  Dist_Hospital  Carpet  Builtup  Rainfall  \\\n",
       "0       9796.0       5250.0        10703.0  1659.0   1961.0       530   \n",
       "1       8294.0       8186.0        12694.0  1461.0   1752.0       210   \n",
       "2      11001.0      14399.0        16991.0  1340.0   1609.0       720   \n",
       "3       8301.0      11188.0        12289.0  1451.0   1748.0       620   \n",
       "4      10510.0      12629.0        13921.0  1770.0   2111.0       450   \n",
       "..         ...          ...            ...     ...      ...       ...   \n",
       "927    12176.0       8518.0        15673.0  1582.0   1910.0      1080   \n",
       "928     7214.0       8717.0        10553.0  1387.0   1663.0       850   \n",
       "929     7423.0      11708.0        13220.0  1200.0   1436.0      1060   \n",
       "930    15082.0      14700.0        19617.0  1299.0   1560.0       770   \n",
       "931     9297.0      12537.0        14418.0  1174.0   1429.0      1110   \n",
       "\n",
       "     Parking_Covered  Parking_No Parking  Parking_Not Provided  \\\n",
       "0                  0                   0                     0   \n",
       "1                  0                   0                     1   \n",
       "2                  0                   0                     1   \n",
       "3                  1                   0                     0   \n",
       "4                  0                   0                     1   \n",
       "..               ...                 ...                   ...   \n",
       "927                1                   0                     0   \n",
       "928                0                   0                     0   \n",
       "929                0                   0                     0   \n",
       "930                0                   0                     0   \n",
       "931                1                   0                     0   \n",
       "\n",
       "     City_Category_CAT A  City_Category_CAT B  \n",
       "0                      0                    1  \n",
       "1                      0                    1  \n",
       "2                      1                    0  \n",
       "3                      0                    1  \n",
       "4                      0                    1  \n",
       "..                   ...                  ...  \n",
       "927                    0                    0  \n",
       "928                    1                    0  \n",
       "929                    1                    0  \n",
       "930                    0                    1  \n",
       "931                    0                    0  \n",
       "\n",
       "[896 rows x 11 columns]"
      ]
     },
     "execution_count": 21,
     "metadata": {},
     "output_type": "execute_result"
    }
   ],
   "source": [
    "# Independent variable\n",
    "X = df_dum.drop('House_Price',axis=1)\n",
    "X"
   ]
  },
  {
   "cell_type": "code",
   "execution_count": 22,
   "metadata": {
    "execution": {
     "iopub.execute_input": "2021-03-15T17:30:41.001233Z",
     "iopub.status.busy": "2021-03-15T17:30:41.000499Z",
     "iopub.status.idle": "2021-03-15T17:30:41.007186Z",
     "shell.execute_reply": "2021-03-15T17:30:41.007670Z"
    },
    "papermill": {
     "duration": 0.051071,
     "end_time": "2021-03-15T17:30:41.007896",
     "exception": false,
     "start_time": "2021-03-15T17:30:40.956825",
     "status": "completed"
    },
    "tags": []
   },
   "outputs": [
    {
     "data": {
      "text/plain": [
       "0      6649000\n",
       "1      3982000\n",
       "2      5401000\n",
       "3      5373000\n",
       "4      4662000\n",
       "        ...   \n",
       "927    6639000\n",
       "928    8208000\n",
       "929    7644000\n",
       "930    9661000\n",
       "931    5434000\n",
       "Name: House_Price, Length: 896, dtype: int64"
      ]
     },
     "execution_count": 22,
     "metadata": {},
     "output_type": "execute_result"
    }
   ],
   "source": [
    "# Dependent Variable\n",
    "Y = df_dum['House_Price']\n",
    "Y"
   ]
  },
  {
   "cell_type": "markdown",
   "metadata": {
    "papermill": {
     "duration": 0.042469,
     "end_time": "2021-03-15T17:30:41.094189",
     "exception": false,
     "start_time": "2021-03-15T17:30:41.051720",
     "status": "completed"
    },
    "tags": []
   },
   "source": [
    "Now we will split the data into Training and Testing data"
   ]
  },
  {
   "cell_type": "code",
   "execution_count": 23,
   "metadata": {
    "execution": {
     "iopub.execute_input": "2021-03-15T17:30:41.186051Z",
     "iopub.status.busy": "2021-03-15T17:30:41.185143Z",
     "iopub.status.idle": "2021-03-15T17:30:41.477687Z",
     "shell.execute_reply": "2021-03-15T17:30:41.477094Z"
    },
    "papermill": {
     "duration": 0.338727,
     "end_time": "2021-03-15T17:30:41.477849",
     "exception": false,
     "start_time": "2021-03-15T17:30:41.139122",
     "status": "completed"
    },
    "tags": []
   },
   "outputs": [],
   "source": [
    "from sklearn.model_selection import train_test_split"
   ]
  },
  {
   "cell_type": "code",
   "execution_count": 24,
   "metadata": {
    "execution": {
     "iopub.execute_input": "2021-03-15T17:30:41.572638Z",
     "iopub.status.busy": "2021-03-15T17:30:41.571617Z",
     "iopub.status.idle": "2021-03-15T17:30:41.578253Z",
     "shell.execute_reply": "2021-03-15T17:30:41.577546Z"
    },
    "papermill": {
     "duration": 0.058069,
     "end_time": "2021-03-15T17:30:41.578404",
     "exception": false,
     "start_time": "2021-03-15T17:30:41.520335",
     "status": "completed"
    },
    "tags": []
   },
   "outputs": [],
   "source": [
    "train_x, test_x, train_y, test_y = train_test_split(X,Y,test_size=0.3,random_state=99)"
   ]
  },
  {
   "cell_type": "code",
   "execution_count": 25,
   "metadata": {
    "execution": {
     "iopub.execute_input": "2021-03-15T17:30:41.669619Z",
     "iopub.status.busy": "2021-03-15T17:30:41.668714Z",
     "iopub.status.idle": "2021-03-15T17:30:41.674055Z",
     "shell.execute_reply": "2021-03-15T17:30:41.673404Z"
    },
    "papermill": {
     "duration": 0.05346,
     "end_time": "2021-03-15T17:30:41.674209",
     "exception": false,
     "start_time": "2021-03-15T17:30:41.620749",
     "status": "completed"
    },
    "tags": []
   },
   "outputs": [
    {
     "data": {
      "text/plain": [
       "((627, 11), (269, 11), (627,), (269,))"
      ]
     },
     "execution_count": 25,
     "metadata": {},
     "output_type": "execute_result"
    }
   ],
   "source": [
    "train_x.shape,test_x.shape,train_y.shape,test_y.shape"
   ]
  },
  {
   "cell_type": "markdown",
   "metadata": {
    "papermill": {
     "duration": 0.042203,
     "end_time": "2021-03-15T17:30:41.759035",
     "exception": false,
     "start_time": "2021-03-15T17:30:41.716832",
     "status": "completed"
    },
    "tags": []
   },
   "source": [
    "Now after the data is distributed into training and testing data. We will perform Linear Regression on the data."
   ]
  },
  {
   "cell_type": "code",
   "execution_count": 26,
   "metadata": {
    "execution": {
     "iopub.execute_input": "2021-03-15T17:30:41.850517Z",
     "iopub.status.busy": "2021-03-15T17:30:41.849694Z",
     "iopub.status.idle": "2021-03-15T17:30:41.964515Z",
     "shell.execute_reply": "2021-03-15T17:30:41.963782Z"
    },
    "papermill": {
     "duration": 0.162558,
     "end_time": "2021-03-15T17:30:41.964667",
     "exception": false,
     "start_time": "2021-03-15T17:30:41.802109",
     "status": "completed"
    },
    "tags": []
   },
   "outputs": [],
   "source": [
    "from sklearn.linear_model import LinearRegression"
   ]
  },
  {
   "cell_type": "code",
   "execution_count": 27,
   "metadata": {
    "execution": {
     "iopub.execute_input": "2021-03-15T17:30:42.058202Z",
     "iopub.status.busy": "2021-03-15T17:30:42.057219Z",
     "iopub.status.idle": "2021-03-15T17:30:42.060676Z",
     "shell.execute_reply": "2021-03-15T17:30:42.059859Z"
    },
    "papermill": {
     "duration": 0.052925,
     "end_time": "2021-03-15T17:30:42.060835",
     "exception": false,
     "start_time": "2021-03-15T17:30:42.007910",
     "status": "completed"
    },
    "tags": []
   },
   "outputs": [],
   "source": [
    "model = LinearRegression()"
   ]
  },
  {
   "cell_type": "code",
   "execution_count": 28,
   "metadata": {
    "execution": {
     "iopub.execute_input": "2021-03-15T17:30:42.155166Z",
     "iopub.status.busy": "2021-03-15T17:30:42.154350Z",
     "iopub.status.idle": "2021-03-15T17:30:42.172017Z",
     "shell.execute_reply": "2021-03-15T17:30:42.172588Z"
    },
    "papermill": {
     "duration": 0.068873,
     "end_time": "2021-03-15T17:30:42.172763",
     "exception": false,
     "start_time": "2021-03-15T17:30:42.103890",
     "status": "completed"
    },
    "tags": []
   },
   "outputs": [
    {
     "data": {
      "text/plain": [
       "LinearRegression()"
      ]
     },
     "execution_count": 28,
     "metadata": {},
     "output_type": "execute_result"
    }
   ],
   "source": [
    "model.fit(train_x,train_y)"
   ]
  },
  {
   "cell_type": "code",
   "execution_count": 29,
   "metadata": {
    "execution": {
     "iopub.execute_input": "2021-03-15T17:30:42.263161Z",
     "iopub.status.busy": "2021-03-15T17:30:42.262418Z",
     "iopub.status.idle": "2021-03-15T17:30:42.274866Z",
     "shell.execute_reply": "2021-03-15T17:30:42.275447Z"
    },
    "papermill": {
     "duration": 0.058963,
     "end_time": "2021-03-15T17:30:42.275618",
     "exception": false,
     "start_time": "2021-03-15T17:30:42.216655",
     "status": "completed"
    },
    "tags": []
   },
   "outputs": [
    {
     "data": {
      "text/plain": [
       "array([5213079.79717876, 6401098.45152837, 4318701.94329194,\n",
       "       4075044.75309119, 4405874.05161154, 3790227.18197541,\n",
       "       7232587.30587647, 7000920.31832146, 7235516.457118  ,\n",
       "       7931493.38120051, 5641414.92954666, 6329657.12516479,\n",
       "       4088122.36774933, 5567907.54155755, 7752420.00984116,\n",
       "       7040487.1719388 , 7833726.30925018, 5291593.97520999,\n",
       "       4203800.44014293, 5886512.69636956, 5162157.86825931,\n",
       "       5347790.7721907 , 4456695.96995509, 4967580.65869272,\n",
       "       5316007.43089882, 5510803.06479311, 4779566.55609762,\n",
       "       5542966.14730394, 5719036.36640897, 5431379.97216584,\n",
       "       7191782.92768867, 4481349.97776915, 7244448.21493108,\n",
       "       5314687.56321596, 5268235.29996104, 3675475.39765205,\n",
       "       5347499.89989689, 8231810.09214023, 6303714.70859189,\n",
       "       4867132.99729271, 7727307.68526046, 7670046.69160802,\n",
       "       4664095.95917961, 3202846.91126858, 8048125.97859958,\n",
       "       5333186.74808847, 5814874.97246042, 8063567.75645859,\n",
       "       7437806.47086641, 7357517.27273026, 7679717.39111691,\n",
       "       7585041.50044233, 5593374.80656903, 5491817.08595344,\n",
       "       7921620.47336062, 5605699.74452187, 6024707.31803004,\n",
       "       7415095.85838732, 5302302.30735927, 4667402.12170156,\n",
       "       6623443.71501527, 6014708.17679883, 5019589.29486433,\n",
       "       7829683.64214255, 5769694.65756213, 4722766.36245824,\n",
       "       5904961.69521165, 5685676.56024289, 5821326.28083556,\n",
       "       6941983.63672036, 7799728.12163277, 7311920.70553223,\n",
       "       7193011.84490886, 7143312.77916756, 5542045.15637061,\n",
       "       8010527.19192442, 5572469.37505208, 4305371.34370503,\n",
       "       4733722.51314671, 4845107.06604275, 5523842.96032702,\n",
       "       5450164.1574829 , 5603975.47652033, 7459671.32259376,\n",
       "       6661750.13338923, 5094666.97558682, 7637373.91381121,\n",
       "       4232913.92186855, 7977631.81345099, 7092962.01558917,\n",
       "       5843422.4512372 , 5289061.00577875, 7173200.73735781,\n",
       "       6864357.57205502, 4001090.73343454, 5563633.41370812,\n",
       "       4426843.70196633, 5671407.99672576, 5230732.63849838,\n",
       "       4470337.57402746, 4497448.1369728 , 4425753.65509716,\n",
       "       4057448.96280933, 7031217.67534767, 7858333.0660584 ,\n",
       "       6928118.2904693 , 7163696.20716345, 5309107.30236905,\n",
       "       7926858.19426618, 5693426.16703577, 6210324.92042421,\n",
       "       5121065.08412247, 7264070.05489668, 6476989.88506045,\n",
       "       7478762.46551305, 4702503.63749164, 7600639.68030148,\n",
       "       6083035.99418344, 8045412.39086697, 5315120.52510069,\n",
       "       5633841.71857762, 5173722.16719173, 7382723.17277954,\n",
       "       3856844.72932047, 5510552.05024376, 4381316.54915444,\n",
       "       7191505.26079824, 5761750.80238149, 6993991.555956  ,\n",
       "       8077153.80378136, 7220909.245519  , 4721556.02463792,\n",
       "       4299834.79237197, 7828261.75940146, 6072548.00163502,\n",
       "       7450017.87600109, 4563771.87177254, 5018051.75670009,\n",
       "       7330659.90330582, 4903807.29646481, 4828955.41078525,\n",
       "       4780198.19316464, 6936295.74869226, 7876494.47556739,\n",
       "       7630079.3464606 , 4725434.65231098, 5241309.92383975,\n",
       "       4998709.8424629 , 7897320.64072862, 6369568.78925577,\n",
       "       7439663.66799182, 3988420.02658644, 4495219.3929526 ,\n",
       "       7334684.92113021, 7549357.58265243, 5182516.64057903,\n",
       "       7004753.66733381, 4532119.70931145, 4357109.52638355,\n",
       "       8146341.08743513, 4863858.79454366, 7071715.0718949 ,\n",
       "       8069490.54365236, 7497969.7605088 , 5389031.57616084,\n",
       "       6738832.96591765, 6611555.92848281, 6856919.80623096,\n",
       "       4791670.38040382, 4737856.95559692, 3888298.14202669,\n",
       "       4640286.70204173, 5704585.93443769, 7492613.22636784,\n",
       "       4163349.06569732, 7879736.72071593, 5098807.60301423,\n",
       "       5583492.49969794, 6873049.71326556, 7851252.20976546,\n",
       "       4457865.11636429, 7553004.30922916, 3711289.14951635,\n",
       "       7534519.11282963, 6082652.66721575, 7421873.09057563,\n",
       "       4244909.03287511, 7403420.18153069, 5183757.19298958,\n",
       "       7065976.03590757, 4122046.13762551, 5442551.48927646,\n",
       "       7366364.58470137, 4432904.78879412, 5161941.59124062,\n",
       "       4928240.68739888, 7847087.32564142, 5334255.08672634,\n",
       "       5582830.20683348, 5832704.12098027, 7461390.63111151,\n",
       "       3988627.43289931, 4225615.54704495, 7061619.12589438,\n",
       "       7404862.27259592, 7503957.40428189, 5082428.16190741,\n",
       "       4850459.50138236, 4015274.05263771, 6698087.65351917,\n",
       "       6289437.86411314, 5289336.07484954, 5310705.49517766,\n",
       "       5470500.16980027, 3810158.45925194, 5912378.32051902,\n",
       "       7272327.78506346, 5904548.45468176, 4768598.26002702,\n",
       "       4256037.86843598, 4350522.92826534, 5227329.11758731,\n",
       "       7998491.55982974, 7869355.58199864, 4713524.20618623,\n",
       "       6771732.06983539, 3927561.75012974, 4236549.66722888,\n",
       "       4301248.14901252, 5114541.19240541, 6273620.52295335,\n",
       "       4947205.83245102, 4338766.90702622, 7596263.99403025,\n",
       "       7327194.06874969, 7122386.24321664, 7462228.0731773 ,\n",
       "       4606844.29307732, 5351407.5842009 , 5479395.81962669,\n",
       "       7537087.67452969, 4245827.33781807, 4108195.19498671,\n",
       "       7067158.47040313, 7311218.55932816, 8357617.80572308,\n",
       "       7031912.75692019, 4311127.67028786, 4635482.91587257,\n",
       "       7386194.82650243, 4825818.45346787, 4751192.08580204,\n",
       "       7174049.94809158, 5931837.2832841 , 5209636.97652906,\n",
       "       7694814.26652876, 7557259.52569117, 7165807.78169737,\n",
       "       6979682.15553143, 5032709.37490886, 5518679.54957499,\n",
       "       4612175.5162205 , 4693092.44712362, 6779781.19365313,\n",
       "       7447343.53329928, 7711352.12327002, 5029090.39472962,\n",
       "       4460692.34394089, 7327916.76198437])"
      ]
     },
     "execution_count": 29,
     "metadata": {},
     "output_type": "execute_result"
    }
   ],
   "source": [
    "y_pred = model.predict(test_x)\n",
    "y_pred"
   ]
  },
  {
   "cell_type": "markdown",
   "metadata": {
    "papermill": {
     "duration": 0.043865,
     "end_time": "2021-03-15T17:30:42.365148",
     "exception": false,
     "start_time": "2021-03-15T17:30:42.321283",
     "status": "completed"
    },
    "tags": []
   },
   "source": [
    "We will check the accuracy now"
   ]
  },
  {
   "cell_type": "code",
   "execution_count": 30,
   "metadata": {
    "execution": {
     "iopub.execute_input": "2021-03-15T17:30:42.458032Z",
     "iopub.status.busy": "2021-03-15T17:30:42.457294Z",
     "iopub.status.idle": "2021-03-15T17:30:42.462234Z",
     "shell.execute_reply": "2021-03-15T17:30:42.462823Z"
    },
    "papermill": {
     "duration": 0.053016,
     "end_time": "2021-03-15T17:30:42.463030",
     "exception": false,
     "start_time": "2021-03-15T17:30:42.410014",
     "status": "completed"
    },
    "tags": []
   },
   "outputs": [],
   "source": [
    "from sklearn.metrics import r2_score"
   ]
  },
  {
   "cell_type": "code",
   "execution_count": 31,
   "metadata": {
    "execution": {
     "iopub.execute_input": "2021-03-15T17:30:42.557512Z",
     "iopub.status.busy": "2021-03-15T17:30:42.556781Z",
     "iopub.status.idle": "2021-03-15T17:30:42.561991Z",
     "shell.execute_reply": "2021-03-15T17:30:42.561411Z"
    },
    "papermill": {
     "duration": 0.054798,
     "end_time": "2021-03-15T17:30:42.562137",
     "exception": false,
     "start_time": "2021-03-15T17:30:42.507339",
     "status": "completed"
    },
    "tags": []
   },
   "outputs": [
    {
     "data": {
      "text/plain": [
       "0.512717910488099"
      ]
     },
     "execution_count": 31,
     "metadata": {},
     "output_type": "execute_result"
    }
   ],
   "source": [
    "r2_score(test_y,y_pred)"
   ]
  },
  {
   "cell_type": "code",
   "execution_count": null,
   "metadata": {
    "papermill": {
     "duration": 0.044863,
     "end_time": "2021-03-15T17:30:42.652218",
     "exception": false,
     "start_time": "2021-03-15T17:30:42.607355",
     "status": "completed"
    },
    "tags": []
   },
   "outputs": [],
   "source": []
  }
 ],
 "metadata": {
  "kernelspec": {
   "display_name": "Python 3",
   "language": "python",
   "name": "python3"
  },
  "language_info": {
   "codemirror_mode": {
    "name": "ipython",
    "version": 3
   },
   "file_extension": ".py",
   "mimetype": "text/x-python",
   "name": "python",
   "nbconvert_exporter": "python",
   "pygments_lexer": "ipython3",
   "version": "3.7.9"
  },
  "papermill": {
   "default_parameters": {},
   "duration": 13.145532,
   "end_time": "2021-03-15T17:30:43.410064",
   "environment_variables": {},
   "exception": null,
   "input_path": "__notebook__.ipynb",
   "output_path": "__notebook__.ipynb",
   "parameters": {},
   "start_time": "2021-03-15T17:30:30.264532",
   "version": "2.2.2"
  }
 },
 "nbformat": 4,
 "nbformat_minor": 4
}
