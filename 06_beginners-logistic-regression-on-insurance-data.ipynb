{
 "cells": [
  {
   "cell_type": "code",
   "execution_count": 1,
   "id": "superb-eight",
   "metadata": {
    "_cell_guid": "b1076dfc-b9ad-4769-8c92-a6c4dae69d19",
    "_uuid": "8f2839f25d086af736a60e9eeb907d3b93b6e0e5",
    "execution": {
     "iopub.execute_input": "2021-03-17T14:45:40.431977Z",
     "iopub.status.busy": "2021-03-17T14:45:40.431389Z",
     "iopub.status.idle": "2021-03-17T14:45:40.434815Z",
     "shell.execute_reply": "2021-03-17T14:45:40.434058Z"
    },
    "papermill": {
     "duration": 0.023627,
     "end_time": "2021-03-17T14:45:40.435101",
     "exception": false,
     "start_time": "2021-03-17T14:45:40.411474",
     "status": "completed"
    },
    "tags": []
   },
   "outputs": [],
   "source": [
    "# import the libraries\n",
    "import pandas as pd\n",
    "import numpy as np\n",
    "import matplotlib.pyplot as plt"
   ]
  },
  {
   "cell_type": "code",
   "execution_count": 2,
   "id": "liberal-happiness",
   "metadata": {
    "execution": {
     "iopub.execute_input": "2021-03-17T14:45:40.468959Z",
     "iopub.status.busy": "2021-03-17T14:45:40.468303Z",
     "iopub.status.idle": "2021-03-17T14:45:40.512650Z",
     "shell.execute_reply": "2021-03-17T14:45:40.513145Z"
    },
    "papermill": {
     "duration": 0.063905,
     "end_time": "2021-03-17T14:45:40.513351",
     "exception": false,
     "start_time": "2021-03-17T14:45:40.449446",
     "status": "completed"
    },
    "tags": []
   },
   "outputs": [
    {
     "data": {
      "text/html": [
       "<div>\n",
       "<style scoped>\n",
       "    .dataframe tbody tr th:only-of-type {\n",
       "        vertical-align: middle;\n",
       "    }\n",
       "\n",
       "    .dataframe tbody tr th {\n",
       "        vertical-align: top;\n",
       "    }\n",
       "\n",
       "    .dataframe thead th {\n",
       "        text-align: right;\n",
       "    }\n",
       "</style>\n",
       "<table border=\"1\" class=\"dataframe\">\n",
       "  <thead>\n",
       "    <tr style=\"text-align: right;\">\n",
       "      <th></th>\n",
       "      <th>age</th>\n",
       "      <th>bought_insurance</th>\n",
       "    </tr>\n",
       "  </thead>\n",
       "  <tbody>\n",
       "    <tr>\n",
       "      <th>0</th>\n",
       "      <td>22</td>\n",
       "      <td>0</td>\n",
       "    </tr>\n",
       "    <tr>\n",
       "      <th>1</th>\n",
       "      <td>25</td>\n",
       "      <td>0</td>\n",
       "    </tr>\n",
       "    <tr>\n",
       "      <th>2</th>\n",
       "      <td>47</td>\n",
       "      <td>1</td>\n",
       "    </tr>\n",
       "    <tr>\n",
       "      <th>3</th>\n",
       "      <td>52</td>\n",
       "      <td>0</td>\n",
       "    </tr>\n",
       "    <tr>\n",
       "      <th>4</th>\n",
       "      <td>46</td>\n",
       "      <td>1</td>\n",
       "    </tr>\n",
       "    <tr>\n",
       "      <th>5</th>\n",
       "      <td>56</td>\n",
       "      <td>1</td>\n",
       "    </tr>\n",
       "    <tr>\n",
       "      <th>6</th>\n",
       "      <td>55</td>\n",
       "      <td>0</td>\n",
       "    </tr>\n",
       "    <tr>\n",
       "      <th>7</th>\n",
       "      <td>60</td>\n",
       "      <td>1</td>\n",
       "    </tr>\n",
       "    <tr>\n",
       "      <th>8</th>\n",
       "      <td>62</td>\n",
       "      <td>1</td>\n",
       "    </tr>\n",
       "    <tr>\n",
       "      <th>9</th>\n",
       "      <td>61</td>\n",
       "      <td>1</td>\n",
       "    </tr>\n",
       "    <tr>\n",
       "      <th>10</th>\n",
       "      <td>18</td>\n",
       "      <td>0</td>\n",
       "    </tr>\n",
       "    <tr>\n",
       "      <th>11</th>\n",
       "      <td>28</td>\n",
       "      <td>0</td>\n",
       "    </tr>\n",
       "    <tr>\n",
       "      <th>12</th>\n",
       "      <td>27</td>\n",
       "      <td>0</td>\n",
       "    </tr>\n",
       "    <tr>\n",
       "      <th>13</th>\n",
       "      <td>29</td>\n",
       "      <td>0</td>\n",
       "    </tr>\n",
       "    <tr>\n",
       "      <th>14</th>\n",
       "      <td>49</td>\n",
       "      <td>1</td>\n",
       "    </tr>\n",
       "    <tr>\n",
       "      <th>15</th>\n",
       "      <td>55</td>\n",
       "      <td>1</td>\n",
       "    </tr>\n",
       "    <tr>\n",
       "      <th>16</th>\n",
       "      <td>25</td>\n",
       "      <td>1</td>\n",
       "    </tr>\n",
       "    <tr>\n",
       "      <th>17</th>\n",
       "      <td>58</td>\n",
       "      <td>1</td>\n",
       "    </tr>\n",
       "    <tr>\n",
       "      <th>18</th>\n",
       "      <td>19</td>\n",
       "      <td>0</td>\n",
       "    </tr>\n",
       "    <tr>\n",
       "      <th>19</th>\n",
       "      <td>18</td>\n",
       "      <td>0</td>\n",
       "    </tr>\n",
       "    <tr>\n",
       "      <th>20</th>\n",
       "      <td>21</td>\n",
       "      <td>0</td>\n",
       "    </tr>\n",
       "    <tr>\n",
       "      <th>21</th>\n",
       "      <td>26</td>\n",
       "      <td>0</td>\n",
       "    </tr>\n",
       "    <tr>\n",
       "      <th>22</th>\n",
       "      <td>40</td>\n",
       "      <td>1</td>\n",
       "    </tr>\n",
       "    <tr>\n",
       "      <th>23</th>\n",
       "      <td>45</td>\n",
       "      <td>1</td>\n",
       "    </tr>\n",
       "    <tr>\n",
       "      <th>24</th>\n",
       "      <td>50</td>\n",
       "      <td>1</td>\n",
       "    </tr>\n",
       "    <tr>\n",
       "      <th>25</th>\n",
       "      <td>54</td>\n",
       "      <td>1</td>\n",
       "    </tr>\n",
       "    <tr>\n",
       "      <th>26</th>\n",
       "      <td>23</td>\n",
       "      <td>0</td>\n",
       "    </tr>\n",
       "  </tbody>\n",
       "</table>\n",
       "</div>"
      ],
      "text/plain": [
       "    age  bought_insurance\n",
       "0    22                 0\n",
       "1    25                 0\n",
       "2    47                 1\n",
       "3    52                 0\n",
       "4    46                 1\n",
       "5    56                 1\n",
       "6    55                 0\n",
       "7    60                 1\n",
       "8    62                 1\n",
       "9    61                 1\n",
       "10   18                 0\n",
       "11   28                 0\n",
       "12   27                 0\n",
       "13   29                 0\n",
       "14   49                 1\n",
       "15   55                 1\n",
       "16   25                 1\n",
       "17   58                 1\n",
       "18   19                 0\n",
       "19   18                 0\n",
       "20   21                 0\n",
       "21   26                 0\n",
       "22   40                 1\n",
       "23   45                 1\n",
       "24   50                 1\n",
       "25   54                 1\n",
       "26   23                 0"
      ]
     },
     "execution_count": 2,
     "metadata": {},
     "output_type": "execute_result"
    }
   ],
   "source": [
    "# import the data\n",
    "df = pd.read_csv('../input/insurance-dataset/insurance_data.csv')\n",
    "df"
   ]
  },
  {
   "cell_type": "markdown",
   "id": "neural-morocco",
   "metadata": {
    "papermill": {
     "duration": 0.013486,
     "end_time": "2021-03-17T14:45:40.540948",
     "exception": false,
     "start_time": "2021-03-17T14:45:40.527462",
     "status": "completed"
    },
    "tags": []
   },
   "source": [
    "Let us check that how the data is distributed using scatter plot."
   ]
  },
  {
   "cell_type": "code",
   "execution_count": 3,
   "id": "abandoned-granny",
   "metadata": {
    "execution": {
     "iopub.execute_input": "2021-03-17T14:45:40.573019Z",
     "iopub.status.busy": "2021-03-17T14:45:40.572029Z",
     "iopub.status.idle": "2021-03-17T14:45:40.744373Z",
     "shell.execute_reply": "2021-03-17T14:45:40.743693Z"
    },
    "papermill": {
     "duration": 0.189786,
     "end_time": "2021-03-17T14:45:40.744546",
     "exception": false,
     "start_time": "2021-03-17T14:45:40.554760",
     "status": "completed"
    },
    "tags": []
   },
   "outputs": [
    {
     "data": {
      "text/plain": [
       "<matplotlib.collections.PathCollection at 0x7f8684c591d0>"
      ]
     },
     "execution_count": 3,
     "metadata": {},
     "output_type": "execute_result"
    },
    {
     "data": {
      "image/png": "[encoded data removed]",
      "text/plain": [
       "<Figure size 432x288 with 1 Axes>"
      ]
     },
     "metadata": {
      "needs_background": "light"
     },
     "output_type": "display_data"
    }
   ],
   "source": [
    "plt.scatter(df['age'],df['bought_insurance'],marker='+',color = 'purple')"
   ]
  },
  {
   "cell_type": "markdown",
   "id": "coated-pilot",
   "metadata": {
    "papermill": {
     "duration": 0.014806,
     "end_time": "2021-03-17T14:45:40.774541",
     "exception": false,
     "start_time": "2021-03-17T14:45:40.759735",
     "status": "completed"
    },
    "tags": []
   },
   "source": [
    "Now we will divide the data into independent and dependent variable"
   ]
  },
  {
   "cell_type": "code",
   "execution_count": 4,
   "id": "banned-pencil",
   "metadata": {
    "execution": {
     "iopub.execute_input": "2021-03-17T14:45:40.812840Z",
     "iopub.status.busy": "2021-03-17T14:45:40.812077Z",
     "iopub.status.idle": "2021-03-17T14:45:40.816059Z",
     "shell.execute_reply": "2021-03-17T14:45:40.815528Z"
    },
    "papermill": {
     "duration": 0.026524,
     "end_time": "2021-03-17T14:45:40.816235",
     "exception": false,
     "start_time": "2021-03-17T14:45:40.789711",
     "status": "completed"
    },
    "tags": []
   },
   "outputs": [
    {
     "data": {
      "text/plain": [
       "array([[22],\n",
       "       [25],\n",
       "       [47],\n",
       "       [52],\n",
       "       [46],\n",
       "       [56],\n",
       "       [55],\n",
       "       [60],\n",
       "       [62],\n",
       "       [61],\n",
       "       [18],\n",
       "       [28],\n",
       "       [27],\n",
       "       [29],\n",
       "       [49],\n",
       "       [55],\n",
       "       [25],\n",
       "       [58],\n",
       "       [19],\n",
       "       [18],\n",
       "       [21],\n",
       "       [26],\n",
       "       [40],\n",
       "       [45],\n",
       "       [50],\n",
       "       [54],\n",
       "       [23]])"
      ]
     },
     "execution_count": 4,
     "metadata": {},
     "output_type": "execute_result"
    }
   ],
   "source": [
    "# independent variable\n",
    "X = df['age'].values.reshape(-1,1)\n",
    "X"
   ]
  },
  {
   "cell_type": "code",
   "execution_count": 5,
   "id": "becoming-barbados",
   "metadata": {
    "execution": {
     "iopub.execute_input": "2021-03-17T14:45:40.855065Z",
     "iopub.status.busy": "2021-03-17T14:45:40.854025Z",
     "iopub.status.idle": "2021-03-17T14:45:40.858023Z",
     "shell.execute_reply": "2021-03-17T14:45:40.858584Z"
    },
    "papermill": {
     "duration": 0.026994,
     "end_time": "2021-03-17T14:45:40.858783",
     "exception": false,
     "start_time": "2021-03-17T14:45:40.831789",
     "status": "completed"
    },
    "tags": []
   },
   "outputs": [
    {
     "data": {
      "text/plain": [
       "array([[0],\n",
       "       [0],\n",
       "       [1],\n",
       "       [0],\n",
       "       [1],\n",
       "       [1],\n",
       "       [0],\n",
       "       [1],\n",
       "       [1],\n",
       "       [1],\n",
       "       [0],\n",
       "       [0],\n",
       "       [0],\n",
       "       [0],\n",
       "       [1],\n",
       "       [1],\n",
       "       [1],\n",
       "       [1],\n",
       "       [0],\n",
       "       [0],\n",
       "       [0],\n",
       "       [0],\n",
       "       [1],\n",
       "       [1],\n",
       "       [1],\n",
       "       [1],\n",
       "       [0]])"
      ]
     },
     "execution_count": 5,
     "metadata": {},
     "output_type": "execute_result"
    }
   ],
   "source": [
    "# dependent variable\n",
    "Y = df['bought_insurance'].values.reshape(-1,1)\n",
    "Y"
   ]
  },
  {
   "cell_type": "markdown",
   "id": "charged-newspaper",
   "metadata": {
    "papermill": {
     "duration": 0.018298,
     "end_time": "2021-03-17T14:45:40.895239",
     "exception": false,
     "start_time": "2021-03-17T14:45:40.876941",
     "status": "completed"
    },
    "tags": []
   },
   "source": [
    "Now we will divide the data into training and testing data"
   ]
  },
  {
   "cell_type": "code",
   "execution_count": 6,
   "id": "pointed-disorder",
   "metadata": {
    "execution": {
     "iopub.execute_input": "2021-03-17T14:45:40.933896Z",
     "iopub.status.busy": "2021-03-17T14:45:40.932937Z",
     "iopub.status.idle": "2021-03-17T14:45:42.305908Z",
     "shell.execute_reply": "2021-03-17T14:45:42.306465Z"
    },
    "papermill": {
     "duration": 1.39554,
     "end_time": "2021-03-17T14:45:42.306699",
     "exception": false,
     "start_time": "2021-03-17T14:45:40.911159",
     "status": "completed"
    },
    "tags": []
   },
   "outputs": [],
   "source": [
    "from sklearn.model_selection import train_test_split"
   ]
  },
  {
   "cell_type": "code",
   "execution_count": 7,
   "id": "level-shannon",
   "metadata": {
    "execution": {
     "iopub.execute_input": "2021-03-17T14:45:42.345523Z",
     "iopub.status.busy": "2021-03-17T14:45:42.344392Z",
     "iopub.status.idle": "2021-03-17T14:45:42.350679Z",
     "shell.execute_reply": "2021-03-17T14:45:42.351209Z"
    },
    "papermill": {
     "duration": 0.028043,
     "end_time": "2021-03-17T14:45:42.351432",
     "exception": false,
     "start_time": "2021-03-17T14:45:42.323389",
     "status": "completed"
    },
    "tags": []
   },
   "outputs": [],
   "source": [
    "train_x, test_x, train_y, test_y = train_test_split(X, Y, test_size=0.3, random_state=99)"
   ]
  },
  {
   "cell_type": "markdown",
   "id": "inside-lucas",
   "metadata": {
    "papermill": {
     "duration": 0.015945,
     "end_time": "2021-03-17T14:45:42.384164",
     "exception": false,
     "start_time": "2021-03-17T14:45:42.368219",
     "status": "completed"
    },
    "tags": []
   },
   "source": [
    "Now we will perform Logistic Regression on the data"
   ]
  },
  {
   "cell_type": "code",
   "execution_count": 8,
   "id": "helpful-weapon",
   "metadata": {
    "execution": {
     "iopub.execute_input": "2021-03-17T14:45:42.422613Z",
     "iopub.status.busy": "2021-03-17T14:45:42.421806Z",
     "iopub.status.idle": "2021-03-17T14:45:42.557477Z",
     "shell.execute_reply": "2021-03-17T14:45:42.558210Z"
    },
    "papermill": {
     "duration": 0.157965,
     "end_time": "2021-03-17T14:45:42.558449",
     "exception": false,
     "start_time": "2021-03-17T14:45:42.400484",
     "status": "completed"
    },
    "tags": []
   },
   "outputs": [],
   "source": [
    "from sklearn.linear_model import LogisticRegression"
   ]
  },
  {
   "cell_type": "code",
   "execution_count": 9,
   "id": "laden-edinburgh",
   "metadata": {
    "execution": {
     "iopub.execute_input": "2021-03-17T14:45:42.596766Z",
     "iopub.status.busy": "2021-03-17T14:45:42.595966Z",
     "iopub.status.idle": "2021-03-17T14:45:42.600648Z",
     "shell.execute_reply": "2021-03-17T14:45:42.599947Z"
    },
    "papermill": {
     "duration": 0.024686,
     "end_time": "2021-03-17T14:45:42.600804",
     "exception": false,
     "start_time": "2021-03-17T14:45:42.576118",
     "status": "completed"
    },
    "tags": []
   },
   "outputs": [],
   "source": [
    "lr = LogisticRegression()"
   ]
  },
  {
   "cell_type": "code",
   "execution_count": 10,
   "id": "faced-process",
   "metadata": {
    "execution": {
     "iopub.execute_input": "2021-03-17T14:45:42.637989Z",
     "iopub.status.busy": "2021-03-17T14:45:42.637314Z",
     "iopub.status.idle": "2021-03-17T14:45:42.662412Z",
     "shell.execute_reply": "2021-03-17T14:45:42.661470Z"
    },
    "papermill": {
     "duration": 0.04529,
     "end_time": "2021-03-17T14:45:42.662827",
     "exception": false,
     "start_time": "2021-03-17T14:45:42.617537",
     "status": "completed"
    },
    "tags": []
   },
   "outputs": [
    {
     "name": "stderr",
     "output_type": "stream",
     "text": [
      "/opt/conda/lib/python3.7/site-packages/sklearn/utils/validation.py:63: DataConversionWarning: A column-vector y was passed when a 1d array was expected. Please change the shape of y to (n_samples, ), for example using ravel().\n",
      "  return f(*args, **kwargs)\n"
     ]
    },
    {
     "data": {
      "text/plain": [
       "LogisticRegression()"
      ]
     },
     "execution_count": 10,
     "metadata": {},
     "output_type": "execute_result"
    }
   ],
   "source": [
    "lr.fit(train_x,train_y)"
   ]
  },
  {
   "cell_type": "code",
   "execution_count": 11,
   "id": "favorite-ghost",
   "metadata": {
    "execution": {
     "iopub.execute_input": "2021-03-17T14:45:42.705066Z",
     "iopub.status.busy": "2021-03-17T14:45:42.704376Z",
     "iopub.status.idle": "2021-03-17T14:45:42.707393Z",
     "shell.execute_reply": "2021-03-17T14:45:42.706862Z"
    },
    "papermill": {
     "duration": 0.026045,
     "end_time": "2021-03-17T14:45:42.707548",
     "exception": false,
     "start_time": "2021-03-17T14:45:42.681503",
     "status": "completed"
    },
    "tags": []
   },
   "outputs": [],
   "source": [
    "y_pred = lr.predict(test_x)"
   ]
  },
  {
   "cell_type": "code",
   "execution_count": 12,
   "id": "located-greenhouse",
   "metadata": {
    "execution": {
     "iopub.execute_input": "2021-03-17T14:45:42.751632Z",
     "iopub.status.busy": "2021-03-17T14:45:42.750520Z",
     "iopub.status.idle": "2021-03-17T14:45:42.754661Z",
     "shell.execute_reply": "2021-03-17T14:45:42.755108Z"
    },
    "papermill": {
     "duration": 0.030051,
     "end_time": "2021-03-17T14:45:42.755326",
     "exception": false,
     "start_time": "2021-03-17T14:45:42.725275",
     "status": "completed"
    },
    "tags": []
   },
   "outputs": [
    {
     "data": {
      "text/plain": [
       "0.6666666666666666"
      ]
     },
     "execution_count": 12,
     "metadata": {},
     "output_type": "execute_result"
    }
   ],
   "source": [
    "lr.score(test_y,y_pred)"
   ]
  },
  {
   "cell_type": "markdown",
   "id": "suspected-cardiff",
   "metadata": {
    "papermill": {
     "duration": 0.01763,
     "end_time": "2021-03-17T14:45:42.791090",
     "exception": false,
     "start_time": "2021-03-17T14:45:42.773460",
     "status": "completed"
    },
    "tags": []
   },
   "source": [
    "We will check the how many are correctly predicted through confusion matrix\n"
   ]
  },
  {
   "cell_type": "code",
   "execution_count": 13,
   "id": "leading-species",
   "metadata": {
    "execution": {
     "iopub.execute_input": "2021-03-17T14:45:42.837976Z",
     "iopub.status.busy": "2021-03-17T14:45:42.836848Z",
     "iopub.status.idle": "2021-03-17T14:45:42.841860Z",
     "shell.execute_reply": "2021-03-17T14:45:42.841211Z"
    },
    "papermill": {
     "duration": 0.032945,
     "end_time": "2021-03-17T14:45:42.842021",
     "exception": false,
     "start_time": "2021-03-17T14:45:42.809076",
     "status": "completed"
    },
    "tags": []
   },
   "outputs": [
    {
     "data": {
      "text/plain": [
       "array([[3, 0],\n",
       "       [3, 3]])"
      ]
     },
     "execution_count": 13,
     "metadata": {},
     "output_type": "execute_result"
    }
   ],
   "source": [
    "from sklearn.metrics import confusion_matrix\n",
    "confusion_matrix(test_y,y_pred)"
   ]
  },
  {
   "cell_type": "markdown",
   "id": "marine-metro",
   "metadata": {
    "papermill": {
     "duration": 0.026008,
     "end_time": "2021-03-17T14:45:42.886840",
     "exception": false,
     "start_time": "2021-03-17T14:45:42.860832",
     "status": "completed"
    },
    "tags": []
   },
   "source": [
    "Out of 9 values of testing , 6 values are correctly predicted."
   ]
  },
  {
   "cell_type": "code",
   "execution_count": null,
   "id": "blank-carrier",
   "metadata": {
    "papermill": {
     "duration": 0.023285,
     "end_time": "2021-03-17T14:45:42.933605",
     "exception": false,
     "start_time": "2021-03-17T14:45:42.910320",
     "status": "completed"
    },
    "tags": []
   },
   "outputs": [],
   "source": []
  }
 ],
 "metadata": {
  "kernelspec": {
   "display_name": "Python 3",
   "language": "python",
   "name": "python3"
  },
  "language_info": {
   "codemirror_mode": {
    "name": "ipython",
    "version": 3
   },
   "file_extension": ".py",
   "mimetype": "text/x-python",
   "name": "python",
   "nbconvert_exporter": "python",
   "pygments_lexer": "ipython3",
   "version": "3.7.9"
  },
  "papermill": {
   "default_parameters": {},
   "duration": 10.572167,
   "end_time": "2021-03-17T14:45:43.874336",
   "environment_variables": {},
   "exception": null,
   "input_path": "__notebook__.ipynb",
   "output_path": "__notebook__.ipynb",
   "parameters": {},
   "start_time": "2021-03-17T14:45:33.302169",
   "version": "2.3.2"
  }
 },
 "nbformat": 4,
 "nbformat_minor": 5
}
