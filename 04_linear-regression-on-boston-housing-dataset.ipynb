{
 "cells": [
  {
   "cell_type": "code",
   "execution_count": 1,
   "metadata": {
    "_cell_guid": "b1076dfc-b9ad-4769-8c92-a6c4dae69d19",
    "_uuid": "8f2839f25d086af736a60e9eeb907d3b93b6e0e5",
    "execution": {
     "iopub.execute_input": "2021-03-14T18:40:27.379039Z",
     "iopub.status.busy": "2021-03-14T18:40:27.378372Z",
     "iopub.status.idle": "2021-03-14T18:40:28.486580Z",
     "shell.execute_reply": "2021-03-14T18:40:28.485656Z"
    },
    "papermill": {
     "duration": 1.127811,
     "end_time": "2021-03-14T18:40:28.486798",
     "exception": false,
     "start_time": "2021-03-14T18:40:27.358987",
     "status": "completed"
    },
    "tags": []
   },
   "outputs": [],
   "source": [
    "# libraries\n",
    "import pandas as pd\n",
    "import numpy as np\n",
    "import matplotlib.pyplot as plt\n",
    "from sklearn import datasets"
   ]
  },
  {
   "cell_type": "code",
   "execution_count": 2,
   "metadata": {
    "execution": {
     "iopub.execute_input": "2021-03-14T18:40:28.519484Z",
     "iopub.status.busy": "2021-03-14T18:40:28.518468Z",
     "iopub.status.idle": "2021-03-14T18:40:28.549675Z",
     "shell.execute_reply": "2021-03-14T18:40:28.549129Z"
    },
    "papermill": {
     "duration": 0.049279,
     "end_time": "2021-03-14T18:40:28.549820",
     "exception": false,
     "start_time": "2021-03-14T18:40:28.500541",
     "status": "completed"
    },
    "tags": []
   },
   "outputs": [
    {
     "data": {
      "text/plain": [
       "{'data': array([[6.3200e-03, 1.8000e+01, 2.3100e+00, ..., 1.5300e+01, 3.9690e+02,\n",
       "         4.9800e+00],\n",
       "        [2.7310e-02, 0.0000e+00, 7.0700e+00, ..., 1.7800e+01, 3.9690e+02,\n",
       "         9.1400e+00],\n",
       "        [2.7290e-02, 0.0000e+00, 7.0700e+00, ..., 1.7800e+01, 3.9283e+02,\n",
       "         4.0300e+00],\n",
       "        ...,\n",
       "        [6.0760e-02, 0.0000e+00, 1.1930e+01, ..., 2.1000e+01, 3.9690e+02,\n",
       "         5.6400e+00],\n",
       "        [1.0959e-01, 0.0000e+00, 1.1930e+01, ..., 2.1000e+01, 3.9345e+02,\n",
       "         6.4800e+00],\n",
       "        [4.7410e-02, 0.0000e+00, 1.1930e+01, ..., 2.1000e+01, 3.9690e+02,\n",
       "         7.8800e+00]]),\n",
       " 'target': array([24. , 21.6, 34.7, 33.4, 36.2, 28.7, 22.9, 27.1, 16.5, 18.9, 15. ,\n",
       "        18.9, 21.7, 20.4, 18.2, 19.9, 23.1, 17.5, 20.2, 18.2, 13.6, 19.6,\n",
       "        15.2, 14.5, 15.6, 13.9, 16.6, 14.8, 18.4, 21. , 12.7, 14.5, 13.2,\n",
       "        13.1, 13.5, 18.9, 20. , 21. , 24.7, 30.8, 34.9, 26.6, 25.3, 24.7,\n",
       "        21.2, 19.3, 20. , 16.6, 14.4, 19.4, 19.7, 20.5, 25. , 23.4, 18.9,\n",
       "        35.4, 24.7, 31.6, 23.3, 19.6, 18.7, 16. , 22.2, 25. , 33. , 23.5,\n",
       "        19.4, 22. , 17.4, 20.9, 24.2, 21.7, 22.8, 23.4, 24.1, 21.4, 20. ,\n",
       "        20.8, 21.2, 20.3, 28. , 23.9, 24.8, 22.9, 23.9, 26.6, 22.5, 22.2,\n",
       "        23.6, 28.7, 22.6, 22. , 22.9, 25. , 20.6, 28.4, 21.4, 38.7, 43.8,\n",
       "        33.2, 27.5, 26.5, 18.6, 19.3, 20.1, 19.5, 19.5, 20.4, 19.8, 19.4,\n",
       "        21.7, 22.8, 18.8, 18.7, 18.5, 18.3, 21.2, 19.2, 20.4, 19.3, 22. ,\n",
       "        20.3, 20.5, 17.3, 18.8, 21.4, 15.7, 16.2, 18. , 14.3, 19.2, 19.6,\n",
       "        23. , 18.4, 15.6, 18.1, 17.4, 17.1, 13.3, 17.8, 14. , 14.4, 13.4,\n",
       "        15.6, 11.8, 13.8, 15.6, 14.6, 17.8, 15.4, 21.5, 19.6, 15.3, 19.4,\n",
       "        17. , 15.6, 13.1, 41.3, 24.3, 23.3, 27. , 50. , 50. , 50. , 22.7,\n",
       "        25. , 50. , 23.8, 23.8, 22.3, 17.4, 19.1, 23.1, 23.6, 22.6, 29.4,\n",
       "        23.2, 24.6, 29.9, 37.2, 39.8, 36.2, 37.9, 32.5, 26.4, 29.6, 50. ,\n",
       "        32. , 29.8, 34.9, 37. , 30.5, 36.4, 31.1, 29.1, 50. , 33.3, 30.3,\n",
       "        34.6, 34.9, 32.9, 24.1, 42.3, 48.5, 50. , 22.6, 24.4, 22.5, 24.4,\n",
       "        20. , 21.7, 19.3, 22.4, 28.1, 23.7, 25. , 23.3, 28.7, 21.5, 23. ,\n",
       "        26.7, 21.7, 27.5, 30.1, 44.8, 50. , 37.6, 31.6, 46.7, 31.5, 24.3,\n",
       "        31.7, 41.7, 48.3, 29. , 24. , 25.1, 31.5, 23.7, 23.3, 22. , 20.1,\n",
       "        22.2, 23.7, 17.6, 18.5, 24.3, 20.5, 24.5, 26.2, 24.4, 24.8, 29.6,\n",
       "        42.8, 21.9, 20.9, 44. , 50. , 36. , 30.1, 33.8, 43.1, 48.8, 31. ,\n",
       "        36.5, 22.8, 30.7, 50. , 43.5, 20.7, 21.1, 25.2, 24.4, 35.2, 32.4,\n",
       "        32. , 33.2, 33.1, 29.1, 35.1, 45.4, 35.4, 46. , 50. , 32.2, 22. ,\n",
       "        20.1, 23.2, 22.3, 24.8, 28.5, 37.3, 27.9, 23.9, 21.7, 28.6, 27.1,\n",
       "        20.3, 22.5, 29. , 24.8, 22. , 26.4, 33.1, 36.1, 28.4, 33.4, 28.2,\n",
       "        22.8, 20.3, 16.1, 22.1, 19.4, 21.6, 23.8, 16.2, 17.8, 19.8, 23.1,\n",
       "        21. , 23.8, 23.1, 20.4, 18.5, 25. , 24.6, 23. , 22.2, 19.3, 22.6,\n",
       "        19.8, 17.1, 19.4, 22.2, 20.7, 21.1, 19.5, 18.5, 20.6, 19. , 18.7,\n",
       "        32.7, 16.5, 23.9, 31.2, 17.5, 17.2, 23.1, 24.5, 26.6, 22.9, 24.1,\n",
       "        18.6, 30.1, 18.2, 20.6, 17.8, 21.7, 22.7, 22.6, 25. , 19.9, 20.8,\n",
       "        16.8, 21.9, 27.5, 21.9, 23.1, 50. , 50. , 50. , 50. , 50. , 13.8,\n",
       "        13.8, 15. , 13.9, 13.3, 13.1, 10.2, 10.4, 10.9, 11.3, 12.3,  8.8,\n",
       "         7.2, 10.5,  7.4, 10.2, 11.5, 15.1, 23.2,  9.7, 13.8, 12.7, 13.1,\n",
       "        12.5,  8.5,  5. ,  6.3,  5.6,  7.2, 12.1,  8.3,  8.5,  5. , 11.9,\n",
       "        27.9, 17.2, 27.5, 15. , 17.2, 17.9, 16.3,  7. ,  7.2,  7.5, 10.4,\n",
       "         8.8,  8.4, 16.7, 14.2, 20.8, 13.4, 11.7,  8.3, 10.2, 10.9, 11. ,\n",
       "         9.5, 14.5, 14.1, 16.1, 14.3, 11.7, 13.4,  9.6,  8.7,  8.4, 12.8,\n",
       "        10.5, 17.1, 18.4, 15.4, 10.8, 11.8, 14.9, 12.6, 14.1, 13. , 13.4,\n",
       "        15.2, 16.1, 17.8, 14.9, 14.1, 12.7, 13.5, 14.9, 20. , 16.4, 17.7,\n",
       "        19.5, 20.2, 21.4, 19.9, 19. , 19.1, 19.1, 20.1, 19.9, 19.6, 23.2,\n",
       "        29.8, 13.8, 13.3, 16.7, 12. , 14.6, 21.4, 23. , 23.7, 25. , 21.8,\n",
       "        20.6, 21.2, 19.1, 20.6, 15.2,  7. ,  8.1, 13.6, 20.1, 21.8, 24.5,\n",
       "        23.1, 19.7, 18.3, 21.2, 17.5, 16.8, 22.4, 20.6, 23.9, 22. , 11.9]),\n",
       " 'feature_names': array(['CRIM', 'ZN', 'INDUS', 'CHAS', 'NOX', 'RM', 'AGE', 'DIS', 'RAD',\n",
       "        'TAX', 'PTRATIO', 'B', 'LSTAT'], dtype='<U7'),\n",
       " 'DESCR': \".. _boston_dataset:\\n\\nBoston house prices dataset\\n---------------------------\\n\\n**Data Set Characteristics:**  \\n\\n    :Number of Instances: 506 \\n\\n    :Number of Attributes: 13 numeric/categorical predictive. Median Value (attribute 14) is usually the target.\\n\\n    :Attribute Information (in order):\\n        - CRIM     per capita crime rate by town\\n        - ZN       proportion of residential land zoned for lots over 25,000 sq.ft.\\n        - INDUS    proportion of non-retail business acres per town\\n        - CHAS     Charles River dummy variable (= 1 if tract bounds river; 0 otherwise)\\n        - NOX      nitric oxides concentration (parts per 10 million)\\n        - RM       average number of rooms per dwelling\\n        - AGE      proportion of owner-occupied units built prior to 1940\\n        - DIS      weighted distances to five Boston employment centres\\n        - RAD      index of accessibility to radial highways\\n        - TAX      full-value property-tax rate per $10,000\\n        - PTRATIO  pupil-teacher ratio by town\\n        - B        1000(Bk - 0.63)^2 where Bk is the proportion of blacks by town\\n        - LSTAT    % lower status of the population\\n        - MEDV     Median value of owner-occupied homes in $1000's\\n\\n    :Missing Attribute Values: None\\n\\n    :Creator: Harrison, D. and Rubinfeld, D.L.\\n\\nThis is a copy of UCI ML housing dataset.\\nhttps://archive.ics.uci.edu/ml/machine-learning-databases/housing/\\n\\n\\nThis dataset was taken from the StatLib library which is maintained at Carnegie Mellon University.\\n\\nThe Boston house-price data of Harrison, D. and Rubinfeld, D.L. 'Hedonic\\nprices and the demand for clean air', J. Environ. Economics & Management,\\nvol.5, 81-102, 1978.   Used in Belsley, Kuh & Welsch, 'Regression diagnostics\\n...', Wiley, 1980.   N.B. Various transformations are used in the table on\\npages 244-261 of the latter.\\n\\nThe Boston house-price data has been used in many machine learning papers that address regression\\nproblems.   \\n     \\n.. topic:: References\\n\\n   - Belsley, Kuh & Welsch, 'Regression diagnostics: Identifying Influential Data and Sources of Collinearity', Wiley, 1980. 244-261.\\n   - Quinlan,R. (1993). Combining Instance-Based and Model-Based Learning. In Proceedings on the Tenth International Conference of Machine Learning, 236-243, University of Massachusetts, Amherst. Morgan Kaufmann.\\n\",\n",
       " 'filename': '/opt/conda/lib/python3.7/site-packages/sklearn/datasets/data/boston_house_prices.csv'}"
      ]
     },
     "execution_count": 2,
     "metadata": {},
     "output_type": "execute_result"
    }
   ],
   "source": [
    "boston = datasets.load_boston()\n",
    "boston"
   ]
  },
  {
   "cell_type": "code",
   "execution_count": 3,
   "metadata": {
    "execution": {
     "iopub.execute_input": "2021-03-14T18:40:28.584370Z",
     "iopub.status.busy": "2021-03-14T18:40:28.583570Z",
     "iopub.status.idle": "2021-03-14T18:40:28.586869Z",
     "shell.execute_reply": "2021-03-14T18:40:28.586368Z"
    },
    "papermill": {
     "duration": 0.024307,
     "end_time": "2021-03-14T18:40:28.587083",
     "exception": false,
     "start_time": "2021-03-14T18:40:28.562776",
     "status": "completed"
    },
    "tags": []
   },
   "outputs": [],
   "source": [
    "X = pd.DataFrame(boston.data, columns=boston.feature_names)\n",
    "Y = pd.Series(boston.target)"
   ]
  },
  {
   "cell_type": "code",
   "execution_count": 4,
   "metadata": {
    "execution": {
     "iopub.execute_input": "2021-03-14T18:40:28.619694Z",
     "iopub.status.busy": "2021-03-14T18:40:28.618856Z",
     "iopub.status.idle": "2021-03-14T18:40:28.622988Z",
     "shell.execute_reply": "2021-03-14T18:40:28.622344Z"
    },
    "papermill": {
     "duration": 0.022841,
     "end_time": "2021-03-14T18:40:28.623141",
     "exception": false,
     "start_time": "2021-03-14T18:40:28.600300",
     "status": "completed"
    },
    "tags": []
   },
   "outputs": [
    {
     "data": {
      "text/plain": [
       "(506, 13)"
      ]
     },
     "execution_count": 4,
     "metadata": {},
     "output_type": "execute_result"
    }
   ],
   "source": [
    "X.shape"
   ]
  },
  {
   "cell_type": "code",
   "execution_count": 5,
   "metadata": {
    "execution": {
     "iopub.execute_input": "2021-03-14T18:40:28.655400Z",
     "iopub.status.busy": "2021-03-14T18:40:28.654615Z",
     "iopub.status.idle": "2021-03-14T18:40:28.658974Z",
     "shell.execute_reply": "2021-03-14T18:40:28.659533Z"
    },
    "papermill": {
     "duration": 0.02275,
     "end_time": "2021-03-14T18:40:28.659732",
     "exception": false,
     "start_time": "2021-03-14T18:40:28.636982",
     "status": "completed"
    },
    "tags": []
   },
   "outputs": [
    {
     "data": {
      "text/plain": [
       "(506,)"
      ]
     },
     "execution_count": 5,
     "metadata": {},
     "output_type": "execute_result"
    }
   ],
   "source": [
    "Y.shape"
   ]
  },
  {
   "cell_type": "markdown",
   "metadata": {
    "papermill": {
     "duration": 0.014764,
     "end_time": "2021-03-14T18:40:28.688526",
     "exception": false,
     "start_time": "2021-03-14T18:40:28.673762",
     "status": "completed"
    },
    "tags": []
   },
   "source": [
    "We will split the data into training and testing data"
   ]
  },
  {
   "cell_type": "code",
   "execution_count": 6,
   "metadata": {
    "execution": {
     "iopub.execute_input": "2021-03-14T18:40:28.720869Z",
     "iopub.status.busy": "2021-03-14T18:40:28.720159Z",
     "iopub.status.idle": "2021-03-14T18:40:28.803753Z",
     "shell.execute_reply": "2021-03-14T18:40:28.804323Z"
    },
    "papermill": {
     "duration": 0.101598,
     "end_time": "2021-03-14T18:40:28.804561",
     "exception": false,
     "start_time": "2021-03-14T18:40:28.702963",
     "status": "completed"
    },
    "tags": []
   },
   "outputs": [],
   "source": [
    "from sklearn.model_selection import train_test_split\n",
    "train_x, test_x, train_y, test_y = train_test_split(X,Y,test_size=0.3, random_state=99)"
   ]
  },
  {
   "cell_type": "code",
   "execution_count": 7,
   "metadata": {
    "execution": {
     "iopub.execute_input": "2021-03-14T18:40:28.837362Z",
     "iopub.status.busy": "2021-03-14T18:40:28.836598Z",
     "iopub.status.idle": "2021-03-14T18:40:28.842530Z",
     "shell.execute_reply": "2021-03-14T18:40:28.841993Z"
    },
    "papermill": {
     "duration": 0.023663,
     "end_time": "2021-03-14T18:40:28.842688",
     "exception": false,
     "start_time": "2021-03-14T18:40:28.819025",
     "status": "completed"
    },
    "tags": []
   },
   "outputs": [
    {
     "data": {
      "text/plain": [
       "((354, 13), (152, 13))"
      ]
     },
     "execution_count": 7,
     "metadata": {},
     "output_type": "execute_result"
    }
   ],
   "source": [
    "train_x.shape, test_x.shape"
   ]
  },
  {
   "cell_type": "code",
   "execution_count": 8,
   "metadata": {
    "execution": {
     "iopub.execute_input": "2021-03-14T18:40:28.879812Z",
     "iopub.status.busy": "2021-03-14T18:40:28.878692Z",
     "iopub.status.idle": "2021-03-14T18:40:28.882740Z",
     "shell.execute_reply": "2021-03-14T18:40:28.883316Z"
    },
    "papermill": {
     "duration": 0.026058,
     "end_time": "2021-03-14T18:40:28.883565",
     "exception": false,
     "start_time": "2021-03-14T18:40:28.857507",
     "status": "completed"
    },
    "tags": []
   },
   "outputs": [
    {
     "data": {
      "text/plain": [
       "((354,), (152,))"
      ]
     },
     "execution_count": 8,
     "metadata": {},
     "output_type": "execute_result"
    }
   ],
   "source": [
    "train_y.shape, test_y.shape"
   ]
  },
  {
   "cell_type": "markdown",
   "metadata": {
    "papermill": {
     "duration": 0.017134,
     "end_time": "2021-03-14T18:40:28.922637",
     "exception": false,
     "start_time": "2021-03-14T18:40:28.905503",
     "status": "completed"
    },
    "tags": []
   },
   "source": [
    "Now we will perform Linear Regression"
   ]
  },
  {
   "cell_type": "code",
   "execution_count": 9,
   "metadata": {
    "execution": {
     "iopub.execute_input": "2021-03-14T18:40:28.962129Z",
     "iopub.status.busy": "2021-03-14T18:40:28.961069Z",
     "iopub.status.idle": "2021-03-14T18:40:29.208394Z",
     "shell.execute_reply": "2021-03-14T18:40:29.207763Z"
    },
    "papermill": {
     "duration": 0.269563,
     "end_time": "2021-03-14T18:40:29.208574",
     "exception": false,
     "start_time": "2021-03-14T18:40:28.939011",
     "status": "completed"
    },
    "tags": []
   },
   "outputs": [],
   "source": [
    "from sklearn.linear_model import LinearRegression"
   ]
  },
  {
   "cell_type": "code",
   "execution_count": 10,
   "metadata": {
    "execution": {
     "iopub.execute_input": "2021-03-14T18:40:29.247015Z",
     "iopub.status.busy": "2021-03-14T18:40:29.246403Z",
     "iopub.status.idle": "2021-03-14T18:40:29.249155Z",
     "shell.execute_reply": "2021-03-14T18:40:29.249847Z"
    },
    "papermill": {
     "duration": 0.024717,
     "end_time": "2021-03-14T18:40:29.250024",
     "exception": false,
     "start_time": "2021-03-14T18:40:29.225307",
     "status": "completed"
    },
    "tags": []
   },
   "outputs": [],
   "source": [
    "le = LinearRegression()"
   ]
  },
  {
   "cell_type": "code",
   "execution_count": 11,
   "metadata": {
    "execution": {
     "iopub.execute_input": "2021-03-14T18:40:29.285540Z",
     "iopub.status.busy": "2021-03-14T18:40:29.284835Z",
     "iopub.status.idle": "2021-03-14T18:40:29.313519Z",
     "shell.execute_reply": "2021-03-14T18:40:29.314101Z"
    },
    "papermill": {
     "duration": 0.048176,
     "end_time": "2021-03-14T18:40:29.314338",
     "exception": false,
     "start_time": "2021-03-14T18:40:29.266162",
     "status": "completed"
    },
    "tags": []
   },
   "outputs": [
    {
     "data": {
      "text/plain": [
       "LinearRegression()"
      ]
     },
     "execution_count": 11,
     "metadata": {},
     "output_type": "execute_result"
    }
   ],
   "source": [
    "le.fit(train_x,train_y)"
   ]
  },
  {
   "cell_type": "code",
   "execution_count": 12,
   "metadata": {
    "execution": {
     "iopub.execute_input": "2021-03-14T18:40:29.349658Z",
     "iopub.status.busy": "2021-03-14T18:40:29.348928Z",
     "iopub.status.idle": "2021-03-14T18:40:29.358809Z",
     "shell.execute_reply": "2021-03-14T18:40:29.359390Z"
    },
    "papermill": {
     "duration": 0.029708,
     "end_time": "2021-03-14T18:40:29.359576",
     "exception": false,
     "start_time": "2021-03-14T18:40:29.329868",
     "status": "completed"
    },
    "tags": []
   },
   "outputs": [],
   "source": [
    "y_pred = le.predict(test_x)"
   ]
  },
  {
   "cell_type": "code",
   "execution_count": 13,
   "metadata": {
    "execution": {
     "iopub.execute_input": "2021-03-14T18:40:29.396161Z",
     "iopub.status.busy": "2021-03-14T18:40:29.395500Z",
     "iopub.status.idle": "2021-03-14T18:40:29.405530Z",
     "shell.execute_reply": "2021-03-14T18:40:29.406143Z"
    },
    "papermill": {
     "duration": 0.030937,
     "end_time": "2021-03-14T18:40:29.406428",
     "exception": false,
     "start_time": "2021-03-14T18:40:29.375491",
     "status": "completed"
    },
    "tags": []
   },
   "outputs": [
    {
     "data": {
      "text/plain": [
       "array([34.39031078, 34.72259889, 25.11192059, 24.05948598, 34.85344369,\n",
       "       19.71647316, -0.94642085, 16.42094393, 20.15859285, 18.65624473,\n",
       "       14.32653797, 18.87385899, 10.69911167,  7.76822803, 22.93971095,\n",
       "       20.04547812, 30.95543404, 20.25113863, 31.92360012, 10.52189036,\n",
       "       17.39664587, 15.44779788, 25.14267331, 15.86311431, 16.33805558,\n",
       "       20.28196903, 36.02867414, 19.08031625, 20.74071261, 17.88860356,\n",
       "       34.43537904,  9.25877349, 33.04420723, 11.19042014, 18.84380954,\n",
       "       37.06005811, 29.38576138, 22.52891915, 20.62373546, 26.53042916,\n",
       "       31.04285728, 29.16000635, 24.86817504,  7.45527322, 21.56744256,\n",
       "       15.42608672, 17.94928924, 35.14540916, 28.16210899, 19.59769813,\n",
       "       21.15508599, 31.18307141, 21.20703858, 15.36665682, 20.23800813,\n",
       "       19.68728079,  7.06215433, 40.89733667, 13.62249747, 14.16234538,\n",
       "       -5.73219304, 33.99719978, 20.2408598 , 22.61370004, 29.02216223,\n",
       "       31.94624561, 28.48188328, 24.49561051, 32.79332466, 23.72432408,\n",
       "        2.45050915,  9.59812561, 26.20636389, 33.80349792, 29.47244558,\n",
       "       26.94552886, 24.81235886, 23.36064267, 28.65302703, 21.48288458,\n",
       "       41.23014285, 35.40553582, 30.5567182 , 26.67852175, 14.98298852,\n",
       "       24.38137248, 19.10282363, 27.47184307, 14.22256795, 19.28755338,\n",
       "       23.84078617, 41.60094252,  9.2036653 , 20.1988304 , 19.81758411,\n",
       "       22.06340805, 25.34582049, 29.21717778, 24.36599369, 35.62529814,\n",
       "       19.17851775, 25.16892213, 15.41300173, 30.79573176, 30.61775262,\n",
       "       21.59287797, 27.30361522, 19.78464845, 22.29469265, 18.45007159,\n",
       "       17.04258394, 28.37510392, 35.77229718,  7.12160379, 18.10097129,\n",
       "       33.33532709, 35.40330575, 22.10266602, 22.82316744, 18.05647435,\n",
       "       18.63673251, 18.03237937, 27.27909356, 23.90932767, 30.51807744,\n",
       "       23.37873533, 23.12693284, 21.17366122, 26.9340285 ,  9.96368477,\n",
       "       16.05371251, 34.27237943,  2.53720854, 32.81463063, 24.34516779,\n",
       "       27.66028865,  9.59371851, 20.28219437, 32.80865959, 22.55696557,\n",
       "       19.12669222, 23.13773275, 12.43658524, 21.14958082, 19.4069116 ,\n",
       "       31.37750983, 19.3911542 , 27.95181583, 21.44722241, 17.2543204 ,\n",
       "       16.44245686, 30.96031746])"
      ]
     },
     "execution_count": 13,
     "metadata": {},
     "output_type": "execute_result"
    }
   ],
   "source": [
    "y_pred"
   ]
  },
  {
   "cell_type": "code",
   "execution_count": 14,
   "metadata": {
    "execution": {
     "iopub.execute_input": "2021-03-14T18:40:29.448989Z",
     "iopub.status.busy": "2021-03-14T18:40:29.448297Z",
     "iopub.status.idle": "2021-03-14T18:40:29.472515Z",
     "shell.execute_reply": "2021-03-14T18:40:29.471853Z"
    },
    "papermill": {
     "duration": 0.049709,
     "end_time": "2021-03-14T18:40:29.472679",
     "exception": false,
     "start_time": "2021-03-14T18:40:29.422970",
     "status": "completed"
    },
    "tags": []
   },
   "outputs": [
    {
     "data": {
      "text/html": [
       "<div>\n",
       "<style scoped>\n",
       "    .dataframe tbody tr th:only-of-type {\n",
       "        vertical-align: middle;\n",
       "    }\n",
       "\n",
       "    .dataframe tbody tr th {\n",
       "        vertical-align: top;\n",
       "    }\n",
       "\n",
       "    .dataframe thead th {\n",
       "        text-align: right;\n",
       "    }\n",
       "</style>\n",
       "<table border=\"1\" class=\"dataframe\">\n",
       "  <thead>\n",
       "    <tr style=\"text-align: right;\">\n",
       "      <th></th>\n",
       "      <th>Actual</th>\n",
       "      <th>Predicted</th>\n",
       "    </tr>\n",
       "  </thead>\n",
       "  <tbody>\n",
       "    <tr>\n",
       "      <th>281</th>\n",
       "      <td>35.4</td>\n",
       "      <td>34.390311</td>\n",
       "    </tr>\n",
       "    <tr>\n",
       "      <th>273</th>\n",
       "      <td>35.2</td>\n",
       "      <td>34.722599</td>\n",
       "    </tr>\n",
       "    <tr>\n",
       "      <th>251</th>\n",
       "      <td>24.8</td>\n",
       "      <td>25.111921</td>\n",
       "    </tr>\n",
       "    <tr>\n",
       "      <th>329</th>\n",
       "      <td>22.6</td>\n",
       "      <td>24.059486</td>\n",
       "    </tr>\n",
       "    <tr>\n",
       "      <th>40</th>\n",
       "      <td>34.9</td>\n",
       "      <td>34.853444</td>\n",
       "    </tr>\n",
       "    <tr>\n",
       "      <th>...</th>\n",
       "      <td>...</td>\n",
       "      <td>...</td>\n",
       "    </tr>\n",
       "    <tr>\n",
       "      <th>348</th>\n",
       "      <td>24.5</td>\n",
       "      <td>27.951816</td>\n",
       "    </tr>\n",
       "    <tr>\n",
       "      <th>340</th>\n",
       "      <td>18.7</td>\n",
       "      <td>21.447222</td>\n",
       "    </tr>\n",
       "    <tr>\n",
       "      <th>401</th>\n",
       "      <td>7.2</td>\n",
       "      <td>17.254320</td>\n",
       "    </tr>\n",
       "    <tr>\n",
       "      <th>495</th>\n",
       "      <td>23.1</td>\n",
       "      <td>16.442457</td>\n",
       "    </tr>\n",
       "    <tr>\n",
       "      <th>300</th>\n",
       "      <td>24.8</td>\n",
       "      <td>30.960317</td>\n",
       "    </tr>\n",
       "  </tbody>\n",
       "</table>\n",
       "<p>152 rows × 2 columns</p>\n",
       "</div>"
      ],
      "text/plain": [
       "     Actual  Predicted\n",
       "281    35.4  34.390311\n",
       "273    35.2  34.722599\n",
       "251    24.8  25.111921\n",
       "329    22.6  24.059486\n",
       "40     34.9  34.853444\n",
       "..      ...        ...\n",
       "348    24.5  27.951816\n",
       "340    18.7  21.447222\n",
       "401     7.2  17.254320\n",
       "495    23.1  16.442457\n",
       "300    24.8  30.960317\n",
       "\n",
       "[152 rows x 2 columns]"
      ]
     },
     "execution_count": 14,
     "metadata": {},
     "output_type": "execute_result"
    }
   ],
   "source": [
    "result = pd.DataFrame({'Actual' : test_y, 'Predicted' : y_pred})\n",
    "result"
   ]
  },
  {
   "cell_type": "code",
   "execution_count": 15,
   "metadata": {
    "execution": {
     "iopub.execute_input": "2021-03-14T18:40:29.513420Z",
     "iopub.status.busy": "2021-03-14T18:40:29.511777Z",
     "iopub.status.idle": "2021-03-14T18:40:29.526128Z",
     "shell.execute_reply": "2021-03-14T18:40:29.526772Z"
    },
    "papermill": {
     "duration": 0.03683,
     "end_time": "2021-03-14T18:40:29.526951",
     "exception": false,
     "start_time": "2021-03-14T18:40:29.490121",
     "status": "completed"
    },
    "tags": []
   },
   "outputs": [
    {
     "name": "stdout",
     "output_type": "stream",
     "text": [
      "Coefficient [-1.17377855e-01  5.57762410e-02  2.31319550e-02  2.16442877e+00\n",
      " -1.37021359e+01  3.49073798e+00  4.05349330e-03 -1.50686399e+00\n",
      "  2.94341317e-01 -1.23546855e-02 -9.68733966e-01  7.79823008e-03\n",
      " -6.23490268e-01]\n",
      "Intercept 38.13374090920033\n"
     ]
    }
   ],
   "source": [
    "# check the accuracy\n",
    "print('Coefficient', le.coef_)\n",
    "print('Intercept', le.intercept_)"
   ]
  },
  {
   "cell_type": "code",
   "execution_count": 16,
   "metadata": {
    "execution": {
     "iopub.execute_input": "2021-03-14T18:40:29.567862Z",
     "iopub.status.busy": "2021-03-14T18:40:29.566843Z",
     "iopub.status.idle": "2021-03-14T18:40:29.573855Z",
     "shell.execute_reply": "2021-03-14T18:40:29.574387Z"
    },
    "papermill": {
     "duration": 0.028517,
     "end_time": "2021-03-14T18:40:29.574570",
     "exception": false,
     "start_time": "2021-03-14T18:40:29.546053",
     "status": "completed"
    },
    "tags": []
   },
   "outputs": [
    {
     "data": {
      "text/plain": [
       "27.756163819697804"
      ]
     },
     "execution_count": 16,
     "metadata": {},
     "output_type": "execute_result"
    }
   ],
   "source": [
    "from sklearn.metrics import mean_squared_error, r2_score\n",
    "mean_squared_error(test_y, y_pred)"
   ]
  },
  {
   "cell_type": "code",
   "execution_count": 17,
   "metadata": {
    "execution": {
     "iopub.execute_input": "2021-03-14T18:40:29.614084Z",
     "iopub.status.busy": "2021-03-14T18:40:29.613083Z",
     "iopub.status.idle": "2021-03-14T18:40:29.619520Z",
     "shell.execute_reply": "2021-03-14T18:40:29.620025Z"
    },
    "papermill": {
     "duration": 0.027829,
     "end_time": "2021-03-14T18:40:29.620228",
     "exception": false,
     "start_time": "2021-03-14T18:40:29.592399",
     "status": "completed"
    },
    "tags": []
   },
   "outputs": [
    {
     "data": {
      "text/plain": [
       "0.6721726414424724"
      ]
     },
     "execution_count": 17,
     "metadata": {},
     "output_type": "execute_result"
    }
   ],
   "source": [
    "r2_score(test_y,y_pred)"
   ]
  },
  {
   "cell_type": "code",
   "execution_count": null,
   "metadata": {
    "papermill": {
     "duration": 0.018137,
     "end_time": "2021-03-14T18:40:29.656985",
     "exception": false,
     "start_time": "2021-03-14T18:40:29.638848",
     "status": "completed"
    },
    "tags": []
   },
   "outputs": [],
   "source": []
  }
 ],
 "metadata": {
  "kernelspec": {
   "display_name": "Python 3",
   "language": "python",
   "name": "python3"
  },
  "language_info": {
   "codemirror_mode": {
    "name": "ipython",
    "version": 3
   },
   "file_extension": ".py",
   "mimetype": "text/x-python",
   "name": "python",
   "nbconvert_exporter": "python",
   "pygments_lexer": "ipython3",
   "version": "3.7.9"
  },
  "papermill": {
   "default_parameters": {},
   "duration": 9.313568,
   "end_time": "2021-03-14T18:40:30.588615",
   "environment_variables": {},
   "exception": null,
   "input_path": "__notebook__.ipynb",
   "output_path": "__notebook__.ipynb",
   "parameters": {},
   "start_time": "2021-03-14T18:40:21.275047",
   "version": "2.2.2"
  }
 },
 "nbformat": 4,
 "nbformat_minor": 4
}
