{
 "cells": [
  {
   "cell_type": "markdown",
   "metadata": {
    "papermill": {
     "duration": 0.015263,
     "end_time": "2021-03-13T17:03:53.086952",
     "exception": false,
     "start_time": "2021-03-13T17:03:53.071689",
     "status": "completed"
    },
    "tags": []
   },
   "source": [
    "This is a code for a Simple Linear Regression.\n"
   ]
  },
  {
   "cell_type": "code",
   "execution_count": 1,
   "metadata": {
    "_cell_guid": "b1076dfc-b9ad-4769-8c92-a6c4dae69d19",
    "_uuid": "8f2839f25d086af736a60e9eeb907d3b93b6e0e5",
    "execution": {
     "iopub.execute_input": "2021-03-13T17:03:53.122230Z",
     "iopub.status.busy": "2021-03-13T17:03:53.121402Z",
     "iopub.status.idle": "2021-03-13T17:03:54.291938Z",
     "shell.execute_reply": "2021-03-13T17:03:54.290657Z"
    },
    "papermill": {
     "duration": 1.190302,
     "end_time": "2021-03-13T17:03:54.292163",
     "exception": false,
     "start_time": "2021-03-13T17:03:53.101861",
     "status": "completed"
    },
    "tags": []
   },
   "outputs": [],
   "source": [
    "# import the libraries\n",
    "import pandas as pd\n",
    "import numpy as np\n",
    "import matplotlib.pyplot as plt\n",
    "from sklearn.model_selection import train_test_split\n",
    "from sklearn.linear_model import LinearRegression"
   ]
  },
  {
   "cell_type": "code",
   "execution_count": 2,
   "metadata": {
    "execution": {
     "iopub.execute_input": "2021-03-13T17:03:54.325863Z",
     "iopub.status.busy": "2021-03-13T17:03:54.325176Z",
     "iopub.status.idle": "2021-03-13T17:03:54.380623Z",
     "shell.execute_reply": "2021-03-13T17:03:54.380075Z"
    },
    "papermill": {
     "duration": 0.074009,
     "end_time": "2021-03-13T17:03:54.380774",
     "exception": false,
     "start_time": "2021-03-13T17:03:54.306765",
     "status": "completed"
    },
    "tags": []
   },
   "outputs": [
    {
     "data": {
      "text/html": [
       "<div>\n",
       "<style scoped>\n",
       "    .dataframe tbody tr th:only-of-type {\n",
       "        vertical-align: middle;\n",
       "    }\n",
       "\n",
       "    .dataframe tbody tr th {\n",
       "        vertical-align: top;\n",
       "    }\n",
       "\n",
       "    .dataframe thead th {\n",
       "        text-align: right;\n",
       "    }\n",
       "</style>\n",
       "<table border=\"1\" class=\"dataframe\">\n",
       "  <thead>\n",
       "    <tr style=\"text-align: right;\">\n",
       "      <th></th>\n",
       "      <th>YearsExperience</th>\n",
       "      <th>Salary</th>\n",
       "    </tr>\n",
       "  </thead>\n",
       "  <tbody>\n",
       "    <tr>\n",
       "      <th>0</th>\n",
       "      <td>1.1</td>\n",
       "      <td>39343</td>\n",
       "    </tr>\n",
       "    <tr>\n",
       "      <th>1</th>\n",
       "      <td>1.3</td>\n",
       "      <td>46205</td>\n",
       "    </tr>\n",
       "    <tr>\n",
       "      <th>2</th>\n",
       "      <td>1.5</td>\n",
       "      <td>37731</td>\n",
       "    </tr>\n",
       "    <tr>\n",
       "      <th>3</th>\n",
       "      <td>2.0</td>\n",
       "      <td>43525</td>\n",
       "    </tr>\n",
       "    <tr>\n",
       "      <th>4</th>\n",
       "      <td>2.2</td>\n",
       "      <td>39891</td>\n",
       "    </tr>\n",
       "    <tr>\n",
       "      <th>5</th>\n",
       "      <td>2.9</td>\n",
       "      <td>56642</td>\n",
       "    </tr>\n",
       "    <tr>\n",
       "      <th>6</th>\n",
       "      <td>3.0</td>\n",
       "      <td>60150</td>\n",
       "    </tr>\n",
       "    <tr>\n",
       "      <th>7</th>\n",
       "      <td>3.2</td>\n",
       "      <td>54445</td>\n",
       "    </tr>\n",
       "    <tr>\n",
       "      <th>8</th>\n",
       "      <td>3.2</td>\n",
       "      <td>64445</td>\n",
       "    </tr>\n",
       "    <tr>\n",
       "      <th>9</th>\n",
       "      <td>3.7</td>\n",
       "      <td>57189</td>\n",
       "    </tr>\n",
       "    <tr>\n",
       "      <th>10</th>\n",
       "      <td>3.9</td>\n",
       "      <td>63218</td>\n",
       "    </tr>\n",
       "    <tr>\n",
       "      <th>11</th>\n",
       "      <td>4.0</td>\n",
       "      <td>55794</td>\n",
       "    </tr>\n",
       "    <tr>\n",
       "      <th>12</th>\n",
       "      <td>4.0</td>\n",
       "      <td>56957</td>\n",
       "    </tr>\n",
       "    <tr>\n",
       "      <th>13</th>\n",
       "      <td>4.1</td>\n",
       "      <td>57081</td>\n",
       "    </tr>\n",
       "    <tr>\n",
       "      <th>14</th>\n",
       "      <td>4.5</td>\n",
       "      <td>61111</td>\n",
       "    </tr>\n",
       "    <tr>\n",
       "      <th>15</th>\n",
       "      <td>4.9</td>\n",
       "      <td>67938</td>\n",
       "    </tr>\n",
       "    <tr>\n",
       "      <th>16</th>\n",
       "      <td>5.1</td>\n",
       "      <td>66029</td>\n",
       "    </tr>\n",
       "    <tr>\n",
       "      <th>17</th>\n",
       "      <td>5.3</td>\n",
       "      <td>83088</td>\n",
       "    </tr>\n",
       "    <tr>\n",
       "      <th>18</th>\n",
       "      <td>5.9</td>\n",
       "      <td>81363</td>\n",
       "    </tr>\n",
       "    <tr>\n",
       "      <th>19</th>\n",
       "      <td>6.0</td>\n",
       "      <td>93940</td>\n",
       "    </tr>\n",
       "    <tr>\n",
       "      <th>20</th>\n",
       "      <td>6.8</td>\n",
       "      <td>91738</td>\n",
       "    </tr>\n",
       "    <tr>\n",
       "      <th>21</th>\n",
       "      <td>7.1</td>\n",
       "      <td>98273</td>\n",
       "    </tr>\n",
       "    <tr>\n",
       "      <th>22</th>\n",
       "      <td>7.9</td>\n",
       "      <td>101302</td>\n",
       "    </tr>\n",
       "    <tr>\n",
       "      <th>23</th>\n",
       "      <td>8.2</td>\n",
       "      <td>113812</td>\n",
       "    </tr>\n",
       "    <tr>\n",
       "      <th>24</th>\n",
       "      <td>8.7</td>\n",
       "      <td>109431</td>\n",
       "    </tr>\n",
       "    <tr>\n",
       "      <th>25</th>\n",
       "      <td>9.0</td>\n",
       "      <td>105582</td>\n",
       "    </tr>\n",
       "    <tr>\n",
       "      <th>26</th>\n",
       "      <td>9.5</td>\n",
       "      <td>116969</td>\n",
       "    </tr>\n",
       "    <tr>\n",
       "      <th>27</th>\n",
       "      <td>9.6</td>\n",
       "      <td>112635</td>\n",
       "    </tr>\n",
       "    <tr>\n",
       "      <th>28</th>\n",
       "      <td>10.3</td>\n",
       "      <td>122391</td>\n",
       "    </tr>\n",
       "    <tr>\n",
       "      <th>29</th>\n",
       "      <td>10.5</td>\n",
       "      <td>121872</td>\n",
       "    </tr>\n",
       "    <tr>\n",
       "      <th>30</th>\n",
       "      <td>11.2</td>\n",
       "      <td>127345</td>\n",
       "    </tr>\n",
       "    <tr>\n",
       "      <th>31</th>\n",
       "      <td>11.5</td>\n",
       "      <td>126756</td>\n",
       "    </tr>\n",
       "    <tr>\n",
       "      <th>32</th>\n",
       "      <td>12.3</td>\n",
       "      <td>128765</td>\n",
       "    </tr>\n",
       "    <tr>\n",
       "      <th>33</th>\n",
       "      <td>12.9</td>\n",
       "      <td>135675</td>\n",
       "    </tr>\n",
       "    <tr>\n",
       "      <th>34</th>\n",
       "      <td>13.5</td>\n",
       "      <td>139465</td>\n",
       "    </tr>\n",
       "  </tbody>\n",
       "</table>\n",
       "</div>"
      ],
      "text/plain": [
       "    YearsExperience  Salary\n",
       "0               1.1   39343\n",
       "1               1.3   46205\n",
       "2               1.5   37731\n",
       "3               2.0   43525\n",
       "4               2.2   39891\n",
       "5               2.9   56642\n",
       "6               3.0   60150\n",
       "7               3.2   54445\n",
       "8               3.2   64445\n",
       "9               3.7   57189\n",
       "10              3.9   63218\n",
       "11              4.0   55794\n",
       "12              4.0   56957\n",
       "13              4.1   57081\n",
       "14              4.5   61111\n",
       "15              4.9   67938\n",
       "16              5.1   66029\n",
       "17              5.3   83088\n",
       "18              5.9   81363\n",
       "19              6.0   93940\n",
       "20              6.8   91738\n",
       "21              7.1   98273\n",
       "22              7.9  101302\n",
       "23              8.2  113812\n",
       "24              8.7  109431\n",
       "25              9.0  105582\n",
       "26              9.5  116969\n",
       "27              9.6  112635\n",
       "28             10.3  122391\n",
       "29             10.5  121872\n",
       "30             11.2  127345\n",
       "31             11.5  126756\n",
       "32             12.3  128765\n",
       "33             12.9  135675\n",
       "34             13.5  139465"
      ]
     },
     "execution_count": 2,
     "metadata": {},
     "output_type": "execute_result"
    }
   ],
   "source": [
    "# import the dataset\n",
    "data = pd.read_csv('../input/salary/Salary.csv')\n",
    "data"
   ]
  },
  {
   "cell_type": "code",
   "execution_count": 3,
   "metadata": {
    "execution": {
     "iopub.execute_input": "2021-03-13T17:03:54.420732Z",
     "iopub.status.busy": "2021-03-13T17:03:54.419619Z",
     "iopub.status.idle": "2021-03-13T17:03:54.424265Z",
     "shell.execute_reply": "2021-03-13T17:03:54.423673Z"
    },
    "papermill": {
     "duration": 0.028617,
     "end_time": "2021-03-13T17:03:54.424491",
     "exception": false,
     "start_time": "2021-03-13T17:03:54.395874",
     "status": "completed"
    },
    "tags": []
   },
   "outputs": [
    {
     "data": {
      "text/html": [
       "<div>\n",
       "<style scoped>\n",
       "    .dataframe tbody tr th:only-of-type {\n",
       "        vertical-align: middle;\n",
       "    }\n",
       "\n",
       "    .dataframe tbody tr th {\n",
       "        vertical-align: top;\n",
       "    }\n",
       "\n",
       "    .dataframe thead th {\n",
       "        text-align: right;\n",
       "    }\n",
       "</style>\n",
       "<table border=\"1\" class=\"dataframe\">\n",
       "  <thead>\n",
       "    <tr style=\"text-align: right;\">\n",
       "      <th></th>\n",
       "      <th>YearsExperience</th>\n",
       "      <th>Salary</th>\n",
       "    </tr>\n",
       "  </thead>\n",
       "  <tbody>\n",
       "    <tr>\n",
       "      <th>0</th>\n",
       "      <td>1.1</td>\n",
       "      <td>39343</td>\n",
       "    </tr>\n",
       "    <tr>\n",
       "      <th>1</th>\n",
       "      <td>1.3</td>\n",
       "      <td>46205</td>\n",
       "    </tr>\n",
       "    <tr>\n",
       "      <th>2</th>\n",
       "      <td>1.5</td>\n",
       "      <td>37731</td>\n",
       "    </tr>\n",
       "    <tr>\n",
       "      <th>3</th>\n",
       "      <td>2.0</td>\n",
       "      <td>43525</td>\n",
       "    </tr>\n",
       "    <tr>\n",
       "      <th>4</th>\n",
       "      <td>2.2</td>\n",
       "      <td>39891</td>\n",
       "    </tr>\n",
       "  </tbody>\n",
       "</table>\n",
       "</div>"
      ],
      "text/plain": [
       "   YearsExperience  Salary\n",
       "0              1.1   39343\n",
       "1              1.3   46205\n",
       "2              1.5   37731\n",
       "3              2.0   43525\n",
       "4              2.2   39891"
      ]
     },
     "execution_count": 3,
     "metadata": {},
     "output_type": "execute_result"
    }
   ],
   "source": [
    "data.head()"
   ]
  },
  {
   "cell_type": "markdown",
   "metadata": {
    "papermill": {
     "duration": 0.015201,
     "end_time": "2021-03-13T17:03:54.456888",
     "exception": false,
     "start_time": "2021-03-13T17:03:54.441687",
     "status": "completed"
    },
    "tags": []
   },
   "source": [
    "We will split the data into independent and dependent variable"
   ]
  },
  {
   "cell_type": "code",
   "execution_count": 4,
   "metadata": {
    "execution": {
     "iopub.execute_input": "2021-03-13T17:03:54.491793Z",
     "iopub.status.busy": "2021-03-13T17:03:54.490800Z",
     "iopub.status.idle": "2021-03-13T17:03:54.498200Z",
     "shell.execute_reply": "2021-03-13T17:03:54.498766Z"
    },
    "papermill": {
     "duration": 0.026532,
     "end_time": "2021-03-13T17:03:54.498951",
     "exception": false,
     "start_time": "2021-03-13T17:03:54.472419",
     "status": "completed"
    },
    "tags": []
   },
   "outputs": [
    {
     "data": {
      "text/plain": [
       "array([[ 1.1],\n",
       "       [ 1.3],\n",
       "       [ 1.5],\n",
       "       [ 2. ],\n",
       "       [ 2.2],\n",
       "       [ 2.9],\n",
       "       [ 3. ],\n",
       "       [ 3.2],\n",
       "       [ 3.2],\n",
       "       [ 3.7],\n",
       "       [ 3.9],\n",
       "       [ 4. ],\n",
       "       [ 4. ],\n",
       "       [ 4.1],\n",
       "       [ 4.5],\n",
       "       [ 4.9],\n",
       "       [ 5.1],\n",
       "       [ 5.3],\n",
       "       [ 5.9],\n",
       "       [ 6. ],\n",
       "       [ 6.8],\n",
       "       [ 7.1],\n",
       "       [ 7.9],\n",
       "       [ 8.2],\n",
       "       [ 8.7],\n",
       "       [ 9. ],\n",
       "       [ 9.5],\n",
       "       [ 9.6],\n",
       "       [10.3],\n",
       "       [10.5],\n",
       "       [11.2],\n",
       "       [11.5],\n",
       "       [12.3],\n",
       "       [12.9],\n",
       "       [13.5]])"
      ]
     },
     "execution_count": 4,
     "metadata": {},
     "output_type": "execute_result"
    }
   ],
   "source": [
    "# independent variable\n",
    "real_x = data.iloc[:,0].values.reshape(-1,1)\n",
    "real_x"
   ]
  },
  {
   "cell_type": "code",
   "execution_count": 5,
   "metadata": {
    "execution": {
     "iopub.execute_input": "2021-03-13T17:03:54.534411Z",
     "iopub.status.busy": "2021-03-13T17:03:54.533416Z",
     "iopub.status.idle": "2021-03-13T17:03:54.540351Z",
     "shell.execute_reply": "2021-03-13T17:03:54.540916Z"
    },
    "papermill": {
     "duration": 0.026404,
     "end_time": "2021-03-13T17:03:54.541093",
     "exception": false,
     "start_time": "2021-03-13T17:03:54.514689",
     "status": "completed"
    },
    "tags": []
   },
   "outputs": [
    {
     "data": {
      "text/plain": [
       "array([[ 39343],\n",
       "       [ 46205],\n",
       "       [ 37731],\n",
       "       [ 43525],\n",
       "       [ 39891],\n",
       "       [ 56642],\n",
       "       [ 60150],\n",
       "       [ 54445],\n",
       "       [ 64445],\n",
       "       [ 57189],\n",
       "       [ 63218],\n",
       "       [ 55794],\n",
       "       [ 56957],\n",
       "       [ 57081],\n",
       "       [ 61111],\n",
       "       [ 67938],\n",
       "       [ 66029],\n",
       "       [ 83088],\n",
       "       [ 81363],\n",
       "       [ 93940],\n",
       "       [ 91738],\n",
       "       [ 98273],\n",
       "       [101302],\n",
       "       [113812],\n",
       "       [109431],\n",
       "       [105582],\n",
       "       [116969],\n",
       "       [112635],\n",
       "       [122391],\n",
       "       [121872],\n",
       "       [127345],\n",
       "       [126756],\n",
       "       [128765],\n",
       "       [135675],\n",
       "       [139465]])"
      ]
     },
     "execution_count": 5,
     "metadata": {},
     "output_type": "execute_result"
    }
   ],
   "source": [
    "# dependent variable\n",
    "real_y = data.iloc[:,1].values.reshape(-1,1)\n",
    "real_y"
   ]
  },
  {
   "cell_type": "code",
   "execution_count": 6,
   "metadata": {
    "execution": {
     "iopub.execute_input": "2021-03-13T17:03:54.577881Z",
     "iopub.status.busy": "2021-03-13T17:03:54.576880Z",
     "iopub.status.idle": "2021-03-13T17:03:54.585785Z",
     "shell.execute_reply": "2021-03-13T17:03:54.586285Z"
    },
    "papermill": {
     "duration": 0.028935,
     "end_time": "2021-03-13T17:03:54.586461",
     "exception": false,
     "start_time": "2021-03-13T17:03:54.557526",
     "status": "completed"
    },
    "tags": []
   },
   "outputs": [
    {
     "data": {
      "text/plain": [
       "(array([[ 3.2],\n",
       "        [10.5],\n",
       "        [12.9],\n",
       "        [11.5],\n",
       "        [ 7.9],\n",
       "        [ 3.2],\n",
       "        [ 4. ],\n",
       "        [ 1.1],\n",
       "        [ 1.5],\n",
       "        [ 4. ],\n",
       "        [ 3. ],\n",
       "        [ 5.1],\n",
       "        [10.3],\n",
       "        [ 5.3],\n",
       "        [ 9.6],\n",
       "        [ 2. ],\n",
       "        [ 8.2],\n",
       "        [13.5],\n",
       "        [ 6.8],\n",
       "        [ 2.9],\n",
       "        [ 2.2],\n",
       "        [ 5.9],\n",
       "        [ 3.7],\n",
       "        [ 1.3]]),\n",
       " array([[ 9.5],\n",
       "        [ 6. ],\n",
       "        [ 8.7],\n",
       "        [12.3],\n",
       "        [ 4.1],\n",
       "        [ 7.1],\n",
       "        [ 9. ],\n",
       "        [ 4.9],\n",
       "        [ 4.5],\n",
       "        [11.2],\n",
       "        [ 3.9]]),\n",
       " array([[ 54445],\n",
       "        [121872],\n",
       "        [135675],\n",
       "        [126756],\n",
       "        [101302],\n",
       "        [ 64445],\n",
       "        [ 56957],\n",
       "        [ 39343],\n",
       "        [ 37731],\n",
       "        [ 55794],\n",
       "        [ 60150],\n",
       "        [ 66029],\n",
       "        [122391],\n",
       "        [ 83088],\n",
       "        [112635],\n",
       "        [ 43525],\n",
       "        [113812],\n",
       "        [139465],\n",
       "        [ 91738],\n",
       "        [ 56642],\n",
       "        [ 39891],\n",
       "        [ 81363],\n",
       "        [ 57189],\n",
       "        [ 46205]]),\n",
       " array([[116969],\n",
       "        [ 93940],\n",
       "        [109431],\n",
       "        [128765],\n",
       "        [ 57081],\n",
       "        [ 98273],\n",
       "        [105582],\n",
       "        [ 67938],\n",
       "        [ 61111],\n",
       "        [127345],\n",
       "        [ 63218]]))"
      ]
     },
     "execution_count": 6,
     "metadata": {},
     "output_type": "execute_result"
    }
   ],
   "source": [
    "# splitting the data into training and testing data\n",
    "train_x,test_x,train_y,test_y = train_test_split(real_x,real_y,test_size=0.3,random_state=99)\n",
    "train_x,test_x,train_y,test_y"
   ]
  },
  {
   "cell_type": "code",
   "execution_count": 7,
   "metadata": {
    "execution": {
     "iopub.execute_input": "2021-03-13T17:03:54.624705Z",
     "iopub.status.busy": "2021-03-13T17:03:54.624073Z",
     "iopub.status.idle": "2021-03-13T17:03:54.627248Z",
     "shell.execute_reply": "2021-03-13T17:03:54.627735Z"
    },
    "papermill": {
     "duration": 0.023428,
     "end_time": "2021-03-13T17:03:54.627970",
     "exception": false,
     "start_time": "2021-03-13T17:03:54.604542",
     "status": "completed"
    },
    "tags": []
   },
   "outputs": [],
   "source": [
    "# import the linear model\n",
    "from sklearn.linear_model import LinearRegression"
   ]
  },
  {
   "cell_type": "code",
   "execution_count": 8,
   "metadata": {
    "execution": {
     "iopub.execute_input": "2021-03-13T17:03:54.666271Z",
     "iopub.status.busy": "2021-03-13T17:03:54.665561Z",
     "iopub.status.idle": "2021-03-13T17:03:54.670288Z",
     "shell.execute_reply": "2021-03-13T17:03:54.669672Z"
    },
    "papermill": {
     "duration": 0.025396,
     "end_time": "2021-03-13T17:03:54.670447",
     "exception": false,
     "start_time": "2021-03-13T17:03:54.645051",
     "status": "completed"
    },
    "tags": []
   },
   "outputs": [],
   "source": [
    "lm = LinearRegression()"
   ]
  },
  {
   "cell_type": "code",
   "execution_count": 9,
   "metadata": {
    "execution": {
     "iopub.execute_input": "2021-03-13T17:03:54.717051Z",
     "iopub.status.busy": "2021-03-13T17:03:54.716320Z",
     "iopub.status.idle": "2021-03-13T17:03:54.729886Z",
     "shell.execute_reply": "2021-03-13T17:03:54.729229Z"
    },
    "papermill": {
     "duration": 0.042353,
     "end_time": "2021-03-13T17:03:54.730028",
     "exception": false,
     "start_time": "2021-03-13T17:03:54.687675",
     "status": "completed"
    },
    "tags": []
   },
   "outputs": [
    {
     "data": {
      "text/plain": [
       "LinearRegression()"
      ]
     },
     "execution_count": 9,
     "metadata": {},
     "output_type": "execute_result"
    }
   ],
   "source": [
    "lm.fit(train_x,train_y)"
   ]
  },
  {
   "cell_type": "markdown",
   "metadata": {
    "papermill": {
     "duration": 0.017322,
     "end_time": "2021-03-13T17:03:54.765026",
     "exception": false,
     "start_time": "2021-03-13T17:03:54.747704",
     "status": "completed"
    },
    "tags": []
   },
   "source": [
    "Here we have a formula like y = mx + c\n",
    "\n",
    "We can get the values of m by lm.intercept_\n",
    "\n",
    "we can get the values of c by lm.coef_"
   ]
  },
  {
   "cell_type": "code",
   "execution_count": 10,
   "metadata": {
    "execution": {
     "iopub.execute_input": "2021-03-13T17:03:54.805931Z",
     "iopub.status.busy": "2021-03-13T17:03:54.805236Z",
     "iopub.status.idle": "2021-03-13T17:03:54.809492Z",
     "shell.execute_reply": "2021-03-13T17:03:54.808863Z"
    },
    "papermill": {
     "duration": 0.026817,
     "end_time": "2021-03-13T17:03:54.809649",
     "exception": false,
     "start_time": "2021-03-13T17:03:54.782832",
     "status": "completed"
    },
    "tags": []
   },
   "outputs": [
    {
     "data": {
      "text/plain": [
       "array([[8677.88442295]])"
      ]
     },
     "execution_count": 10,
     "metadata": {},
     "output_type": "execute_result"
    }
   ],
   "source": [
    "#c\n",
    "lm.coef_"
   ]
  },
  {
   "cell_type": "code",
   "execution_count": 11,
   "metadata": {
    "execution": {
     "iopub.execute_input": "2021-03-13T17:03:54.848925Z",
     "iopub.status.busy": "2021-03-13T17:03:54.848260Z",
     "iopub.status.idle": "2021-03-13T17:03:54.853243Z",
     "shell.execute_reply": "2021-03-13T17:03:54.853715Z"
    },
    "papermill": {
     "duration": 0.026371,
     "end_time": "2021-03-13T17:03:54.853898",
     "exception": false,
     "start_time": "2021-03-13T17:03:54.827527",
     "status": "completed"
    },
    "tags": []
   },
   "outputs": [
    {
     "data": {
      "text/plain": [
       "array([29042.09727318])"
      ]
     },
     "execution_count": 11,
     "metadata": {},
     "output_type": "execute_result"
    }
   ],
   "source": [
    "#m\n",
    "lm.intercept_"
   ]
  },
  {
   "cell_type": "code",
   "execution_count": 12,
   "metadata": {
    "execution": {
     "iopub.execute_input": "2021-03-13T17:03:54.893939Z",
     "iopub.status.busy": "2021-03-13T17:03:54.893296Z",
     "iopub.status.idle": "2021-03-13T17:03:54.900225Z",
     "shell.execute_reply": "2021-03-13T17:03:54.899565Z"
    },
    "papermill": {
     "duration": 0.027972,
     "end_time": "2021-03-13T17:03:54.900372",
     "exception": false,
     "start_time": "2021-03-13T17:03:54.872400",
     "status": "completed"
    },
    "tags": []
   },
   "outputs": [
    {
     "data": {
      "text/plain": [
       "array([[111481.99929119],\n",
       "       [ 81109.40381087],\n",
       "       [104539.69175284],\n",
       "       [135780.07567545],\n",
       "       [ 64621.42340727],\n",
       "       [ 90655.07667612],\n",
       "       [107143.05707972],\n",
       "       [ 71563.73094563],\n",
       "       [ 68092.57717645],\n",
       "       [126234.40281021],\n",
       "       [ 62885.84652268]])"
      ]
     },
     "execution_count": 12,
     "metadata": {},
     "output_type": "execute_result"
    }
   ],
   "source": [
    "pred_y = lm.predict(test_x)\n",
    "pred_y"
   ]
  },
  {
   "cell_type": "code",
   "execution_count": 13,
   "metadata": {
    "execution": {
     "iopub.execute_input": "2021-03-13T17:03:54.943943Z",
     "iopub.status.busy": "2021-03-13T17:03:54.943261Z",
     "iopub.status.idle": "2021-03-13T17:03:54.945952Z",
     "shell.execute_reply": "2021-03-13T17:03:54.946382Z"
    },
    "papermill": {
     "duration": 0.027155,
     "end_time": "2021-03-13T17:03:54.946556",
     "exception": false,
     "start_time": "2021-03-13T17:03:54.919401",
     "status": "completed"
    },
    "tags": []
   },
   "outputs": [
    {
     "data": {
      "text/plain": [
       "array([[116969],\n",
       "       [ 93940],\n",
       "       [109431],\n",
       "       [128765],\n",
       "       [ 57081],\n",
       "       [ 98273],\n",
       "       [105582],\n",
       "       [ 67938],\n",
       "       [ 61111],\n",
       "       [127345],\n",
       "       [ 63218]])"
      ]
     },
     "execution_count": 13,
     "metadata": {},
     "output_type": "execute_result"
    }
   ],
   "source": [
    "test_y"
   ]
  },
  {
   "cell_type": "markdown",
   "metadata": {
    "papermill": {
     "duration": 0.018994,
     "end_time": "2021-03-13T17:03:54.985061",
     "exception": false,
     "start_time": "2021-03-13T17:03:54.966067",
     "status": "completed"
    },
    "tags": []
   },
   "source": [
    "We will plot both the training and testing data to understand from the visual perspective"
   ]
  },
  {
   "cell_type": "code",
   "execution_count": 14,
   "metadata": {
    "execution": {
     "iopub.execute_input": "2021-03-13T17:03:55.027054Z",
     "iopub.status.busy": "2021-03-13T17:03:55.026368Z",
     "iopub.status.idle": "2021-03-13T17:03:55.316563Z",
     "shell.execute_reply": "2021-03-13T17:03:55.315993Z"
    },
    "papermill": {
     "duration": 0.312301,
     "end_time": "2021-03-13T17:03:55.316723",
     "exception": false,
     "start_time": "2021-03-13T17:03:55.004422",
     "status": "completed"
    },
    "tags": []
   },
   "outputs": [
    {
     "data": {
      "image/png": "[encoded data removed]",
      "text/plain": [
       "<Figure size 432x288 with 1 Axes>"
      ]
     },
     "metadata": {
      "needs_background": "light"
     },
     "output_type": "display_data"
    }
   ],
   "source": [
    "plt.scatter(train_x,train_y,color='green')\n",
    "plt.plot(train_x, lm.predict(train_x),color = 'yellow')\n",
    "plt.title('training data vs predicted data on the training data')\n",
    "plt.xlabel('Exp')\n",
    "plt.ylabel('Salary')\n",
    "plt.show()"
   ]
  },
  {
   "cell_type": "code",
   "execution_count": 15,
   "metadata": {
    "execution": {
     "iopub.execute_input": "2021-03-13T17:03:55.381822Z",
     "iopub.status.busy": "2021-03-13T17:03:55.377848Z",
     "iopub.status.idle": "2021-03-13T17:03:55.527407Z",
     "shell.execute_reply": "2021-03-13T17:03:55.526868Z"
    },
    "papermill": {
     "duration": 0.190356,
     "end_time": "2021-03-13T17:03:55.527552",
     "exception": false,
     "start_time": "2021-03-13T17:03:55.337196",
     "status": "completed"
    },
    "tags": []
   },
   "outputs": [
    {
     "data": {
      "image/png": "[encoded data removed]",
      "text/plain": [
       "<Figure size 432x288 with 1 Axes>"
      ]
     },
     "metadata": {
      "needs_background": "light"
     },
     "output_type": "display_data"
    }
   ],
   "source": [
    "plt.scatter(test_x,test_y,color='green')\n",
    "plt.plot(train_x, lm.predict(train_x),color = 'yellow')\n",
    "plt.title('training data vs predicted data on the testing data')\n",
    "plt.xlabel('Exp')\n",
    "plt.ylabel('Salary')\n",
    "plt.show()"
   ]
  },
  {
   "cell_type": "code",
   "execution_count": 16,
   "metadata": {
    "execution": {
     "iopub.execute_input": "2021-03-13T17:03:55.576026Z",
     "iopub.status.busy": "2021-03-13T17:03:55.575097Z",
     "iopub.status.idle": "2021-03-13T17:03:55.577768Z",
     "shell.execute_reply": "2021-03-13T17:03:55.578256Z"
    },
    "papermill": {
     "duration": 0.029392,
     "end_time": "2021-03-13T17:03:55.578436",
     "exception": false,
     "start_time": "2021-03-13T17:03:55.549044",
     "status": "completed"
    },
    "tags": []
   },
   "outputs": [],
   "source": [
    "# Checking our prediction with the help of r2 score\n",
    "from sklearn.metrics import r2_score"
   ]
  },
  {
   "cell_type": "code",
   "execution_count": 17,
   "metadata": {
    "execution": {
     "iopub.execute_input": "2021-03-13T17:03:55.628999Z",
     "iopub.status.busy": "2021-03-13T17:03:55.627970Z",
     "iopub.status.idle": "2021-03-13T17:03:55.633098Z",
     "shell.execute_reply": "2021-03-13T17:03:55.632447Z"
    },
    "papermill": {
     "duration": 0.032564,
     "end_time": "2021-03-13T17:03:55.633241",
     "exception": false,
     "start_time": "2021-03-13T17:03:55.600677",
     "status": "completed"
    },
    "tags": []
   },
   "outputs": [
    {
     "data": {
      "text/plain": [
       "0.9386416210107729"
      ]
     },
     "execution_count": 17,
     "metadata": {},
     "output_type": "execute_result"
    }
   ],
   "source": [
    "r2 = r2_score(test_y, pred_y)\n",
    "r2"
   ]
  },
  {
   "cell_type": "code",
   "execution_count": 18,
   "metadata": {
    "execution": {
     "iopub.execute_input": "2021-03-13T17:03:55.684149Z",
     "iopub.status.busy": "2021-03-13T17:03:55.683103Z",
     "iopub.status.idle": "2021-03-13T17:03:55.687782Z",
     "shell.execute_reply": "2021-03-13T17:03:55.687135Z"
    },
    "papermill": {
     "duration": 0.032384,
     "end_time": "2021-03-13T17:03:55.687924",
     "exception": false,
     "start_time": "2021-03-13T17:03:55.655540",
     "status": "completed"
    },
    "tags": []
   },
   "outputs": [
    {
     "data": {
      "text/plain": [
       "(11, 1)"
      ]
     },
     "execution_count": 18,
     "metadata": {},
     "output_type": "execute_result"
    }
   ],
   "source": [
    "test_y.shape"
   ]
  },
  {
   "cell_type": "code",
   "execution_count": 19,
   "metadata": {
    "execution": {
     "iopub.execute_input": "2021-03-13T17:03:55.738400Z",
     "iopub.status.busy": "2021-03-13T17:03:55.737696Z",
     "iopub.status.idle": "2021-03-13T17:03:55.741363Z",
     "shell.execute_reply": "2021-03-13T17:03:55.742000Z"
    },
    "papermill": {
     "duration": 0.031834,
     "end_time": "2021-03-13T17:03:55.742183",
     "exception": false,
     "start_time": "2021-03-13T17:03:55.710349",
     "status": "completed"
    },
    "tags": []
   },
   "outputs": [
    {
     "data": {
      "text/plain": [
       "(11, 1)"
      ]
     },
     "execution_count": 19,
     "metadata": {},
     "output_type": "execute_result"
    }
   ],
   "source": [
    "pred_y.shape"
   ]
  },
  {
   "cell_type": "code",
   "execution_count": null,
   "metadata": {
    "papermill": {
     "duration": 0.022809,
     "end_time": "2021-03-13T17:03:55.788143",
     "exception": false,
     "start_time": "2021-03-13T17:03:55.765334",
     "status": "completed"
    },
    "tags": []
   },
   "outputs": [],
   "source": []
  }
 ],
 "metadata": {
  "kernelspec": {
   "display_name": "Python 3",
   "language": "python",
   "name": "python3"
  },
  "language_info": {
   "codemirror_mode": {
    "name": "ipython",
    "version": 3
   },
   "file_extension": ".py",
   "mimetype": "text/x-python",
   "name": "python",
   "nbconvert_exporter": "python",
   "pygments_lexer": "ipython3",
   "version": "3.7.9"
  },
  "papermill": {
   "default_parameters": {},
   "duration": 9.137351,
   "end_time": "2021-03-13T17:03:56.521796",
   "environment_variables": {},
   "exception": null,
   "input_path": "__notebook__.ipynb",
   "output_path": "__notebook__.ipynb",
   "parameters": {},
   "start_time": "2021-03-13T17:03:47.384445",
   "version": "2.2.2"
  }
 },
 "nbformat": 4,
 "nbformat_minor": 4
}
